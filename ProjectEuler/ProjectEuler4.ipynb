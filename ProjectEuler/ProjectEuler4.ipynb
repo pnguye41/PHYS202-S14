{
 "metadata": {
  "name": "",
  "signature": "sha256:6d23992b3cb7d2a698ecd8e999532a1a627a1086725b487c822ddb89610b3381"
 },
 "nbformat": 3,
 "nbformat_minor": 0,
 "worksheets": [
  {
   "cells": [
    {
     "cell_type": "heading",
     "level": 1,
     "metadata": {},
     "source": [
      "Largest Palindrome Product"
     ]
    },
    {
     "cell_type": "heading",
     "level": 3,
     "metadata": {},
     "source": [
      "Problem 4"
     ]
    },
    {
     "cell_type": "markdown",
     "metadata": {},
     "source": [
      "A palindromic number reads the same both ways. The largest palindrome made from the product of two 2-digit numbers is 9009 = 91 \u00d7 99.\n",
      "\n",
      "Find the largest palindrome made from the product of two 3-digit numbers."
     ]
    },
    {
     "cell_type": "code",
     "collapsed": false,
     "input": [
      "def palin(digits):\n",
      "    min = 10**(digits-1)\n",
      "    max = (10**(digits))-1\n",
      "    result = 0\n",
      "    a = 0\n",
      "    b = 0\n",
      "    for i in range(min,max+1):\n",
      "        for n in range(i+1,max+1):\n",
      "            if (i*n) > result and str(i*n)==(str(i*n)[::-1]):\n",
      "                result = i*n\n",
      "                a = i\n",
      "                b = n\n",
      "    return result,a,b\n",
      "\n",
      "print \"The largest palindrome made from the product of two 2-digit numbers is\",palin(2)[0],\"=\",palin(2)[1],\"x\",palin(2)[2]\n",
      "print \"The largest palindrome made from the product of two 3-digit numbers is\",palin(3)[0],\"=\",palin(3)[1],\"x\",palin(3)[2]"
     ],
     "language": "python",
     "metadata": {},
     "outputs": [
      {
       "output_type": "stream",
       "stream": "stdout",
       "text": [
        "The largest palindrome made from the product of two 2-digit numbers is 9009 = 91 x 99\n",
        "The largest palindrome made from the product of two 3-digit numbers is "
       ]
      },
      {
       "output_type": "stream",
       "stream": "stdout",
       "text": [
        "906609 = "
       ]
      },
      {
       "output_type": "stream",
       "stream": "stdout",
       "text": [
        "913 x "
       ]
      },
      {
       "output_type": "stream",
       "stream": "stdout",
       "text": [
        "993\n"
       ]
      }
     ],
     "prompt_number": 34
    },
    {
     "cell_type": "code",
     "collapsed": false,
     "input": [],
     "language": "python",
     "metadata": {},
     "outputs": []
    }
   ],
   "metadata": {}
  }
 ]
}