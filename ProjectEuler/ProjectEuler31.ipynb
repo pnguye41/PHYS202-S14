{
 "metadata": {
  "name": "",
  "signature": "sha256:c58cc4c7eb5e0f2f1b888d32fb554b0e640e3d08aa656953750b496c24b0c9ab"
 },
 "nbformat": 3,
 "nbformat_minor": 0,
 "worksheets": [
  {
   "cells": [
    {
     "cell_type": "heading",
     "level": 1,
     "metadata": {},
     "source": [
      "Coin Sums"
     ]
    },
    {
     "cell_type": "heading",
     "level": 3,
     "metadata": {},
     "source": [
      "Problem 31"
     ]
    },
    {
     "cell_type": "markdown",
     "metadata": {},
     "source": [
      "In England the currency is made up of pound, \u00a3, and pence, p, and there are eight coins in general circulation:\n",
      "\n",
      "1p, 2p, 5p, 10p, 20p, 50p, \u00a31 (100p) and \u00a32 (200p).\n",
      "\n",
      "It is possible to make \u00a32 in the following way:\n",
      "\n",
      "1\u00d7\u00a31 + 1\u00d750p + 2\u00d720p + 1\u00d75p + 1\u00d72p + 3\u00d71p\n",
      "\n",
      "How many different ways can \u00a32 be made using any number of coins?"
     ]
    },
    {
     "cell_type": "heading",
     "level": 4,
     "metadata": {},
     "source": [
      "Solution Code"
     ]
    },
    {
     "cell_type": "markdown",
     "metadata": {},
     "source": [
      "*Explanation of my code*\n",
      "\n",
      "We start with a list of 200 zeros named 'combos'. By the end, this list will represent the combinations possible for making every value from 0p to 200p. To answer the question, we need to fill in the list properly and return the 201st value (because the first value corresponds to 0p). For each coin type, this code tries to reach 200p by using all the possible combinations of coin types with values less than the current coin type."
     ]
    },
    {
     "cell_type": "code",
     "collapsed": false,
     "input": [
      "coins = [1,2,5,10,20,50,100,200]\n",
      "\n",
      "\"\"\" The list 'combos' represents combos of making every value 0-200.\n",
      "    Start with 1 way to make 0 out of nothing;\n",
      "    0 ways to make anything else\"\"\"\n",
      "combos = [1] + [0]*200\n",
      "\n",
      "\"\"\" Loop over all coin types.\n",
      "    Check what values between the coin value and 200 each coin can make.\n",
      "    Add the number of combinations to reach each value needed to the list at the index of each value.\"\"\"\n",
      "\n",
      "for coin in coins:\n",
      "    for i in range(coin, 201):\n",
      "        combos[i] += combos[i - coin]\n",
      "\n",
      "print 'This is the list of combinations for every \"total\" desirable up to 200:\\n\\n',combos"
     ],
     "language": "python",
     "metadata": {},
     "outputs": [
      {
       "output_type": "stream",
       "stream": "stdout",
       "text": [
        "This is the list of combinations for every \"total\" desirable up to 200:\n",
        "\n",
        "[1, 1, 2, 2, 3, 4, 5, 6, 7, 8, 11, 12, 15, 16, 19, 22, 25, 28, 31, 34, 41, 44, 51, 54, 61, 68, 75, 82, 89, 96, 109, 116, 129, 136, 149, 162, 175, 188, 201, 214, 236, 249, 271, 284, 306, 328, 350, 372, 394, 416, 451, 473, 508, 530, 565, 600, 635, 670, 705, 740, 793, 828, 881, 916, 969, 1022, 1075, 1128, 1181, 1234, 1311, 1364, 1441, 1494, 1571, 1648, 1725, 1802, 1879, 1956, 2064, 2141, 2249, 2326, 2434, 2542, 2650, 2758, 2866, 2974, 3121, 3229, 3376, 3484, 3631, 3778, 3925, 4072, 4219, 4366, 4563, 4710, 4907, 5054, 5251, 5448, 5645, 5842, 6039, 6236, 6495, 6692, 6951, 7148, 7407, 7666, 7925, 8184, 8443, 8702, 9038, 9297, 9633, 9892, 10228, 10564, 10900, 11236, 11572, 11908, 12337, 12673, 13102, 13438, 13867, 14296, 14725, 15154, 15583, 16012, 16553, 16982, 17523, 17952, 18493, 19034, 19575, 20116, 20657, 21198, 21873, 22414, 23089, 23630, 24305, 24980, 25655, 26330, 27005, 27680, 28514, 29189, 30023, 30698, 31532, 32366, 33200, 34034, 34868, 35702, 36723, 37557, 38578, 39412, 40433, 41454, 42475, 43496, 44517, 45538, 46777, 47798, 49037, 50058, 51297, 52536, 53775, 55014, 56253, 57492, 58983, 60222, 61713, 62952, 64443, 65934, 67425, 68916, 70407, 71898, 73682]\n"
       ]
      }
     ],
     "prompt_number": 6
    },
    {
     "cell_type": "heading",
     "level": 4,
     "metadata": {},
     "source": [
      "Example: Making 5p"
     ]
    },
    {
     "cell_type": "markdown",
     "metadata": {},
     "source": [
      "There are 4 ways to make 5p:\n",
      "\n",
      "5x1p\n",
      "\n",
      "1x2p + 3x1p\n",
      "\n",
      "2x2p + 1p\n",
      "\n",
      "1x5p"
     ]
    },
    {
     "cell_type": "code",
     "collapsed": false,
     "input": [
      "print 'There are %s ways to make %sp.' % (combos[5], 5)"
     ],
     "language": "python",
     "metadata": {},
     "outputs": [
      {
       "output_type": "stream",
       "stream": "stdout",
       "text": [
        "There are 4 ways to make 5p.\n"
       ]
      }
     ],
     "prompt_number": 2
    },
    {
     "cell_type": "heading",
     "level": 4,
     "metadata": {},
     "source": [
      "Solution"
     ]
    },
    {
     "cell_type": "code",
     "collapsed": false,
     "input": [
      "print 'There are %s ways to make %sp.' % (combos[200], 200)"
     ],
     "language": "python",
     "metadata": {},
     "outputs": [
      {
       "output_type": "stream",
       "stream": "stdout",
       "text": [
        "There are 73682 ways to make 200p.\n"
       ]
      }
     ],
     "prompt_number": 2
    }
   ],
   "metadata": {}
  }
 ]
}