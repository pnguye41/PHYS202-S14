{
 "metadata": {
  "name": "",
  "signature": "sha256:2ee52abffde8e2f091d5f2f4a2918d5dcfe19d725219f8ac8cf4c4731089554e"
 },
 "nbformat": 3,
 "nbformat_minor": 0,
 "worksheets": [
  {
   "cells": [
    {
     "cell_type": "heading",
     "level": 1,
     "metadata": {},
     "source": [
      "Number Letter Counts"
     ]
    },
    {
     "cell_type": "heading",
     "level": 3,
     "metadata": {},
     "source": [
      "Problem 17"
     ]
    },
    {
     "cell_type": "markdown",
     "metadata": {},
     "source": [
      "If the numbers 1 to 5 are written out in words: one, two, three, four, five, then there are 3 + 3 + 5 + 4 + 4 = 19 letters used in total.\n",
      "\n",
      "If all the numbers from 1 to 1000 (one thousand) inclusive were written out in words, how many letters would be used?\n",
      "\n",
      "\n",
      "NOTE: Do not count spaces or hyphens. For example, 342 (three hundred and forty-two) contains 23 letters and 115 (one hundred and fifteen) contains 20 letters. The use of \"and\" when writing out numbers is in compliance with British usage."
     ]
    },
    {
     "cell_type": "heading",
     "level": 3,
     "metadata": {},
     "source": [
      "Solution Code"
     ]
    },
    {
     "cell_type": "code",
     "collapsed": false,
     "input": [
      "ones = ['one','two','three','four','five','six','seven','eight','nine','']\n",
      "teens = ['eleven','twelve','thirteen','fourteen','fifteen','sixteen','seventeen','eighteen','nineteen']\n",
      "tens = ['ten','twenty','thirty','forty','fifty','sixty','seventy','eighty','ninety','']\n",
      "\n",
      "def wordify(num):\n",
      "    lst = [0,0,0,0]\n",
      "    word = []\n",
      "    for i in str(num):\n",
      "        lst.append(i)\n",
      "    if num == 1000:\n",
      "        word = ['onethousand']\n",
      "    else:\n",
      "        word.append(ones[int(lst[-3])-1])\n",
      "        if num in range(100,1000):\n",
      "            word.append('hundred')\n",
      "            if num % 100 != 0:\n",
      "                word.append('and')\n",
      "        word.append(tens[int(lst[-2])-1])\n",
      "        word.append(ones[int(lst[-1])-1])\n",
      "        if word[-2] == 'ten' and word[-1] != '':\n",
      "            word[-2] = ''\n",
      "            word[-1] = teens[(num-11) % 100]\n",
      "    return len(\"\".join(word))\n",
      "\n",
      "def NumLetCount(start,stop):\n",
      "    numbers = range(start,stop+1)\n",
      "    count = 0\n",
      "    for number in numbers:\n",
      "        count += wordify(number)\n",
      "    return count"
     ],
     "language": "python",
     "metadata": {},
     "outputs": [],
     "prompt_number": 1
    },
    {
     "cell_type": "heading",
     "level": 3,
     "metadata": {},
     "source": [
      "Test Case"
     ]
    },
    {
     "cell_type": "code",
     "collapsed": false,
     "input": [
      "print NumLetCount(1,5)"
     ],
     "language": "python",
     "metadata": {},
     "outputs": [
      {
       "output_type": "stream",
       "stream": "stdout",
       "text": [
        "19\n"
       ]
      }
     ],
     "prompt_number": 2
    },
    {
     "cell_type": "heading",
     "level": 3,
     "metadata": {},
     "source": [
      "Solution Case"
     ]
    },
    {
     "cell_type": "code",
     "collapsed": false,
     "input": [
      "print NumLetCount(1,1000)"
     ],
     "language": "python",
     "metadata": {},
     "outputs": [
      {
       "output_type": "stream",
       "stream": "stdout",
       "text": [
        "21124\n"
       ]
      }
     ],
     "prompt_number": 3
    }
   ],
   "metadata": {}
  }
 ]
}