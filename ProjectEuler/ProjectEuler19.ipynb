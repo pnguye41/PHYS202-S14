{
 "metadata": {
  "name": "",
  "signature": "sha256:bb972bd4098b36d16c4188639505c5754c5f28cec60a247bc8e8142223732d8f"
 },
 "nbformat": 3,
 "nbformat_minor": 0,
 "worksheets": [
  {
   "cells": [
    {
     "cell_type": "heading",
     "level": 1,
     "metadata": {},
     "source": [
      "Counting Sundays"
     ]
    },
    {
     "cell_type": "heading",
     "level": 3,
     "metadata": {},
     "source": [
      "Problem 19"
     ]
    },
    {
     "cell_type": "markdown",
     "metadata": {},
     "source": [
      "You are given the following information, but you may prefer to do some research for yourself.\n",
      "\n",
      "* 1 Jan 1900 was a Monday.\n",
      "\n",
      "\n",
      "* Thirty days has September,\n",
      "  \n",
      "  April, June and November.\n",
      "    \n",
      "  All the rest have thirty-one,\n",
      "   \n",
      "  Saving February alone,\n",
      "   \n",
      "  Which has twenty-eight, rain or shine.\n",
      "   \n",
      "  And on leap years, twenty-nine.\n",
      "  \n",
      "    \n",
      "* A leap year occurs on any year evenly divisible by 4, but not on a century unless it is divisible by 400.\n",
      "\n",
      "\n",
      "**How many Sundays fell on the first of the month during the twentieth century (1 Jan 1901 to 31 Dec 2000)?**"
     ]
    },
    {
     "cell_type": "heading",
     "level": 3,
     "metadata": {},
     "source": [
      "Solution Code"
     ]
    },
    {
     "cell_type": "code",
     "collapsed": false,
     "input": [
      "years = range(1901,2001)\n",
      "months = range(1,13)"
     ],
     "language": "python",
     "metadata": {},
     "outputs": [],
     "prompt_number": 4
    },
    {
     "cell_type": "heading",
     "level": 3,
     "metadata": {},
     "source": [
      "Test Case"
     ]
    },
    {
     "cell_type": "code",
     "collapsed": false,
     "input": [],
     "language": "python",
     "metadata": {},
     "outputs": [],
     "prompt_number": 0
    },
    {
     "cell_type": "heading",
     "level": 3,
     "metadata": {},
     "source": [
      "Solution Case"
     ]
    },
    {
     "cell_type": "code",
     "collapsed": false,
     "input": [],
     "language": "python",
     "metadata": {},
     "outputs": []
    }
   ],
   "metadata": {}
  }
 ]
}