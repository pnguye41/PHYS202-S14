{
 "metadata": {
  "name": "",
  "signature": "sha256:864b2f843bb63e19b0daca7874b6d3191ed4f64376d5a465ed7ce49add629990"
 },
 "nbformat": 3,
 "nbformat_minor": 0,
 "worksheets": [
  {
   "cells": [
    {
     "cell_type": "heading",
     "level": 1,
     "metadata": {},
     "source": [
      "Counting Sundays"
     ]
    },
    {
     "cell_type": "heading",
     "level": 3,
     "metadata": {},
     "source": [
      "Problem 19"
     ]
    },
    {
     "cell_type": "markdown",
     "metadata": {},
     "source": [
      "You are given the following information, but you may prefer to do some research for yourself.\n",
      "\n",
      "* 1 Jan 1900 was a Monday.\n",
      "\n",
      "\n",
      "* Thirty days has September,\n",
      "  \n",
      "  April, June and November.\n",
      "    \n",
      "  All the rest have thirty-one,\n",
      "   \n",
      "  Saving February alone,\n",
      "   \n",
      "  Which has twenty-eight, rain or shine.\n",
      "   \n",
      "  And on leap years, twenty-nine.\n",
      "  \n",
      "    \n",
      "* A leap year occurs on any year evenly divisible by 4, but not on a century unless it is divisible by 400.\n",
      "\n",
      "\n",
      "**How many Sundays fell on the first of the month during the twentieth century (1 Jan 1901 to 31 Dec 2000)?**"
     ]
    },
    {
     "cell_type": "heading",
     "level": 3,
     "metadata": {},
     "source": [
      "Solution Code"
     ]
    },
    {
     "cell_type": "code",
     "collapsed": false,
     "input": [
      "import numpy as np\n",
      "\n",
      "def first_day_sundays(max_year):\n",
      "    day_lst = []\n",
      "    years = range(1901,max_year + 1)\n",
      "    months = (31,28,31,30,31,30,31,31,30,31,30,31) + np.zeros((len(years),12))\n",
      "    for year in years:\n",
      "        if year % 400 == 0:\n",
      "                months[year-1901][1] = 29\n",
      "        elif year % 4 == 0 and year % 100 != 0:\n",
      "                months[year-1901][1] = 29\n",
      "    for row in months:\n",
      "        for col in row:\n",
      "            for day in range(1,int(col+1)):\n",
      "                day_lst.append(day)\n",
      "    sundays = [day_lst[x] for x in range(1,len(day_lst)) if (x + 2) % 7 == 0]\n",
      "    first_day_sundays = [x for x in sundays if x == 1]\n",
      "    if max_year != 1901:\n",
      "        print 'Between the years 1901 and %s, there are %s Sundays, %s of which are on \\\n",
      "the first day of a month.' % (max_year, len(sundays), len(first_day_sundays))\n",
      "    else: print 'In 1901, there are %s Sundays, %s of which are on \\\n",
      "the first day of a month.' % (len(sundays), len(first_day_sundays))"
     ],
     "language": "python",
     "metadata": {},
     "outputs": [],
     "prompt_number": 147
    },
    {
     "cell_type": "heading",
     "level": 3,
     "metadata": {},
     "source": [
      "Test Case"
     ]
    },
    {
     "cell_type": "code",
     "collapsed": false,
     "input": [
      "first_day_sundays(1901)\n",
      "first_day_sundays(1902)"
     ],
     "language": "python",
     "metadata": {},
     "outputs": [
      {
       "output_type": "stream",
       "stream": "stdout",
       "text": [
        "In 1901, there are 52 Sundays, 2 of which are on the first day of a month.\n",
        "Between the years 1901 and 1902, there are 104 Sundays, 3 of which are on the first day of a month.\n"
       ]
      }
     ],
     "prompt_number": 150
    },
    {
     "cell_type": "heading",
     "level": 3,
     "metadata": {},
     "source": [
      "Solution Case"
     ]
    },
    {
     "cell_type": "code",
     "collapsed": false,
     "input": [
      "first_day_sundays(2000)"
     ],
     "language": "python",
     "metadata": {},
     "outputs": [
      {
       "output_type": "stream",
       "stream": "stdout",
       "text": [
        "Between the years 1901 and 2000, there are 5218 Sundays, 171 of which are on the first day of a month.\n"
       ]
      }
     ],
     "prompt_number": 151
    }
   ],
   "metadata": {}
  }
 ]
}