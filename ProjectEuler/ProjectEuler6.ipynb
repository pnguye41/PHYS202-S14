{
 "metadata": {
  "name": "",
  "signature": "sha256:5e7105427cb6b6407f411df8735fc2bb2b29b9657af5cb2c24d37e5eb8a5ada3"
 },
 "nbformat": 3,
 "nbformat_minor": 0,
 "worksheets": [
  {
   "cells": [
    {
     "cell_type": "heading",
     "level": 1,
     "metadata": {},
     "source": [
      "Sum Square Difference"
     ]
    },
    {
     "cell_type": "heading",
     "level": 3,
     "metadata": {},
     "source": [
      "Problem 6"
     ]
    },
    {
     "cell_type": "markdown",
     "metadata": {},
     "source": [
      "The sum of the squares of the first ten natural numbers is,\n",
      "\n",
      "$1^2 + 2^2 + ... + 10^2 = 385$\n",
      "\n",
      "The square of the sum of the first ten natural numbers is,\n",
      "\n",
      "$(1 + 2 + ... + 10)^2 = 552 = 3025$\n",
      "\n",
      "Hence the difference between the sum of the squares of the first ten natural numbers and the square of the sum is 3025 \u2212 385 = 2640.\n",
      "\n",
      "Find the difference between the sum of the squares of the first one hundred natural numbers and the square of the sum."
     ]
    },
    {
     "cell_type": "code",
     "collapsed": false,
     "input": [
      "lst = range(1,101)\n",
      "\n",
      "def sum_sq(lst):\n",
      "    squares = []\n",
      "    for n in lst:\n",
      "        squares.append(n ** 2)\n",
      "    return sum(squares)\n",
      "\n",
      "def sq_sum(lst):\n",
      "    sq_sum = sum(lst) ** 2\n",
      "    return sq_sum\n",
      "\n",
      "print sum_sq(lst)\n",
      "print sq_sum(lst)"
     ],
     "language": "python",
     "metadata": {},
     "outputs": [
      {
       "output_type": "stream",
       "stream": "stdout",
       "text": [
        "338350\n",
        "25502500\n"
       ]
      }
     ],
     "prompt_number": 9
    },
    {
     "cell_type": "code",
     "collapsed": false,
     "input": [],
     "language": "python",
     "metadata": {},
     "outputs": []
    }
   ],
   "metadata": {}
  }
 ]
}