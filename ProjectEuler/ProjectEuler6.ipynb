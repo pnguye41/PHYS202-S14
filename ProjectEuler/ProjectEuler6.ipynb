{
 "metadata": {
  "name": "",
  "signature": "sha256:52df1f115179c95e13098d7db5fb49ed2f0ffcb1e987a1394a7240c7712c1430"
 },
 "nbformat": 3,
 "nbformat_minor": 0,
 "worksheets": [
  {
   "cells": [
    {
     "cell_type": "heading",
     "level": 1,
     "metadata": {},
     "source": [
      "Sum Square Difference"
     ]
    },
    {
     "cell_type": "heading",
     "level": 3,
     "metadata": {},
     "source": [
      "Problem 6"
     ]
    },
    {
     "cell_type": "markdown",
     "metadata": {},
     "source": [
      "The sum of the squares of the first ten natural numbers is,\n",
      "\n",
      "$1^2 + 2^2 + ... + 10^2 = 385$\n",
      "\n",
      "The square of the sum of the first ten natural numbers is,\n",
      "\n",
      "$(1 + 2 + ... + 10)^2 = 552 = 3025$\n",
      "\n",
      "Hence the difference between the sum of the squares of the first ten natural numbers and the square of the sum is 3025 \u2212 385 = 2640.\n",
      "\n",
      "Find the difference between the sum of the squares of the first one hundred natural numbers and the square of the sum."
     ]
    },
    {
     "cell_type": "heading",
     "level": 4,
     "metadata": {},
     "source": [
      "Solution Code"
     ]
    },
    {
     "cell_type": "code",
     "collapsed": false,
     "input": [
      "def sum_sq(n):\n",
      "    lst = range(1,n+1)\n",
      "    squares = []\n",
      "    for n in lst:\n",
      "        squares.append(n ** 2)\n",
      "    return sum(squares)\n",
      "\n",
      "def sq_sum(n):\n",
      "    lst = range(1,n+1)\n",
      "    sq_sum = sum(lst) ** 2\n",
      "    return sq_sum\n",
      "\n",
      "def diff(n):\n",
      "    diff = sq_sum(n) - sum_sq(n)\n",
      "    return diff"
     ],
     "language": "python",
     "metadata": {},
     "outputs": [],
     "prompt_number": 7
    },
    {
     "cell_type": "heading",
     "level": 4,
     "metadata": {},
     "source": [
      "Base Case"
     ]
    },
    {
     "cell_type": "code",
     "collapsed": false,
     "input": [
      "print sum_sq(10)\n",
      "print sq_sum(10)\n",
      "print diff(10)"
     ],
     "language": "python",
     "metadata": {},
     "outputs": [
      {
       "output_type": "stream",
       "stream": "stdout",
       "text": [
        "385\n",
        "3025\n",
        "2640\n"
       ]
      }
     ],
     "prompt_number": 10
    },
    {
     "cell_type": "heading",
     "level": 4,
     "metadata": {},
     "source": [
      "Solution"
     ]
    },
    {
     "cell_type": "code",
     "collapsed": false,
     "input": [
      "print sum_sq(100)\n",
      "print sq_sum(100)\n",
      "print diff(100)"
     ],
     "language": "python",
     "metadata": {},
     "outputs": [
      {
       "output_type": "stream",
       "stream": "stdout",
       "text": [
        "338350\n",
        "25502500\n",
        "25164150\n"
       ]
      }
     ],
     "prompt_number": 9
    },
    {
     "cell_type": "code",
     "collapsed": false,
     "input": [],
     "language": "python",
     "metadata": {},
     "outputs": []
    }
   ],
   "metadata": {}
  }
 ]
}