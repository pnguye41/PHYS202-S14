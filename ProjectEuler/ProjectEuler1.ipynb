{
 "metadata": {
  "name": "",
  "signature": "sha256:7188925227693c1f502202c496061693f0cc3c880e4e158e656801628b5c6c56"
 },
 "nbformat": 3,
 "nbformat_minor": 0,
 "worksheets": [
  {
   "cells": [
    {
     "cell_type": "heading",
     "level": 1,
     "metadata": {},
     "source": [
      "Multiples of 3 and 5"
     ]
    },
    {
     "cell_type": "heading",
     "level": 3,
     "metadata": {},
     "source": [
      "Problem 1"
     ]
    },
    {
     "cell_type": "markdown",
     "metadata": {},
     "source": [
      "If we list all the natural numbers below 10 that are multiples of 3 or 5, we get 3, 5, 6 and 9. The sum of these multiples is 23.\n",
      "\n",
      "Find the sum of all the multiples of 3 or 5 below 1000."
     ]
    },
    {
     "cell_type": "markdown",
     "metadata": {},
     "source": [
      "Driver: Philippe Nguyen\n",
      "\n",
      "Navigator: Peter Nelson and Ed Izaguirre"
     ]
    },
    {
     "cell_type": "code",
     "collapsed": false,
     "input": [
      "numbers = []\n",
      "def total(a):\n",
      "    for i in range(a):\n",
      "        if i % 3 == 0 or i % 5 == 0:\n",
      "            numbers.append(i)\n",
      "    return sum(numbers)\n",
      "print total(1000)"
     ],
     "language": "python",
     "metadata": {},
     "outputs": [
      {
       "output_type": "stream",
       "stream": "stdout",
       "text": [
        "233168\n"
       ]
      }
     ],
     "prompt_number": 12
    }
   ],
   "metadata": {}
  }
 ]
}