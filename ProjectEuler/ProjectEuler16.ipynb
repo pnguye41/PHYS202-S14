{
 "metadata": {
  "name": "",
  "signature": "sha256:43f6084d08bdadd7321e28fbff04dfd216b44c139b71c9996401d3ab1596dd3e"
 },
 "nbformat": 3,
 "nbformat_minor": 0,
 "worksheets": [
  {
   "cells": [
    {
     "cell_type": "heading",
     "level": 1,
     "metadata": {},
     "source": [
      "Power digit sum"
     ]
    },
    {
     "cell_type": "heading",
     "level": 2,
     "metadata": {},
     "source": [
      "Problem 16"
     ]
    },
    {
     "cell_type": "markdown",
     "metadata": {},
     "source": [
      "2^15 = 32768 and the sum of its digits is 3 + 2 + 7 + 6 + 8 = 26.\n",
      "\n",
      "What is the sum of the digits of the number 2^1000?"
     ]
    },
    {
     "cell_type": "code",
     "collapsed": false,
     "input": [
      "digit_sum = 0\n",
      "digits = str(2**1000)\n",
      "for digit in digits:\n",
      "    digit_sum += int(digit)\n",
      "print 'The sum of the digits of 2^1000 is', digit_sum"
     ],
     "language": "python",
     "metadata": {},
     "outputs": [
      {
       "output_type": "stream",
       "stream": "stdout",
       "text": [
        "The sum of the digits of 2^1000 is 1366\n"
       ]
      }
     ],
     "prompt_number": 18
    },
    {
     "cell_type": "code",
     "collapsed": false,
     "input": [],
     "language": "python",
     "metadata": {},
     "outputs": []
    }
   ],
   "metadata": {}
  }
 ]
}