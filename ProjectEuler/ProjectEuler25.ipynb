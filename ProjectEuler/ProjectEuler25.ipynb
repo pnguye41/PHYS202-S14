{
 "metadata": {
  "name": "",
  "signature": "sha256:bf596ca1d555308aa9d312df4515925e0db75041ea39971c6902fb0af6b30bb3"
 },
 "nbformat": 3,
 "nbformat_minor": 0,
 "worksheets": [
  {
   "cells": [
    {
     "cell_type": "heading",
     "level": 1,
     "metadata": {},
     "source": [
      "1000-digit Fibonacci number"
     ]
    },
    {
     "cell_type": "heading",
     "level": 3,
     "metadata": {},
     "source": [
      "Problem 25"
     ]
    },
    {
     "cell_type": "markdown",
     "metadata": {},
     "source": [
      "The Fibonacci sequence is defined by the recurrence relation:\n",
      "\n",
      "    Fn = Fn\u22121 + Fn\u22122, where F1 = 1 and F2 = 1.\n",
      "\n",
      "Hence the first 12 terms will be:\n",
      "\n",
      "    F1 = 1\n",
      "\n",
      "    F2 = 1\n",
      "\n",
      "    F3 = 2\n",
      "\n",
      "    F4 = 3\n",
      "\n",
      "    F5 = 5\n",
      "\n",
      "    F6 = 8\n",
      "\n",
      "    F7 = 13\n",
      "\n",
      "    F8 = 21\n",
      "\n",
      "    F9 = 34\n",
      "\n",
      "    F10 = 55\n",
      "\n",
      "    F11 = 89\n",
      "\n",
      "    F12 = 144\n",
      "\n",
      "The 12th term, F12, is the first term to contain three digits.\n",
      "\n",
      "**What is the first term in the Fibonacci sequence to contain 1000 digits?**"
     ]
    },
    {
     "cell_type": "heading",
     "level": 3,
     "metadata": {},
     "source": [
      "Solution Code"
     ]
    },
    {
     "cell_type": "code",
     "collapsed": false,
     "input": [
      "def fib_dig(digits):\n",
      "    #Returns first Fibonacci number with requested number of digits\n",
      "    if digits == 1:\n",
      "        print 'The 1st term, 1, is the first term to contain 1 digit.'\n",
      "        return \n",
      "    fib = [1,1,2]\n",
      "    term = 3\n",
      "    while len(str(fib[2])) < digits:\n",
      "        fib[0] = fib[1]\n",
      "        fib[1] = fib[2]\n",
      "        fib[2] = fib[0] + fib[1]\n",
      "        term += 1\n",
      "    print 'The %sth term, %s, is the first term to contain %s digits.' % (term, fib[2], digits)"
     ],
     "language": "python",
     "metadata": {},
     "outputs": [],
     "prompt_number": 15
    },
    {
     "cell_type": "heading",
     "level": 3,
     "metadata": {},
     "source": [
      "Test Case"
     ]
    },
    {
     "cell_type": "code",
     "collapsed": false,
     "input": [
      "fib_dig(1)\n",
      "fib_dig(3)"
     ],
     "language": "python",
     "metadata": {},
     "outputs": [
      {
       "output_type": "stream",
       "stream": "stdout",
       "text": [
        "The 1st term, 1, is the first term to contain 1 digit.\n",
        "The 12th term, 144, is the first term to contain 3 digits.\n"
       ]
      }
     ],
     "prompt_number": 16
    },
    {
     "cell_type": "heading",
     "level": 3,
     "metadata": {},
     "source": [
      "Solution Case"
     ]
    },
    {
     "cell_type": "code",
     "collapsed": false,
     "input": [
      "fib_dig(1000)"
     ],
     "language": "python",
     "metadata": {},
     "outputs": [
      {
       "output_type": "stream",
       "stream": "stdout",
       "text": [
        "The 4782th term, 1070066266382758936764980584457396885083683896632151665013235203375314520604694040621889147582489792657804694888177591957484336466672569959512996030461262748092482186144069433051234774442750273781753087579391666192149259186759553966422837148943113074699503439547001985432609723067290192870526447243726117715821825548491120525013201478612965931381792235559657452039506137551467837543229119602129934048260706175397706847068202895486902666185435124521900369480641357447470911707619766945691070098024393439617474103736912503231365532164773697023167755051595173518460579954919410967778373229665796581646513903488154256310184224190259846088000110186255550245493937113651657039447629584714548523425950428582425306083544435428212611008992863795048006894330309773217834864543113205765659868456288616808718693835297350643986297640660000723562917905207051164077614812491885830945940566688339109350944456576357666151619317753792891661581327159616877487983821820492520348473874384736771934512787029218636250627816, is the first term to contain 1000 digits.\n"
       ]
      }
     ],
     "prompt_number": 17
    },
    {
     "cell_type": "code",
     "collapsed": false,
     "input": [],
     "language": "python",
     "metadata": {},
     "outputs": []
    }
   ],
   "metadata": {}
  }
 ]
}