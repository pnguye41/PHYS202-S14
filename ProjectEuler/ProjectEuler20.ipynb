{
 "metadata": {
  "name": "",
  "signature": "sha256:179d63f1f6f3a53d6d72ef5245e2a6737cb52e4c3a315fb4e7132710b0200af8"
 },
 "nbformat": 3,
 "nbformat_minor": 0,
 "worksheets": [
  {
   "cells": [
    {
     "cell_type": "heading",
     "level": 1,
     "metadata": {},
     "source": [
      "Factorial Digit Sum"
     ]
    },
    {
     "cell_type": "heading",
     "level": 3,
     "metadata": {},
     "source": [
      "Problem 20"
     ]
    },
    {
     "cell_type": "markdown",
     "metadata": {},
     "source": [
      "n! means n \u00d7 (n \u2212 1) \u00d7 ... \u00d7 3 \u00d7 2 \u00d7 1\n",
      "\n",
      "For example, 10! = 10 \u00d7 9 \u00d7 ... \u00d7 3 \u00d7 2 \u00d7 1 = 3628800,\n",
      "and the sum of the digits in the number 10! is 3 + 6 + 2 + 8 + 8 + 0 + 0 = 27.\n",
      "\n",
      "Find the sum of the digits in the number 100!"
     ]
    },
    {
     "cell_type": "code",
     "collapsed": false,
     "input": [
      "def factDigSum(n):\n",
      "    factor = 1\n",
      "    for i in range(2,n+1):\n",
      "        factor = factor * i\n",
      "    digits = [int(i) for i in str(factor)]\n",
      "    return sum(digits)\n",
      "\n",
      "print \"The sum of the digits in the number 10! is\",factDigSum(10)\n",
      "print \"The sum of the digits in the number 100! is\",factDigSum(100)"
     ],
     "language": "python",
     "metadata": {},
     "outputs": [
      {
       "output_type": "stream",
       "stream": "stdout",
       "text": [
        "The sum of the digits in the number 10! is 27\n",
        "The sum of the digits in the number 100! is 648\n"
       ]
      }
     ],
     "prompt_number": 58
    }
   ],
   "metadata": {}
  }
 ]
}