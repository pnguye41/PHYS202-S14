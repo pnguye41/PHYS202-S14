{
 "metadata": {
  "name": "",
  "signature": "sha256:e2da1d89067344c0d4d74658544fac8efa9f6e1ea8ab0ff4d80fa026d6de803c"
 },
 "nbformat": 3,
 "nbformat_minor": 0,
 "worksheets": [
  {
   "cells": [
    {
     "cell_type": "heading",
     "level": 1,
     "metadata": {},
     "source": [
      "Practice Notebook"
     ]
    },
    {
     "cell_type": "markdown",
     "metadata": {},
     "source": [
      "**Lalalalalala.**  *Trololol.* \n",
      "\n",
      "* a list\n",
      "* another list\n",
      "* much list"
     ]
    },
    {
     "cell_type": "code",
     "collapsed": false,
     "input": [
      "print \"My first notebook\"\n",
      "print \"I'm hungry.\""
     ],
     "language": "python",
     "metadata": {},
     "outputs": [
      {
       "output_type": "stream",
       "stream": "stdout",
       "text": [
        "My first notebook\n",
        "Another line\n"
       ]
      }
     ],
     "prompt_number": 1
    },
    {
     "cell_type": "code",
     "collapsed": false,
     "input": [
      "a = 1000"
     ],
     "language": "python",
     "metadata": {},
     "outputs": [],
     "prompt_number": 6
    },
    {
     "cell_type": "code",
     "collapsed": false,
     "input": [
      "print a "
     ],
     "language": "python",
     "metadata": {},
     "outputs": [
      {
       "output_type": "stream",
       "stream": "stdout",
       "text": [
        "1000\n"
       ]
      }
     ],
     "prompt_number": 7
    },
    {
     "cell_type": "code",
     "collapsed": false,
     "input": [
      "for i in range(a):\n",
      "    print i"
     ],
     "language": "python",
     "metadata": {},
     "outputs": [
      {
       "output_type": "stream",
       "stream": "stdout",
       "text": [
        "0\n",
        "1\n",
        "2\n",
        "3\n",
        "4\n",
        "5\n",
        "6\n",
        "7\n",
        "8\n",
        "9\n",
        "10\n",
        "11\n",
        "12\n",
        "13\n",
        "14\n",
        "15\n",
        "16\n",
        "17\n",
        "18\n",
        "19\n",
        "20\n",
        "21\n",
        "22\n",
        "23\n",
        "24\n",
        "25\n",
        "26\n",
        "27\n",
        "28\n",
        "29\n",
        "30\n",
        "31\n",
        "32\n",
        "33\n",
        "34\n",
        "35\n",
        "36\n",
        "37\n",
        "38\n",
        "39\n",
        "40\n",
        "41\n",
        "42\n",
        "43\n",
        "44\n",
        "45\n",
        "46\n",
        "47\n",
        "48\n",
        "49\n",
        "50\n",
        "51\n",
        "52\n",
        "53\n",
        "54\n",
        "55\n",
        "56\n",
        "57\n",
        "58\n",
        "59\n",
        "60\n",
        "61\n",
        "62\n",
        "63\n",
        "64\n",
        "65\n",
        "66\n",
        "67\n",
        "68\n",
        "69\n",
        "70\n",
        "71\n",
        "72\n",
        "73\n",
        "74\n",
        "75\n",
        "76\n",
        "77\n",
        "78\n",
        "79\n",
        "80\n",
        "81\n",
        "82\n",
        "83\n",
        "84\n",
        "85\n",
        "86\n",
        "87\n",
        "88\n",
        "89\n",
        "90\n",
        "91\n",
        "92\n",
        "93\n",
        "94\n",
        "95\n",
        "96\n",
        "97\n",
        "98\n",
        "99\n",
        "100\n",
        "101\n",
        "102\n",
        "103\n",
        "104\n",
        "105\n",
        "106\n",
        "107\n",
        "108\n",
        "109\n",
        "110\n",
        "111\n",
        "112\n",
        "113\n",
        "114\n",
        "115\n",
        "116\n",
        "117\n",
        "118\n",
        "119\n",
        "120\n",
        "121\n",
        "122\n",
        "123\n",
        "124\n",
        "125\n",
        "126\n",
        "127\n",
        "128\n",
        "129\n",
        "130\n",
        "131\n",
        "132\n",
        "133\n",
        "134\n",
        "135\n",
        "136\n",
        "137\n",
        "138\n",
        "139\n",
        "140\n",
        "141\n",
        "142\n",
        "143\n",
        "144\n",
        "145\n",
        "146\n",
        "147\n",
        "148\n",
        "149\n",
        "150\n",
        "151\n",
        "152\n",
        "153\n",
        "154\n",
        "155\n",
        "156\n",
        "157\n",
        "158\n",
        "159\n",
        "160\n",
        "161\n",
        "162\n",
        "163\n",
        "164\n",
        "165\n",
        "166\n",
        "167\n",
        "168\n",
        "169\n",
        "170\n",
        "171\n",
        "172\n",
        "173\n",
        "174\n",
        "175\n",
        "176\n",
        "177\n",
        "178\n",
        "179\n",
        "180\n",
        "181\n",
        "182\n",
        "183\n",
        "184\n",
        "185\n",
        "186\n",
        "187\n",
        "188\n",
        "189\n",
        "190\n",
        "191\n",
        "192\n",
        "193\n",
        "194\n",
        "195\n",
        "196\n",
        "197\n",
        "198\n",
        "199\n",
        "200\n",
        "201\n",
        "202\n",
        "203\n",
        "204\n",
        "205\n",
        "206\n",
        "207\n",
        "208\n",
        "209\n",
        "210\n",
        "211\n",
        "212\n",
        "213\n",
        "214\n",
        "215\n",
        "216\n",
        "217\n",
        "218\n",
        "219\n",
        "220\n",
        "221\n",
        "222\n",
        "223\n",
        "224\n",
        "225\n",
        "226\n",
        "227\n",
        "228\n",
        "229\n",
        "230\n",
        "231\n",
        "232\n",
        "233\n",
        "234\n",
        "235\n",
        "236\n",
        "237\n",
        "238\n",
        "239\n",
        "240\n",
        "241\n",
        "242\n",
        "243\n",
        "244\n",
        "245\n",
        "246\n",
        "247\n",
        "248\n",
        "249\n",
        "250\n",
        "251\n",
        "252\n",
        "253\n",
        "254\n",
        "255\n",
        "256\n",
        "257\n",
        "258\n",
        "259\n",
        "260\n",
        "261\n",
        "262\n",
        "263\n",
        "264\n",
        "265\n",
        "266\n",
        "267\n",
        "268\n",
        "269\n",
        "270\n",
        "271\n",
        "272\n",
        "273\n",
        "274\n",
        "275\n",
        "276\n",
        "277\n",
        "278\n",
        "279\n",
        "280\n",
        "281\n",
        "282\n",
        "283\n",
        "284\n",
        "285\n",
        "286\n",
        "287\n",
        "288\n",
        "289\n",
        "290\n",
        "291\n",
        "292\n",
        "293\n",
        "294\n",
        "295\n",
        "296\n",
        "297\n",
        "298\n",
        "299\n",
        "300\n",
        "301\n",
        "302\n",
        "303\n",
        "304\n",
        "305\n",
        "306\n",
        "307\n",
        "308\n",
        "309\n",
        "310\n",
        "311\n",
        "312\n",
        "313\n",
        "314\n",
        "315\n",
        "316\n",
        "317\n",
        "318\n",
        "319\n",
        "320\n",
        "321\n",
        "322\n",
        "323\n",
        "324\n",
        "325\n",
        "326\n",
        "327\n",
        "328\n",
        "329\n",
        "330\n",
        "331\n",
        "332\n",
        "333\n",
        "334\n",
        "335\n",
        "336\n",
        "337\n",
        "338\n",
        "339\n",
        "340\n",
        "341\n",
        "342\n",
        "343\n",
        "344\n",
        "345\n",
        "346\n",
        "347\n",
        "348\n",
        "349\n",
        "350\n",
        "351\n",
        "352\n",
        "353\n",
        "354\n",
        "355\n",
        "356\n",
        "357\n",
        "358\n",
        "359\n",
        "360\n",
        "361\n",
        "362\n",
        "363\n",
        "364\n",
        "365\n",
        "366\n",
        "367\n",
        "368\n",
        "369\n",
        "370\n",
        "371\n",
        "372\n",
        "373\n",
        "374\n",
        "375\n",
        "376\n",
        "377\n",
        "378\n",
        "379\n",
        "380\n",
        "381\n",
        "382\n",
        "383\n",
        "384\n",
        "385\n",
        "386\n",
        "387\n",
        "388\n",
        "389\n",
        "390\n",
        "391\n",
        "392\n",
        "393\n",
        "394\n",
        "395\n",
        "396\n",
        "397\n",
        "398\n",
        "399\n",
        "400\n",
        "401\n",
        "402\n",
        "403\n",
        "404\n",
        "405\n",
        "406\n",
        "407\n",
        "408\n",
        "409\n",
        "410\n",
        "411\n",
        "412\n",
        "413\n",
        "414\n",
        "415\n",
        "416\n",
        "417\n",
        "418\n",
        "419\n",
        "420\n",
        "421\n",
        "422\n",
        "423\n",
        "424\n",
        "425\n",
        "426\n",
        "427\n",
        "428\n",
        "429\n",
        "430\n",
        "431\n",
        "432\n",
        "433\n",
        "434\n",
        "435\n",
        "436\n",
        "437\n",
        "438\n",
        "439\n",
        "440\n",
        "441\n",
        "442\n",
        "443\n",
        "444\n",
        "445\n",
        "446\n",
        "447\n",
        "448\n",
        "449\n",
        "450\n",
        "451\n",
        "452\n",
        "453\n",
        "454\n",
        "455\n",
        "456\n",
        "457\n",
        "458\n",
        "459\n",
        "460\n",
        "461\n",
        "462\n",
        "463\n",
        "464\n",
        "465\n",
        "466\n",
        "467\n",
        "468\n",
        "469\n",
        "470\n",
        "471\n",
        "472\n",
        "473\n",
        "474\n",
        "475\n",
        "476\n",
        "477\n",
        "478\n",
        "479\n",
        "480\n",
        "481\n",
        "482\n",
        "483\n",
        "484\n",
        "485\n",
        "486\n",
        "487\n",
        "488\n",
        "489\n",
        "490\n",
        "491\n",
        "492\n",
        "493\n",
        "494\n",
        "495\n",
        "496\n",
        "497\n",
        "498\n",
        "499\n",
        "500\n",
        "501\n",
        "502\n",
        "503\n",
        "504\n",
        "505\n",
        "506\n",
        "507\n",
        "508\n",
        "509\n",
        "510\n",
        "511\n",
        "512\n",
        "513\n",
        "514\n",
        "515\n",
        "516\n",
        "517\n",
        "518\n",
        "519\n",
        "520\n",
        "521\n",
        "522\n",
        "523\n",
        "524\n",
        "525\n",
        "526\n",
        "527\n",
        "528\n",
        "529\n",
        "530\n",
        "531\n",
        "532\n",
        "533\n",
        "534\n",
        "535\n",
        "536\n",
        "537\n",
        "538\n",
        "539\n",
        "540\n",
        "541\n",
        "542\n",
        "543\n",
        "544\n",
        "545\n",
        "546\n",
        "547\n",
        "548\n",
        "549\n",
        "550\n",
        "551\n",
        "552\n",
        "553\n",
        "554\n",
        "555\n",
        "556\n",
        "557\n",
        "558\n",
        "559\n",
        "560\n",
        "561\n",
        "562\n",
        "563\n",
        "564\n",
        "565\n",
        "566\n",
        "567\n",
        "568\n",
        "569\n",
        "570\n",
        "571\n",
        "572\n",
        "573\n",
        "574\n",
        "575\n",
        "576\n",
        "577\n",
        "578\n",
        "579\n",
        "580\n",
        "581\n",
        "582\n",
        "583\n",
        "584\n",
        "585\n",
        "586\n",
        "587\n",
        "588\n",
        "589\n",
        "590\n",
        "591\n",
        "592\n",
        "593\n",
        "594\n",
        "595\n",
        "596\n",
        "597\n",
        "598\n",
        "599\n",
        "600\n",
        "601\n",
        "602\n",
        "603\n",
        "604\n",
        "605\n",
        "606\n",
        "607\n",
        "608\n",
        "609\n",
        "610\n",
        "611\n",
        "612\n",
        "613\n",
        "614\n",
        "615\n",
        "616\n",
        "617\n",
        "618\n",
        "619\n",
        "620\n",
        "621\n",
        "622\n",
        "623\n",
        "624\n",
        "625\n",
        "626\n",
        "627\n",
        "628\n",
        "629\n",
        "630\n",
        "631\n",
        "632\n",
        "633\n",
        "634\n",
        "635\n",
        "636\n",
        "637\n",
        "638\n",
        "639\n",
        "640\n",
        "641\n",
        "642\n",
        "643\n",
        "644\n",
        "645\n",
        "646\n",
        "647\n",
        "648\n",
        "649\n",
        "650\n",
        "651\n",
        "652\n",
        "653\n",
        "654\n",
        "655\n",
        "656\n",
        "657\n",
        "658\n",
        "659\n",
        "660\n",
        "661\n",
        "662\n",
        "663\n",
        "664\n",
        "665\n",
        "666\n",
        "667\n",
        "668\n",
        "669\n",
        "670\n",
        "671\n",
        "672\n",
        "673\n",
        "674\n",
        "675\n",
        "676\n",
        "677\n",
        "678\n",
        "679\n",
        "680\n",
        "681\n",
        "682\n",
        "683\n",
        "684\n",
        "685\n",
        "686\n",
        "687\n",
        "688\n",
        "689\n",
        "690\n",
        "691\n",
        "692\n",
        "693\n",
        "694\n",
        "695\n",
        "696\n",
        "697\n",
        "698\n",
        "699\n",
        "700\n",
        "701\n",
        "702\n",
        "703\n",
        "704\n",
        "705\n",
        "706\n",
        "707\n",
        "708\n",
        "709\n",
        "710\n",
        "711\n",
        "712\n",
        "713\n",
        "714\n",
        "715\n",
        "716\n",
        "717\n",
        "718\n",
        "719\n",
        "720\n",
        "721\n",
        "722\n",
        "723\n",
        "724\n",
        "725\n",
        "726\n",
        "727\n",
        "728\n",
        "729\n",
        "730\n",
        "731\n",
        "732\n",
        "733\n",
        "734\n",
        "735\n",
        "736\n",
        "737\n",
        "738\n",
        "739\n",
        "740\n",
        "741\n",
        "742\n",
        "743\n",
        "744\n",
        "745\n",
        "746\n",
        "747\n",
        "748\n",
        "749\n",
        "750\n",
        "751\n",
        "752\n",
        "753\n",
        "754\n",
        "755\n",
        "756\n",
        "757\n",
        "758\n",
        "759\n",
        "760\n",
        "761\n",
        "762\n",
        "763\n",
        "764\n",
        "765\n",
        "766\n",
        "767\n",
        "768\n",
        "769\n",
        "770\n",
        "771\n",
        "772\n",
        "773\n",
        "774\n",
        "775\n",
        "776\n",
        "777\n",
        "778\n",
        "779\n",
        "780\n",
        "781\n",
        "782\n",
        "783\n",
        "784\n",
        "785\n",
        "786\n",
        "787\n",
        "788\n",
        "789\n",
        "790\n",
        "791\n",
        "792\n",
        "793\n",
        "794\n",
        "795\n",
        "796\n",
        "797\n",
        "798\n",
        "799\n",
        "800\n",
        "801\n",
        "802\n",
        "803\n",
        "804\n",
        "805\n",
        "806\n",
        "807\n",
        "808\n",
        "809\n",
        "810\n",
        "811\n",
        "812\n",
        "813\n",
        "814\n",
        "815\n",
        "816\n",
        "817\n",
        "818\n",
        "819\n",
        "820\n",
        "821\n",
        "822\n",
        "823\n",
        "824\n",
        "825\n",
        "826\n",
        "827\n",
        "828\n",
        "829\n",
        "830\n",
        "831\n",
        "832\n",
        "833\n",
        "834\n",
        "835\n",
        "836\n",
        "837\n",
        "838\n",
        "839\n",
        "840\n",
        "841\n",
        "842\n",
        "843\n",
        "844\n",
        "845\n",
        "846\n",
        "847\n",
        "848\n",
        "849\n",
        "850\n",
        "851\n",
        "852\n",
        "853\n",
        "854\n",
        "855\n",
        "856\n",
        "857\n",
        "858\n",
        "859\n",
        "860\n",
        "861\n",
        "862\n",
        "863\n",
        "864\n",
        "865\n",
        "866\n",
        "867\n",
        "868\n",
        "869\n",
        "870\n",
        "871\n",
        "872\n",
        "873\n",
        "874\n",
        "875\n",
        "876\n",
        "877\n",
        "878\n",
        "879\n",
        "880\n",
        "881\n",
        "882\n",
        "883\n",
        "884\n",
        "885\n",
        "886\n",
        "887\n",
        "888\n",
        "889\n",
        "890\n",
        "891\n",
        "892\n",
        "893\n",
        "894\n",
        "895\n",
        "896\n",
        "897\n",
        "898\n",
        "899\n",
        "900\n",
        "901\n",
        "902\n",
        "903\n",
        "904\n",
        "905\n",
        "906\n",
        "907\n",
        "908\n",
        "909\n",
        "910\n",
        "911\n",
        "912\n",
        "913\n",
        "914\n",
        "915\n",
        "916\n",
        "917\n",
        "918\n",
        "919\n",
        "920\n",
        "921\n",
        "922\n",
        "923\n",
        "924\n",
        "925\n",
        "926\n",
        "927\n",
        "928\n",
        "929\n",
        "930\n",
        "931\n",
        "932\n",
        "933\n",
        "934\n",
        "935\n",
        "936\n",
        "937\n",
        "938\n",
        "939\n",
        "940\n",
        "941\n",
        "942\n",
        "943\n",
        "944\n",
        "945\n",
        "946\n",
        "947\n",
        "948\n",
        "949\n",
        "950\n",
        "951\n",
        "952\n",
        "953\n",
        "954\n",
        "955\n",
        "956\n",
        "957\n",
        "958\n",
        "959\n",
        "960\n",
        "961\n",
        "962\n",
        "963\n",
        "964\n",
        "965\n",
        "966\n",
        "967\n",
        "968\n",
        "969\n",
        "970\n",
        "971\n",
        "972\n",
        "973\n",
        "974\n",
        "975\n",
        "976\n",
        "977\n",
        "978\n",
        "979\n",
        "980\n",
        "981\n",
        "982\n",
        "983\n",
        "984\n",
        "985\n",
        "986\n",
        "987\n",
        "988\n",
        "989\n",
        "990\n",
        "991\n",
        "992\n",
        "993\n",
        "994\n",
        "995\n",
        "996\n",
        "997\n",
        "998\n",
        "999\n"
       ]
      }
     ],
     "prompt_number": 8
    },
    {
     "cell_type": "heading",
     "level": 3,
     "metadata": {},
     "source": [
      "Accessing the operating system"
     ]
    },
    {
     "cell_type": "code",
     "collapsed": false,
     "input": [
      "!pwd"
     ],
     "language": "python",
     "metadata": {},
     "outputs": [
      {
       "output_type": "stream",
       "stream": "stdout",
       "text": [
        "/Users/pnguye41/PHYS202-S14/iPython\r\n"
       ]
      }
     ],
     "prompt_number": 1
    },
    {
     "cell_type": "code",
     "collapsed": false,
     "input": [
      "!ls"
     ],
     "language": "python",
     "metadata": {},
     "outputs": [
      {
       "output_type": "stream",
       "stream": "stdout",
       "text": [
        "PracticeNotebook.ipynb\r\n"
       ]
      }
     ],
     "prompt_number": 2
    },
    {
     "cell_type": "code",
     "collapsed": false,
     "input": [
      "files = !ls\n",
      "print \"My directory contains:\"\n",
      "print files"
     ],
     "language": "python",
     "metadata": {},
     "outputs": [
      {
       "output_type": "stream",
       "stream": "stdout",
       "text": [
        "My directory contains:\n",
        "['PracticeNotebook.ipynb']\n"
       ]
      }
     ],
     "prompt_number": 4
    },
    {
     "cell_type": "code",
     "collapsed": false,
     "input": [
      "!echo $files"
     ],
     "language": "python",
     "metadata": {},
     "outputs": [
      {
       "output_type": "stream",
       "stream": "stdout",
       "text": [
        "[PracticeNotebook.ipynb]\r\n"
       ]
      }
     ],
     "prompt_number": 5
    },
    {
     "cell_type": "code",
     "collapsed": false,
     "input": [
      "!echo {files[0].upper()}"
     ],
     "language": "python",
     "metadata": {},
     "outputs": [
      {
       "output_type": "stream",
       "stream": "stdout",
       "text": [
        "PRACTICENOTEBOOK.IPYNB\r\n"
       ]
      }
     ],
     "prompt_number": 6
    },
    {
     "cell_type": "heading",
     "level": 3,
     "metadata": {},
     "source": [
      "Magic Functions"
     ]
    },
    {
     "cell_type": "code",
     "collapsed": false,
     "input": [
      "%magic"
     ],
     "language": "python",
     "metadata": {},
     "outputs": [],
     "prompt_number": 7
    },
    {
     "cell_type": "heading",
     "level": 4,
     "metadata": {},
     "source": [
      "Line magics:"
     ]
    },
    {
     "cell_type": "code",
     "collapsed": false,
     "input": [
      "%timeit range(10)"
     ],
     "language": "python",
     "metadata": {},
     "outputs": [
      {
       "output_type": "stream",
       "stream": "stdout",
       "text": [
        "1000000 loops, best of 3: 312 ns per loop\n"
       ]
      }
     ],
     "prompt_number": 8
    },
    {
     "cell_type": "code",
     "collapsed": false,
     "input": [
      "for i in range(5):\n",
      "    size = i*100\n",
      "    print 'size:',size\n",
      "    %timeit range(size)"
     ],
     "language": "python",
     "metadata": {},
     "outputs": [
      {
       "output_type": "stream",
       "stream": "stdout",
       "text": [
        "size: 0\n",
        "10000000 loops, best of 3: 180 ns per loop"
       ]
      },
      {
       "output_type": "stream",
       "stream": "stdout",
       "text": [
        "\n",
        "size: 100\n",
        "1000000 loops, best of 3: 842 ns per loop"
       ]
      },
      {
       "output_type": "stream",
       "stream": "stdout",
       "text": [
        "\n",
        "size: 200\n",
        "1000000 loops, best of 3: 1.26 \u00b5s per loop"
       ]
      },
      {
       "output_type": "stream",
       "stream": "stdout",
       "text": [
        "\n",
        "size: 300\n",
        "100000 loops, best of 3: 2.07 \u00b5s per loop"
       ]
      },
      {
       "output_type": "stream",
       "stream": "stdout",
       "text": [
        "\n",
        "size: 400\n",
        "100000 loops, best of 3: 3.06 \u00b5s per loop"
       ]
      },
      {
       "output_type": "stream",
       "stream": "stdout",
       "text": [
        "\n"
       ]
      }
     ],
     "prompt_number": 9
    },
    {
     "cell_type": "code",
     "collapsed": false,
     "input": [
      "%%timeit\n",
      "range(10)\n",
      "range(100)"
     ],
     "language": "python",
     "metadata": {},
     "outputs": [
      {
       "output_type": "stream",
       "stream": "stdout",
       "text": [
        "1000000 loops, best of 3: 1.31 \u00b5s per loop\n"
       ]
      }
     ],
     "prompt_number": 10
    },
    {
     "cell_type": "code",
     "collapsed": false,
     "input": [
      "%%bash\n",
      "echo \"MY shell in \" $SHELL\n",
      "echo \"My memory status is \"\n",
      "free"
     ],
     "language": "python",
     "metadata": {},
     "outputs": [
      {
       "output_type": "stream",
       "stream": "stdout",
       "text": [
        "MY shell in  /bin/bash\n",
        "My memory status is \n"
       ]
      },
      {
       "output_type": "stream",
       "stream": "stderr",
       "text": [
        "bash: line 3: free: command not found\n"
       ]
      }
     ],
     "prompt_number": 11
    },
    {
     "cell_type": "code",
     "collapsed": false,
     "input": [
      "%%file test.txt\n",
      "I'm hungry\n",
      ":(\n"
     ],
     "language": "python",
     "metadata": {},
     "outputs": [
      {
       "output_type": "stream",
       "stream": "stdout",
       "text": [
        "Writing test.txt\n"
       ]
      }
     ],
     "prompt_number": 12
    },
    {
     "cell_type": "code",
     "collapsed": false,
     "input": [
      "!ls"
     ],
     "language": "python",
     "metadata": {},
     "outputs": [
      {
       "output_type": "stream",
       "stream": "stdout",
       "text": [
        "PracticeNotebook.ipynb test.txt\r\n"
       ]
      }
     ],
     "prompt_number": 13
    },
    {
     "cell_type": "code",
     "collapsed": false,
     "input": [
      "!cat test.txt"
     ],
     "language": "python",
     "metadata": {},
     "outputs": [
      {
       "output_type": "stream",
       "stream": "stdout",
       "text": [
        "I'm hungry\r\n",
        ":("
       ]
      }
     ],
     "prompt_number": 14
    },
    {
     "cell_type": "code",
     "collapsed": false,
     "input": [
      "%lsmagic"
     ],
     "language": "python",
     "metadata": {},
     "outputs": [
      {
       "json": [
        "{\"cell\": {\"prun\": \"ExecutionMagics\", \"file\": \"Other\", \"!\": \"OSMagics\", \"capture\": \"ExecutionMagics\", \"timeit\": \"ExecutionMagics\", \"script\": \"ScriptMagics\", \"pypy\": \"Other\", \"system\": \"OSMagics\", \"perl\": \"Other\", \"HTML\": \"Other\", \"bash\": \"Other\", \"python\": \"Other\", \"SVG\": \"Other\", \"javascript\": \"DisplayMagics\", \"writefile\": \"OSMagics\", \"ruby\": \"Other\", \"python3\": \"Other\", \"python2\": \"Other\", \"latex\": \"DisplayMagics\", \"sx\": \"OSMagics\", \"svg\": \"DisplayMagics\", \"html\": \"DisplayMagics\", \"sh\": \"Other\", \"time\": \"ExecutionMagics\", \"debug\": \"ExecutionMagics\"}, \"line\": {\"psource\": \"NamespaceMagics\", \"logstart\": \"LoggingMagics\", \"popd\": \"OSMagics\", \"loadpy\": \"CodeMagics\", \"install_ext\": \"ExtensionMagics\", \"colors\": \"BasicMagics\", \"who_ls\": \"NamespaceMagics\", \"lf\": \"Other\", \"install_profiles\": \"DeprecatedMagics\", \"ll\": \"Other\", \"pprint\": \"BasicMagics\", \"lk\": \"Other\", \"ls\": \"Other\", \"save\": \"CodeMagics\", \"tb\": \"ExecutionMagics\", \"lx\": \"Other\", \"pylab\": \"PylabMagics\", \"killbgscripts\": \"ScriptMagics\", \"quickref\": \"BasicMagics\", \"magic\": \"BasicMagics\", \"dhist\": \"OSMagics\", \"edit\": \"KernelMagics\", \"logstop\": \"LoggingMagics\", \"gui\": \"BasicMagics\", \"alias_magic\": \"BasicMagics\", \"debug\": \"ExecutionMagics\", \"page\": \"BasicMagics\", \"logstate\": \"LoggingMagics\", \"ed\": \"Other\", \"pushd\": \"OSMagics\", \"timeit\": \"ExecutionMagics\", \"rehashx\": \"OSMagics\", \"hist\": \"Other\", \"qtconsole\": \"KernelMagics\", \"rm\": \"Other\", \"dirs\": \"OSMagics\", \"run\": \"ExecutionMagics\", \"reset_selective\": \"NamespaceMagics\", \"rep\": \"Other\", \"pinfo2\": \"NamespaceMagics\", \"matplotlib\": \"PylabMagics\", \"unload_ext\": \"ExtensionMagics\", \"doctest_mode\": \"KernelMagics\", \"logoff\": \"LoggingMagics\", \"reload_ext\": \"ExtensionMagics\", \"pdb\": \"ExecutionMagics\", \"load\": \"CodeMagics\", \"lsmagic\": \"BasicMagics\", \"autosave\": \"KernelMagics\", \"cd\": \"OSMagics\", \"pastebin\": \"CodeMagics\", \"prun\": \"ExecutionMagics\", \"cp\": \"Other\", \"autocall\": \"AutoMagics\", \"bookmark\": \"OSMagics\", \"connect_info\": \"KernelMagics\", \"mkdir\": \"Other\", \"system\": \"OSMagics\", \"whos\": \"NamespaceMagics\", \"rmdir\": \"Other\", \"automagic\": \"AutoMagics\", \"store\": \"StoreMagics\", \"more\": \"KernelMagics\", \"pdef\": \"NamespaceMagics\", \"precision\": \"BasicMagics\", \"pinfo\": \"NamespaceMagics\", \"pwd\": \"OSMagics\", \"psearch\": \"NamespaceMagics\", \"reset\": \"NamespaceMagics\", \"recall\": \"HistoryMagics\", \"xdel\": \"NamespaceMagics\", \"xmode\": \"BasicMagics\", \"cat\": \"Other\", \"mv\": \"Other\", \"rerun\": \"HistoryMagics\", \"logon\": \"LoggingMagics\", \"history\": \"HistoryMagics\", \"pycat\": \"OSMagics\", \"unalias\": \"OSMagics\", \"install_default_config\": \"DeprecatedMagics\", \"env\": \"OSMagics\", \"load_ext\": \"ExtensionMagics\", \"config\": \"ConfigMagics\", \"profile\": \"BasicMagics\", \"pfile\": \"NamespaceMagics\", \"less\": \"KernelMagics\", \"who\": \"NamespaceMagics\", \"notebook\": \"BasicMagics\", \"man\": \"KernelMagics\", \"sx\": \"OSMagics\", \"macro\": \"ExecutionMagics\", \"clear\": \"KernelMagics\", \"alias\": \"OSMagics\", \"time\": \"ExecutionMagics\", \"sc\": \"OSMagics\", \"ldir\": \"Other\", \"pdoc\": \"NamespaceMagics\"}}"
       ],
       "metadata": {},
       "output_type": "pyout",
       "prompt_number": 15,
       "text": [
        "Available line magics:\n",
        "%alias  %alias_magic  %autocall  %automagic  %autosave  %bookmark  %cat  %cd  %clear  %colors  %config  %connect_info  %cp  %debug  %dhist  %dirs  %doctest_mode  %ed  %edit  %env  %gui  %hist  %history  %install_default_config  %install_ext  %install_profiles  %killbgscripts  %ldir  %less  %lf  %lk  %ll  %load  %load_ext  %loadpy  %logoff  %logon  %logstart  %logstate  %logstop  %ls  %lsmagic  %lx  %macro  %magic  %man  %matplotlib  %mkdir  %more  %mv  %notebook  %page  %pastebin  %pdb  %pdef  %pdoc  %pfile  %pinfo  %pinfo2  %popd  %pprint  %precision  %profile  %prun  %psearch  %psource  %pushd  %pwd  %pycat  %pylab  %qtconsole  %quickref  %recall  %rehashx  %reload_ext  %rep  %rerun  %reset  %reset_selective  %rm  %rmdir  %run  %save  %sc  %store  %sx  %system  %tb  %time  %timeit  %unalias  %unload_ext  %who  %who_ls  %whos  %xdel  %xmode\n",
        "\n",
        "Available cell magics:\n",
        "%%!  %%HTML  %%SVG  %%bash  %%capture  %%debug  %%file  %%html  %%javascript  %%latex  %%perl  %%prun  %%pypy  %%python  %%python2  %%python3  %%ruby  %%script  %%sh  %%svg  %%sx  %%system  %%time  %%timeit  %%writefile\n",
        "\n",
        "Automagic is ON, % prefix IS NOT needed for line magics."
       ]
      }
     ],
     "prompt_number": 15
    },
    {
     "cell_type": "heading",
     "level": 3,
     "metadata": {},
     "source": [
      "Error Reporting and Interpretation"
     ]
    },
    {
     "cell_type": "code",
     "collapsed": false,
     "input": [
      "def f(x):\n",
      "    return 1.0/(x-1)\n",
      "def g(y):\n",
      "    return f(y+1)"
     ],
     "language": "python",
     "metadata": {},
     "outputs": [],
     "prompt_number": 16
    },
    {
     "cell_type": "code",
     "collapsed": false,
     "input": [
      "g(0)"
     ],
     "language": "python",
     "metadata": {},
     "outputs": [
      {
       "ename": "ZeroDivisionError",
       "evalue": "float division by zero",
       "output_type": "pyerr",
       "traceback": [
        "\u001b[0;31m---------------------------------------------------------------------------\u001b[0m\n\u001b[0;31mZeroDivisionError\u001b[0m                         Traceback (most recent call last)",
        "\u001b[0;32m<ipython-input-17-b021be56714f>\u001b[0m in \u001b[0;36m<module>\u001b[0;34m()\u001b[0m\n\u001b[0;32m----> 1\u001b[0;31m \u001b[0mg\u001b[0m\u001b[0;34m(\u001b[0m\u001b[0;36m0\u001b[0m\u001b[0;34m)\u001b[0m\u001b[0;34m\u001b[0m\u001b[0m\n\u001b[0m",
        "\u001b[0;32m<ipython-input-16-7a53ca6af154>\u001b[0m in \u001b[0;36mg\u001b[0;34m(y)\u001b[0m\n\u001b[1;32m      2\u001b[0m     \u001b[0;32mreturn\u001b[0m \u001b[0;36m1.0\u001b[0m\u001b[0;34m/\u001b[0m\u001b[0;34m(\u001b[0m\u001b[0mx\u001b[0m\u001b[0;34m-\u001b[0m\u001b[0;36m1\u001b[0m\u001b[0;34m)\u001b[0m\u001b[0;34m\u001b[0m\u001b[0m\n\u001b[1;32m      3\u001b[0m \u001b[0;32mdef\u001b[0m \u001b[0mg\u001b[0m\u001b[0;34m(\u001b[0m\u001b[0my\u001b[0m\u001b[0;34m)\u001b[0m\u001b[0;34m:\u001b[0m\u001b[0;34m\u001b[0m\u001b[0m\n\u001b[0;32m----> 4\u001b[0;31m     \u001b[0;32mreturn\u001b[0m \u001b[0mf\u001b[0m\u001b[0;34m(\u001b[0m\u001b[0my\u001b[0m\u001b[0;34m+\u001b[0m\u001b[0;36m1\u001b[0m\u001b[0;34m)\u001b[0m\u001b[0;34m\u001b[0m\u001b[0m\n\u001b[0m",
        "\u001b[0;32m<ipython-input-16-7a53ca6af154>\u001b[0m in \u001b[0;36mf\u001b[0;34m(x)\u001b[0m\n\u001b[1;32m      1\u001b[0m \u001b[0;32mdef\u001b[0m \u001b[0mf\u001b[0m\u001b[0;34m(\u001b[0m\u001b[0mx\u001b[0m\u001b[0;34m)\u001b[0m\u001b[0;34m:\u001b[0m\u001b[0;34m\u001b[0m\u001b[0m\n\u001b[0;32m----> 2\u001b[0;31m     \u001b[0;32mreturn\u001b[0m \u001b[0;36m1.0\u001b[0m\u001b[0;34m/\u001b[0m\u001b[0;34m(\u001b[0m\u001b[0mx\u001b[0m\u001b[0;34m-\u001b[0m\u001b[0;36m1\u001b[0m\u001b[0;34m)\u001b[0m\u001b[0;34m\u001b[0m\u001b[0m\n\u001b[0m\u001b[1;32m      3\u001b[0m \u001b[0;32mdef\u001b[0m \u001b[0mg\u001b[0m\u001b[0;34m(\u001b[0m\u001b[0my\u001b[0m\u001b[0;34m)\u001b[0m\u001b[0;34m:\u001b[0m\u001b[0;34m\u001b[0m\u001b[0m\n\u001b[1;32m      4\u001b[0m     \u001b[0;32mreturn\u001b[0m \u001b[0mf\u001b[0m\u001b[0;34m(\u001b[0m\u001b[0my\u001b[0m\u001b[0;34m+\u001b[0m\u001b[0;36m1\u001b[0m\u001b[0;34m)\u001b[0m\u001b[0;34m\u001b[0m\u001b[0m\n",
        "\u001b[0;31mZeroDivisionError\u001b[0m: float division by zero"
       ]
      }
     ],
     "prompt_number": 17
    },
    {
     "cell_type": "heading",
     "level": 3,
     "metadata": {},
     "source": [
      "Raw Input"
     ]
    },
    {
     "cell_type": "code",
     "collapsed": false,
     "input": [
      "enjoy = raw_input(\"Are you enjoying this tutorial?\")\n",
      "print \"enjoy is : \",enjoy"
     ],
     "language": "python",
     "metadata": {},
     "outputs": [
      {
       "name": "stdout",
       "output_type": "stream",
       "stream": "stdout",
       "text": [
        "Are you enjoying this tutorial?I don't know, is I?\n"
       ]
      },
      {
       "output_type": "stream",
       "stream": "stdout",
       "text": [
        "enjoy is :  I don't know, is I?\n"
       ]
      }
     ],
     "prompt_number": 19
    },
    {
     "cell_type": "heading",
     "level": 3,
     "metadata": {},
     "source": [
      "Modules"
     ]
    },
    {
     "cell_type": "code",
     "collapsed": false,
     "input": [
      "%%file mymodule.py\n",
      "\"\"\"A simple demonstration module\"\"\"\n",
      "def add_numbers(x,y):\n",
      "    \"\"\"add x and y\"\"\"\n",
      "    return x+y\n",
      "def subtract_numbers(x,y):\n",
      "    \"\"\"subtract y from x\"\"\"\n",
      "    return x-y\n"
     ],
     "language": "python",
     "metadata": {},
     "outputs": [
      {
       "output_type": "stream",
       "stream": "stdout",
       "text": [
        "Overwriting mymodule.py\n"
       ]
      }
     ],
     "prompt_number": 27
    },
    {
     "cell_type": "code",
     "collapsed": false,
     "input": [
      "!ls"
     ],
     "language": "python",
     "metadata": {},
     "outputs": [
      {
       "output_type": "stream",
       "stream": "stdout",
       "text": [
        "PracticeNotebook.ipynb mymodule.py            test.txt\r\n"
       ]
      }
     ],
     "prompt_number": 21
    },
    {
     "cell_type": "code",
     "collapsed": false,
     "input": [
      "!cat mymodule.py"
     ],
     "language": "python",
     "metadata": {},
     "outputs": [
      {
       "output_type": "stream",
       "stream": "stdout",
       "text": [
        "\"\"\"A simple demonstration module\"\"\"\r\n",
        "def add_numbers(x,y):\r\n",
        "    \"\"\"add x and y\"\"\"\r\n",
        "    return x+y\r\n",
        "def subtract_numbers(x,y):\r\n",
        "    \"\"\"subtract y from x\"\"\"\r\n",
        "    return x-y"
       ]
      }
     ],
     "prompt_number": 34
    },
    {
     "cell_type": "code",
     "collapsed": false,
     "input": [
      "add_numbers(3,4)"
     ],
     "language": "python",
     "metadata": {},
     "outputs": [
      {
       "ename": "NameError",
       "evalue": "name 'add_numbers' is not defined",
       "output_type": "pyerr",
       "traceback": [
        "\u001b[0;31m---------------------------------------------------------------------------\u001b[0m\n\u001b[0;31mNameError\u001b[0m                                 Traceback (most recent call last)",
        "\u001b[0;32m<ipython-input-23-9e4da396c740>\u001b[0m in \u001b[0;36m<module>\u001b[0;34m()\u001b[0m\n\u001b[0;32m----> 1\u001b[0;31m \u001b[0madd_numbers\u001b[0m\u001b[0;34m(\u001b[0m\u001b[0;36m3\u001b[0m\u001b[0;34m,\u001b[0m\u001b[0;36m4\u001b[0m\u001b[0;34m)\u001b[0m\u001b[0;34m\u001b[0m\u001b[0m\n\u001b[0m",
        "\u001b[0;31mNameError\u001b[0m: name 'add_numbers' is not defined"
       ]
      }
     ],
     "prompt_number": 23
    },
    {
     "cell_type": "code",
     "collapsed": false,
     "input": [
      "import mymodule"
     ],
     "language": "python",
     "metadata": {},
     "outputs": [],
     "prompt_number": 24
    },
    {
     "cell_type": "code",
     "collapsed": false,
     "input": [
      "add_numbers(3,4)"
     ],
     "language": "python",
     "metadata": {},
     "outputs": [
      {
       "ename": "NameError",
       "evalue": "name 'add_numbers' is not defined",
       "output_type": "pyerr",
       "traceback": [
        "\u001b[0;31m---------------------------------------------------------------------------\u001b[0m\n\u001b[0;31mNameError\u001b[0m                                 Traceback (most recent call last)",
        "\u001b[0;32m<ipython-input-25-9e4da396c740>\u001b[0m in \u001b[0;36m<module>\u001b[0;34m()\u001b[0m\n\u001b[0;32m----> 1\u001b[0;31m \u001b[0madd_numbers\u001b[0m\u001b[0;34m(\u001b[0m\u001b[0;36m3\u001b[0m\u001b[0;34m,\u001b[0m\u001b[0;36m4\u001b[0m\u001b[0;34m)\u001b[0m\u001b[0;34m\u001b[0m\u001b[0m\n\u001b[0m",
        "\u001b[0;31mNameError\u001b[0m: name 'add_numbers' is not defined"
       ]
      }
     ],
     "prompt_number": 25
    },
    {
     "cell_type": "code",
     "collapsed": false,
     "input": [
      "mymodule?"
     ],
     "language": "python",
     "metadata": {},
     "outputs": [],
     "prompt_number": 36
    },
    {
     "cell_type": "code",
     "collapsed": false,
     "input": [
      "print '1 + 2 = ', mymodule.add_numbers(1,2)"
     ],
     "language": "python",
     "metadata": {},
     "outputs": [
      {
       "output_type": "stream",
       "stream": "stdout",
       "text": [
        "1 + 2 =  3\n"
       ]
      }
     ],
     "prompt_number": 32
    },
    {
     "cell_type": "code",
     "collapsed": false,
     "input": [
      "mymodule.add_numbers?"
     ],
     "language": "python",
     "metadata": {},
     "outputs": [],
     "prompt_number": 33
    },
    {
     "cell_type": "code",
     "collapsed": false,
     "input": [
      "from mymodule import add_numbers"
     ],
     "language": "python",
     "metadata": {},
     "outputs": [],
     "prompt_number": 37
    },
    {
     "cell_type": "code",
     "collapsed": false,
     "input": [
      "add_numbers(1,2)"
     ],
     "language": "python",
     "metadata": {},
     "outputs": [
      {
       "metadata": {},
       "output_type": "pyout",
       "prompt_number": 38,
       "text": [
        "3"
       ]
      }
     ],
     "prompt_number": 38
    },
    {
     "cell_type": "code",
     "collapsed": false,
     "input": [
      "from mymodule import add_numbers as silly_function"
     ],
     "language": "python",
     "metadata": {},
     "outputs": [],
     "prompt_number": 39
    },
    {
     "cell_type": "code",
     "collapsed": false,
     "input": [
      "silly_function(1,2)"
     ],
     "language": "python",
     "metadata": {},
     "outputs": [
      {
       "metadata": {},
       "output_type": "pyout",
       "prompt_number": 40,
       "text": [
        "3"
       ]
      }
     ],
     "prompt_number": 40
    },
    {
     "cell_type": "code",
     "collapsed": false,
     "input": [
      "import mymodule as mm\n",
      "mm.add_numbers(23,234)"
     ],
     "language": "python",
     "metadata": {},
     "outputs": [
      {
       "metadata": {},
       "output_type": "pyout",
       "prompt_number": 42,
       "text": [
        "257"
       ]
      }
     ],
     "prompt_number": 42
    },
    {
     "cell_type": "heading",
     "level": 3,
     "metadata": {},
     "source": [
      "Plotting in the notebook using numpy and matplotlib"
     ]
    },
    {
     "cell_type": "code",
     "collapsed": false,
     "input": [
      "%matplotlib inline"
     ],
     "language": "python",
     "metadata": {},
     "outputs": [],
     "prompt_number": 44
    },
    {
     "cell_type": "code",
     "collapsed": false,
     "input": [
      "import numpy as np\n",
      "import matplotlib.pyplot as plt"
     ],
     "language": "python",
     "metadata": {},
     "outputs": [],
     "prompt_number": 51
    },
    {
     "cell_type": "code",
     "collapsed": false,
     "input": [
      "x = np.linspace(0,2*np.pi, 300)\n",
      "y = np.sin(x**2)\n",
      "plt.plot(x,y)\n",
      "plt.title(\"A cool plot\")\n",
      "plt.xlabel(\"x\")\n",
      "plt.ylabel(\"sin(x**2)\");"
     ],
     "language": "python",
     "metadata": {},
     "outputs": [
      {
       "metadata": {},
       "output_type": "display_data",
       "png": "[encoded data removed]",
       "text": [
        "<matplotlib.figure.Figure at 0x10640ccd0>"
       ]
      }
     ],
     "prompt_number": 55
    },
    {
     "cell_type": "code",
     "collapsed": false,
     "input": [],
     "language": "python",
     "metadata": {},
     "outputs": []
    }
   ],
   "metadata": {}
  }
 ]
}