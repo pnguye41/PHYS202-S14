{
 "metadata": {
  "name": "",
  "signature": "sha256:a0fcb0448efda8ebb884afbf7041bab32fe967a9a80b2ef2ad2b566b4c1b5e44"
 },
 "nbformat": 3,
 "nbformat_minor": 0,
 "worksheets": [
  {
   "cells": [
    {
     "cell_type": "heading",
     "level": 1,
     "metadata": {},
     "source": [
      "Error Handling Exercises"
     ]
    },
    {
     "cell_type": "markdown",
     "metadata": {},
     "source": [
      "**1.** Find a partner. Choose a driver and a navigator. The driver should copy their Battleship code to a cell in the driver's ErrorHandlingExercises notebook. The driver should explain to the navigator the basics of how their program works. Work together to add some error handling to the program. Include a markdown cell identifying the driver and navigator. When you are done, switch roles and let the navigator be the driver and vice versa. At the end you should both have a Battleship program that includes some error handling."
     ]
    },
    {
     "cell_type": "markdown",
     "metadata": {},
     "source": [
      "**Driver:** Philippe Nguyen\n",
      "\n",
      "**Navigator:** Peter Nelson"
     ]
    },
    {
     "cell_type": "code",
     "collapsed": false,
     "input": [
      "from ipythonblocks import BlockGrid\n",
      "from ipythonblocks import colors\n",
      "from random import randint\n",
      "\n",
      "\n",
      "#Board setup#\n",
      "board = BlockGrid(10,10,fill=(0,150,255))\n",
      "\n",
      "\n",
      "#Difficulty selection#\n",
      "print \"I challenge you to a duel!\\n But before we play.... select your difficulty: Easy, Medium, or Hard?\"\n",
      "difficulty = raw_input(\"Difficulty: \")\n",
      "if difficulty.lower() == \"easy\":\n",
      "    total_turns = 15\n",
      "    print \"You get 15 turns. Piece of cake.\"\n",
      "elif difficulty.lower() == \"medium\":\n",
      "    total_turns = 11\n",
      "    print \"You get 11 turns. Good luck!\"\n",
      "elif difficulty.lower() == \"hard\":\n",
      "    total_turns = 7\n",
      "    print \"You get 7 turns. None shall pass.\"\n",
      "else:\n",
      "    print \"How should I put this... that wasn't an option. I think you should start off on 'easy'. You get 9 turns.\" \n",
      "\n",
      "board.show()\n",
      "\n",
      "\n",
      "#Defining some variables...#\n",
      "\n",
      "def random_row(board):\n",
      "    return randint(0, board.height - 2)\n",
      "\n",
      "def random_col(board):\n",
      "    return randint(0, board.width - 1)\n",
      "\n",
      "ship_row1 = random_row(board)\n",
      "ship_row2 = ship_row1 + 1\n",
      "ship_row3 = ship_row2 + 1\n",
      "ship_row = [ship_row1, ship_row2, ship_row3]\n",
      "ship_col = random_col(board)\n",
      "\n",
      "hits = 0\n",
      "\n",
      "\n",
      "#What happens during the turn#\n",
      "\n",
      "for turn in range(total_turns):\n",
      "    print \"Turn\", turn + 1\n",
      "    guess_row = int(raw_input(\"Guess Row: \"))\n",
      "    guess_col = int(raw_input(\"Guess Col: \"))\n",
      "\n",
      "    if guess_row in ship_row and guess_col == ship_col:\n",
      "        print \"That's a hit!\"\n",
      "        if board[guess_row, guess_col].red == 255:\n",
      "            print \"But you've already hit me there!\"\n",
      "        else:\n",
      "            hits += 1\n",
      "            if hits == 3:\n",
      "                print \"You win! I mean... we'll call it a draw!\"\n",
      "                board[guess_row, guess_col] = colors['Red']\n",
      "                board.show()\n",
      "                break\n",
      "            elif hits == 2:\n",
      "                board[guess_row, guess_col] = colors['Red']\n",
      "                print \"Just a flesh wound...\"\n",
      "            elif hits == 1:\n",
      "                board[guess_row, guess_col] = colors['Red']\n",
      "                print \"'Tis but a scratch!\"\n",
      "            else:\n",
      "                print \"Now go away or I shall taunt you a second time!\"\n",
      "        board.show()\n",
      "    else:\n",
      "        if (guess_row < 0 or guess_row > 9) or (guess_col < 0 or guess_col > 9):\n",
      "            print \"Oops, that's not even in the ocean. You must be new to this.\"\n",
      "        elif board[guess_row, guess_col].blue == 0:\n",
      "            print \"You already guessed that. By Albert Einstein's definition, one might consider you insane.\\n\"\n",
      "        else:\n",
      "            print \"You missed my battleship! Try harder.\"\n",
      "            board[guess_row, guess_col] = colors['Black']\n",
      "        board.show()\n",
      "    if turn\t+ 1 == total_turns:\n",
      "        if difficulty.lower() == \"easy\":\n",
      "            print \"Game Over. You lost on 'easy'. Not your lucky day, is it?\"\n",
      "        else:\n",
      "            print \"Game Over. Maybe it's time to turn down the difficulty?\"\n",
      "        board[ship_row1, ship_col] = colors['Red']\n",
      "        board[ship_row2, ship_col] = colors['Red']\n",
      "        board[ship_row3, ship_col] = colors['Red']\n",
      "        board.show()\n",
      "        break"
     ],
     "language": "python",
     "metadata": {},
     "outputs": [
      {
       "output_type": "stream",
       "stream": "stdout",
       "text": [
        "I challenge you to a duel!\n",
        " But before we play.... select your difficulty: Easy, Medium, or Hard?\n"
       ]
      },
      {
       "name": "stdout",
       "output_type": "stream",
       "stream": "stdout",
       "text": [
        "Difficulty: hard\n"
       ]
      },
      {
       "output_type": "stream",
       "stream": "stdout",
       "text": [
        "You get 7 turns. None shall pass.\n"
       ]
      },
      {
       "html": [
        "<style type=\"text/css\">table.blockgrid {border: none;} .blockgrid tr {border: none;} .blockgrid td {padding: 0px;} #blockseb53a085-338d-491a-b394-ec475eb5687e td {border: 1px solid white;}</style><table id=\"blockseb53a085-338d-491a-b394-ec475eb5687e\" class=\"blockgrid\"><tbody><tr><td title=\"Index: [0, 0]&#10;Color: (0, 150, 255)\" style=\"width: 20px; height: 20px;background-color: rgb(0, 150, 255);\"></td><td title=\"Index: [0, 1]&#10;Color: (0, 150, 255)\" style=\"width: 20px; height: 20px;background-color: rgb(0, 150, 255);\"></td><td title=\"Index: [0, 2]&#10;Color: (0, 150, 255)\" style=\"width: 20px; height: 20px;background-color: rgb(0, 150, 255);\"></td><td title=\"Index: [0, 3]&#10;Color: (0, 150, 255)\" style=\"width: 20px; height: 20px;background-color: rgb(0, 150, 255);\"></td><td title=\"Index: [0, 4]&#10;Color: (0, 150, 255)\" style=\"width: 20px; height: 20px;background-color: rgb(0, 150, 255);\"></td><td title=\"Index: [0, 5]&#10;Color: (0, 150, 255)\" style=\"width: 20px; height: 20px;background-color: rgb(0, 150, 255);\"></td><td title=\"Index: [0, 6]&#10;Color: (0, 150, 255)\" style=\"width: 20px; height: 20px;background-color: rgb(0, 150, 255);\"></td><td title=\"Index: [0, 7]&#10;Color: (0, 150, 255)\" style=\"width: 20px; height: 20px;background-color: rgb(0, 150, 255);\"></td><td title=\"Index: [0, 8]&#10;Color: (0, 150, 255)\" style=\"width: 20px; height: 20px;background-color: rgb(0, 150, 255);\"></td><td title=\"Index: [0, 9]&#10;Color: (0, 150, 255)\" style=\"width: 20px; height: 20px;background-color: rgb(0, 150, 255);\"></td></tr><tr><td title=\"Index: [1, 0]&#10;Color: (0, 150, 255)\" style=\"width: 20px; height: 20px;background-color: rgb(0, 150, 255);\"></td><td title=\"Index: [1, 1]&#10;Color: (0, 150, 255)\" style=\"width: 20px; height: 20px;background-color: rgb(0, 150, 255);\"></td><td title=\"Index: [1, 2]&#10;Color: (0, 150, 255)\" style=\"width: 20px; height: 20px;background-color: rgb(0, 150, 255);\"></td><td title=\"Index: [1, 3]&#10;Color: (0, 150, 255)\" style=\"width: 20px; height: 20px;background-color: rgb(0, 150, 255);\"></td><td title=\"Index: [1, 4]&#10;Color: (0, 150, 255)\" style=\"width: 20px; height: 20px;background-color: rgb(0, 150, 255);\"></td><td title=\"Index: [1, 5]&#10;Color: (0, 150, 255)\" style=\"width: 20px; height: 20px;background-color: rgb(0, 150, 255);\"></td><td title=\"Index: [1, 6]&#10;Color: (0, 150, 255)\" style=\"width: 20px; height: 20px;background-color: rgb(0, 150, 255);\"></td><td title=\"Index: [1, 7]&#10;Color: (0, 150, 255)\" style=\"width: 20px; height: 20px;background-color: rgb(0, 150, 255);\"></td><td title=\"Index: [1, 8]&#10;Color: (0, 150, 255)\" style=\"width: 20px; height: 20px;background-color: rgb(0, 150, 255);\"></td><td title=\"Index: [1, 9]&#10;Color: (0, 150, 255)\" style=\"width: 20px; height: 20px;background-color: rgb(0, 150, 255);\"></td></tr><tr><td title=\"Index: [2, 0]&#10;Color: (0, 150, 255)\" style=\"width: 20px; height: 20px;background-color: rgb(0, 150, 255);\"></td><td title=\"Index: [2, 1]&#10;Color: (0, 150, 255)\" style=\"width: 20px; height: 20px;background-color: rgb(0, 150, 255);\"></td><td title=\"Index: [2, 2]&#10;Color: (0, 150, 255)\" style=\"width: 20px; height: 20px;background-color: rgb(0, 150, 255);\"></td><td title=\"Index: [2, 3]&#10;Color: (0, 150, 255)\" style=\"width: 20px; height: 20px;background-color: rgb(0, 150, 255);\"></td><td title=\"Index: [2, 4]&#10;Color: (0, 150, 255)\" style=\"width: 20px; height: 20px;background-color: rgb(0, 150, 255);\"></td><td title=\"Index: [2, 5]&#10;Color: (0, 150, 255)\" style=\"width: 20px; height: 20px;background-color: rgb(0, 150, 255);\"></td><td title=\"Index: [2, 6]&#10;Color: (0, 150, 255)\" style=\"width: 20px; height: 20px;background-color: rgb(0, 150, 255);\"></td><td title=\"Index: [2, 7]&#10;Color: (0, 150, 255)\" style=\"width: 20px; height: 20px;background-color: rgb(0, 150, 255);\"></td><td title=\"Index: [2, 8]&#10;Color: (0, 150, 255)\" style=\"width: 20px; height: 20px;background-color: rgb(0, 150, 255);\"></td><td title=\"Index: [2, 9]&#10;Color: (0, 150, 255)\" style=\"width: 20px; height: 20px;background-color: rgb(0, 150, 255);\"></td></tr><tr><td title=\"Index: [3, 0]&#10;Color: (0, 150, 255)\" style=\"width: 20px; height: 20px;background-color: rgb(0, 150, 255);\"></td><td title=\"Index: [3, 1]&#10;Color: (0, 150, 255)\" style=\"width: 20px; height: 20px;background-color: rgb(0, 150, 255);\"></td><td title=\"Index: [3, 2]&#10;Color: (0, 150, 255)\" style=\"width: 20px; height: 20px;background-color: rgb(0, 150, 255);\"></td><td title=\"Index: [3, 3]&#10;Color: (0, 150, 255)\" style=\"width: 20px; height: 20px;background-color: rgb(0, 150, 255);\"></td><td title=\"Index: [3, 4]&#10;Color: (0, 150, 255)\" style=\"width: 20px; height: 20px;background-color: rgb(0, 150, 255);\"></td><td title=\"Index: [3, 5]&#10;Color: (0, 150, 255)\" style=\"width: 20px; height: 20px;background-color: rgb(0, 150, 255);\"></td><td title=\"Index: [3, 6]&#10;Color: (0, 150, 255)\" style=\"width: 20px; height: 20px;background-color: rgb(0, 150, 255);\"></td><td title=\"Index: [3, 7]&#10;Color: (0, 150, 255)\" style=\"width: 20px; height: 20px;background-color: rgb(0, 150, 255);\"></td><td title=\"Index: [3, 8]&#10;Color: (0, 150, 255)\" style=\"width: 20px; height: 20px;background-color: rgb(0, 150, 255);\"></td><td title=\"Index: [3, 9]&#10;Color: (0, 150, 255)\" style=\"width: 20px; height: 20px;background-color: rgb(0, 150, 255);\"></td></tr><tr><td title=\"Index: [4, 0]&#10;Color: (0, 150, 255)\" style=\"width: 20px; height: 20px;background-color: rgb(0, 150, 255);\"></td><td title=\"Index: [4, 1]&#10;Color: (0, 150, 255)\" style=\"width: 20px; height: 20px;background-color: rgb(0, 150, 255);\"></td><td title=\"Index: [4, 2]&#10;Color: (0, 150, 255)\" style=\"width: 20px; height: 20px;background-color: rgb(0, 150, 255);\"></td><td title=\"Index: [4, 3]&#10;Color: (0, 150, 255)\" style=\"width: 20px; height: 20px;background-color: rgb(0, 150, 255);\"></td><td title=\"Index: [4, 4]&#10;Color: (0, 150, 255)\" style=\"width: 20px; height: 20px;background-color: rgb(0, 150, 255);\"></td><td title=\"Index: [4, 5]&#10;Color: (0, 150, 255)\" style=\"width: 20px; height: 20px;background-color: rgb(0, 150, 255);\"></td><td title=\"Index: [4, 6]&#10;Color: (0, 150, 255)\" style=\"width: 20px; height: 20px;background-color: rgb(0, 150, 255);\"></td><td title=\"Index: [4, 7]&#10;Color: (0, 150, 255)\" style=\"width: 20px; height: 20px;background-color: rgb(0, 150, 255);\"></td><td title=\"Index: [4, 8]&#10;Color: (0, 150, 255)\" style=\"width: 20px; height: 20px;background-color: rgb(0, 150, 255);\"></td><td title=\"Index: [4, 9]&#10;Color: (0, 150, 255)\" style=\"width: 20px; height: 20px;background-color: rgb(0, 150, 255);\"></td></tr><tr><td title=\"Index: [5, 0]&#10;Color: (0, 150, 255)\" style=\"width: 20px; height: 20px;background-color: rgb(0, 150, 255);\"></td><td title=\"Index: [5, 1]&#10;Color: (0, 150, 255)\" style=\"width: 20px; height: 20px;background-color: rgb(0, 150, 255);\"></td><td title=\"Index: [5, 2]&#10;Color: (0, 150, 255)\" style=\"width: 20px; height: 20px;background-color: rgb(0, 150, 255);\"></td><td title=\"Index: [5, 3]&#10;Color: (0, 150, 255)\" style=\"width: 20px; height: 20px;background-color: rgb(0, 150, 255);\"></td><td title=\"Index: [5, 4]&#10;Color: (0, 150, 255)\" style=\"width: 20px; height: 20px;background-color: rgb(0, 150, 255);\"></td><td title=\"Index: [5, 5]&#10;Color: (0, 150, 255)\" style=\"width: 20px; height: 20px;background-color: rgb(0, 150, 255);\"></td><td title=\"Index: [5, 6]&#10;Color: (0, 150, 255)\" style=\"width: 20px; height: 20px;background-color: rgb(0, 150, 255);\"></td><td title=\"Index: [5, 7]&#10;Color: (0, 150, 255)\" style=\"width: 20px; height: 20px;background-color: rgb(0, 150, 255);\"></td><td title=\"Index: [5, 8]&#10;Color: (0, 150, 255)\" style=\"width: 20px; height: 20px;background-color: rgb(0, 150, 255);\"></td><td title=\"Index: [5, 9]&#10;Color: (0, 150, 255)\" style=\"width: 20px; height: 20px;background-color: rgb(0, 150, 255);\"></td></tr><tr><td title=\"Index: [6, 0]&#10;Color: (0, 150, 255)\" style=\"width: 20px; height: 20px;background-color: rgb(0, 150, 255);\"></td><td title=\"Index: [6, 1]&#10;Color: (0, 150, 255)\" style=\"width: 20px; height: 20px;background-color: rgb(0, 150, 255);\"></td><td title=\"Index: [6, 2]&#10;Color: (0, 150, 255)\" style=\"width: 20px; height: 20px;background-color: rgb(0, 150, 255);\"></td><td title=\"Index: [6, 3]&#10;Color: (0, 150, 255)\" style=\"width: 20px; height: 20px;background-color: rgb(0, 150, 255);\"></td><td title=\"Index: [6, 4]&#10;Color: (0, 150, 255)\" style=\"width: 20px; height: 20px;background-color: rgb(0, 150, 255);\"></td><td title=\"Index: [6, 5]&#10;Color: (0, 150, 255)\" style=\"width: 20px; height: 20px;background-color: rgb(0, 150, 255);\"></td><td title=\"Index: [6, 6]&#10;Color: (0, 150, 255)\" style=\"width: 20px; height: 20px;background-color: rgb(0, 150, 255);\"></td><td title=\"Index: [6, 7]&#10;Color: (0, 150, 255)\" style=\"width: 20px; height: 20px;background-color: rgb(0, 150, 255);\"></td><td title=\"Index: [6, 8]&#10;Color: (0, 150, 255)\" style=\"width: 20px; height: 20px;background-color: rgb(0, 150, 255);\"></td><td title=\"Index: [6, 9]&#10;Color: (0, 150, 255)\" style=\"width: 20px; height: 20px;background-color: rgb(0, 150, 255);\"></td></tr><tr><td title=\"Index: [7, 0]&#10;Color: (0, 150, 255)\" style=\"width: 20px; height: 20px;background-color: rgb(0, 150, 255);\"></td><td title=\"Index: [7, 1]&#10;Color: (0, 150, 255)\" style=\"width: 20px; height: 20px;background-color: rgb(0, 150, 255);\"></td><td title=\"Index: [7, 2]&#10;Color: (0, 150, 255)\" style=\"width: 20px; height: 20px;background-color: rgb(0, 150, 255);\"></td><td title=\"Index: [7, 3]&#10;Color: (0, 150, 255)\" style=\"width: 20px; height: 20px;background-color: rgb(0, 150, 255);\"></td><td title=\"Index: [7, 4]&#10;Color: (0, 150, 255)\" style=\"width: 20px; height: 20px;background-color: rgb(0, 150, 255);\"></td><td title=\"Index: [7, 5]&#10;Color: (0, 150, 255)\" style=\"width: 20px; height: 20px;background-color: rgb(0, 150, 255);\"></td><td title=\"Index: [7, 6]&#10;Color: (0, 150, 255)\" style=\"width: 20px; height: 20px;background-color: rgb(0, 150, 255);\"></td><td title=\"Index: [7, 7]&#10;Color: (0, 150, 255)\" style=\"width: 20px; height: 20px;background-color: rgb(0, 150, 255);\"></td><td title=\"Index: [7, 8]&#10;Color: (0, 150, 255)\" style=\"width: 20px; height: 20px;background-color: rgb(0, 150, 255);\"></td><td title=\"Index: [7, 9]&#10;Color: (0, 150, 255)\" style=\"width: 20px; height: 20px;background-color: rgb(0, 150, 255);\"></td></tr><tr><td title=\"Index: [8, 0]&#10;Color: (0, 150, 255)\" style=\"width: 20px; height: 20px;background-color: rgb(0, 150, 255);\"></td><td title=\"Index: [8, 1]&#10;Color: (0, 150, 255)\" style=\"width: 20px; height: 20px;background-color: rgb(0, 150, 255);\"></td><td title=\"Index: [8, 2]&#10;Color: (0, 150, 255)\" style=\"width: 20px; height: 20px;background-color: rgb(0, 150, 255);\"></td><td title=\"Index: [8, 3]&#10;Color: (0, 150, 255)\" style=\"width: 20px; height: 20px;background-color: rgb(0, 150, 255);\"></td><td title=\"Index: [8, 4]&#10;Color: (0, 150, 255)\" style=\"width: 20px; height: 20px;background-color: rgb(0, 150, 255);\"></td><td title=\"Index: [8, 5]&#10;Color: (0, 150, 255)\" style=\"width: 20px; height: 20px;background-color: rgb(0, 150, 255);\"></td><td title=\"Index: [8, 6]&#10;Color: (0, 150, 255)\" style=\"width: 20px; height: 20px;background-color: rgb(0, 150, 255);\"></td><td title=\"Index: [8, 7]&#10;Color: (0, 150, 255)\" style=\"width: 20px; height: 20px;background-color: rgb(0, 150, 255);\"></td><td title=\"Index: [8, 8]&#10;Color: (0, 150, 255)\" style=\"width: 20px; height: 20px;background-color: rgb(0, 150, 255);\"></td><td title=\"Index: [8, 9]&#10;Color: (0, 150, 255)\" style=\"width: 20px; height: 20px;background-color: rgb(0, 150, 255);\"></td></tr><tr><td title=\"Index: [9, 0]&#10;Color: (0, 150, 255)\" style=\"width: 20px; height: 20px;background-color: rgb(0, 150, 255);\"></td><td title=\"Index: [9, 1]&#10;Color: (0, 150, 255)\" style=\"width: 20px; height: 20px;background-color: rgb(0, 150, 255);\"></td><td title=\"Index: [9, 2]&#10;Color: (0, 150, 255)\" style=\"width: 20px; height: 20px;background-color: rgb(0, 150, 255);\"></td><td title=\"Index: [9, 3]&#10;Color: (0, 150, 255)\" style=\"width: 20px; height: 20px;background-color: rgb(0, 150, 255);\"></td><td title=\"Index: [9, 4]&#10;Color: (0, 150, 255)\" style=\"width: 20px; height: 20px;background-color: rgb(0, 150, 255);\"></td><td title=\"Index: [9, 5]&#10;Color: (0, 150, 255)\" style=\"width: 20px; height: 20px;background-color: rgb(0, 150, 255);\"></td><td title=\"Index: [9, 6]&#10;Color: (0, 150, 255)\" style=\"width: 20px; height: 20px;background-color: rgb(0, 150, 255);\"></td><td title=\"Index: [9, 7]&#10;Color: (0, 150, 255)\" style=\"width: 20px; height: 20px;background-color: rgb(0, 150, 255);\"></td><td title=\"Index: [9, 8]&#10;Color: (0, 150, 255)\" style=\"width: 20px; height: 20px;background-color: rgb(0, 150, 255);\"></td><td title=\"Index: [9, 9]&#10;Color: (0, 150, 255)\" style=\"width: 20px; height: 20px;background-color: rgb(0, 150, 255);\"></td></tr></tbody></table>"
       ],
       "metadata": {},
       "output_type": "display_data",
       "text": [
        "<IPython.core.display.HTML at 0x2d311f0>"
       ]
      },
      {
       "output_type": "stream",
       "stream": "stdout",
       "text": [
        "Turn 1\n"
       ]
      },
      {
       "name": "stdout",
       "output_type": "stream",
       "stream": "stdout",
       "text": [
        "Guess Row: 5\n"
       ]
      },
      {
       "name": "stdout",
       "output_type": "stream",
       "stream": "stdout",
       "text": [
        "Guess Col: 5\n"
       ]
      },
      {
       "output_type": "stream",
       "stream": "stdout",
       "text": [
        "That's a hit!\n",
        "'Tis but a scratch!\n"
       ]
      },
      {
       "html": [
        "<style type=\"text/css\">table.blockgrid {border: none;} .blockgrid tr {border: none;} .blockgrid td {padding: 0px;} #blocks00c76a8d-71f7-49af-8cd0-907dfebffc61 td {border: 1px solid white;}</style><table id=\"blocks00c76a8d-71f7-49af-8cd0-907dfebffc61\" class=\"blockgrid\"><tbody><tr><td title=\"Index: [0, 0]&#10;Color: (0, 150, 255)\" style=\"width: 20px; height: 20px;background-color: rgb(0, 150, 255);\"></td><td title=\"Index: [0, 1]&#10;Color: (0, 150, 255)\" style=\"width: 20px; height: 20px;background-color: rgb(0, 150, 255);\"></td><td title=\"Index: [0, 2]&#10;Color: (0, 150, 255)\" style=\"width: 20px; height: 20px;background-color: rgb(0, 150, 255);\"></td><td title=\"Index: [0, 3]&#10;Color: (0, 150, 255)\" style=\"width: 20px; height: 20px;background-color: rgb(0, 150, 255);\"></td><td title=\"Index: [0, 4]&#10;Color: (0, 150, 255)\" style=\"width: 20px; height: 20px;background-color: rgb(0, 150, 255);\"></td><td title=\"Index: [0, 5]&#10;Color: (0, 150, 255)\" style=\"width: 20px; height: 20px;background-color: rgb(0, 150, 255);\"></td><td title=\"Index: [0, 6]&#10;Color: (0, 150, 255)\" style=\"width: 20px; height: 20px;background-color: rgb(0, 150, 255);\"></td><td title=\"Index: [0, 7]&#10;Color: (0, 150, 255)\" style=\"width: 20px; height: 20px;background-color: rgb(0, 150, 255);\"></td><td title=\"Index: [0, 8]&#10;Color: (0, 150, 255)\" style=\"width: 20px; height: 20px;background-color: rgb(0, 150, 255);\"></td><td title=\"Index: [0, 9]&#10;Color: (0, 150, 255)\" style=\"width: 20px; height: 20px;background-color: rgb(0, 150, 255);\"></td></tr><tr><td title=\"Index: [1, 0]&#10;Color: (0, 150, 255)\" style=\"width: 20px; height: 20px;background-color: rgb(0, 150, 255);\"></td><td title=\"Index: [1, 1]&#10;Color: (0, 150, 255)\" style=\"width: 20px; height: 20px;background-color: rgb(0, 150, 255);\"></td><td title=\"Index: [1, 2]&#10;Color: (0, 150, 255)\" style=\"width: 20px; height: 20px;background-color: rgb(0, 150, 255);\"></td><td title=\"Index: [1, 3]&#10;Color: (0, 150, 255)\" style=\"width: 20px; height: 20px;background-color: rgb(0, 150, 255);\"></td><td title=\"Index: [1, 4]&#10;Color: (0, 150, 255)\" style=\"width: 20px; height: 20px;background-color: rgb(0, 150, 255);\"></td><td title=\"Index: [1, 5]&#10;Color: (0, 150, 255)\" style=\"width: 20px; height: 20px;background-color: rgb(0, 150, 255);\"></td><td title=\"Index: [1, 6]&#10;Color: (0, 150, 255)\" style=\"width: 20px; height: 20px;background-color: rgb(0, 150, 255);\"></td><td title=\"Index: [1, 7]&#10;Color: (0, 150, 255)\" style=\"width: 20px; height: 20px;background-color: rgb(0, 150, 255);\"></td><td title=\"Index: [1, 8]&#10;Color: (0, 150, 255)\" style=\"width: 20px; height: 20px;background-color: rgb(0, 150, 255);\"></td><td title=\"Index: [1, 9]&#10;Color: (0, 150, 255)\" style=\"width: 20px; height: 20px;background-color: rgb(0, 150, 255);\"></td></tr><tr><td title=\"Index: [2, 0]&#10;Color: (0, 150, 255)\" style=\"width: 20px; height: 20px;background-color: rgb(0, 150, 255);\"></td><td title=\"Index: [2, 1]&#10;Color: (0, 150, 255)\" style=\"width: 20px; height: 20px;background-color: rgb(0, 150, 255);\"></td><td title=\"Index: [2, 2]&#10;Color: (0, 150, 255)\" style=\"width: 20px; height: 20px;background-color: rgb(0, 150, 255);\"></td><td title=\"Index: [2, 3]&#10;Color: (0, 150, 255)\" style=\"width: 20px; height: 20px;background-color: rgb(0, 150, 255);\"></td><td title=\"Index: [2, 4]&#10;Color: (0, 150, 255)\" style=\"width: 20px; height: 20px;background-color: rgb(0, 150, 255);\"></td><td title=\"Index: [2, 5]&#10;Color: (0, 150, 255)\" style=\"width: 20px; height: 20px;background-color: rgb(0, 150, 255);\"></td><td title=\"Index: [2, 6]&#10;Color: (0, 150, 255)\" style=\"width: 20px; height: 20px;background-color: rgb(0, 150, 255);\"></td><td title=\"Index: [2, 7]&#10;Color: (0, 150, 255)\" style=\"width: 20px; height: 20px;background-color: rgb(0, 150, 255);\"></td><td title=\"Index: [2, 8]&#10;Color: (0, 150, 255)\" style=\"width: 20px; height: 20px;background-color: rgb(0, 150, 255);\"></td><td title=\"Index: [2, 9]&#10;Color: (0, 150, 255)\" style=\"width: 20px; height: 20px;background-color: rgb(0, 150, 255);\"></td></tr><tr><td title=\"Index: [3, 0]&#10;Color: (0, 150, 255)\" style=\"width: 20px; height: 20px;background-color: rgb(0, 150, 255);\"></td><td title=\"Index: [3, 1]&#10;Color: (0, 150, 255)\" style=\"width: 20px; height: 20px;background-color: rgb(0, 150, 255);\"></td><td title=\"Index: [3, 2]&#10;Color: (0, 150, 255)\" style=\"width: 20px; height: 20px;background-color: rgb(0, 150, 255);\"></td><td title=\"Index: [3, 3]&#10;Color: (0, 150, 255)\" style=\"width: 20px; height: 20px;background-color: rgb(0, 150, 255);\"></td><td title=\"Index: [3, 4]&#10;Color: (0, 150, 255)\" style=\"width: 20px; height: 20px;background-color: rgb(0, 150, 255);\"></td><td title=\"Index: [3, 5]&#10;Color: (0, 150, 255)\" style=\"width: 20px; height: 20px;background-color: rgb(0, 150, 255);\"></td><td title=\"Index: [3, 6]&#10;Color: (0, 150, 255)\" style=\"width: 20px; height: 20px;background-color: rgb(0, 150, 255);\"></td><td title=\"Index: [3, 7]&#10;Color: (0, 150, 255)\" style=\"width: 20px; height: 20px;background-color: rgb(0, 150, 255);\"></td><td title=\"Index: [3, 8]&#10;Color: (0, 150, 255)\" style=\"width: 20px; height: 20px;background-color: rgb(0, 150, 255);\"></td><td title=\"Index: [3, 9]&#10;Color: (0, 150, 255)\" style=\"width: 20px; height: 20px;background-color: rgb(0, 150, 255);\"></td></tr><tr><td title=\"Index: [4, 0]&#10;Color: (0, 150, 255)\" style=\"width: 20px; height: 20px;background-color: rgb(0, 150, 255);\"></td><td title=\"Index: [4, 1]&#10;Color: (0, 150, 255)\" style=\"width: 20px; height: 20px;background-color: rgb(0, 150, 255);\"></td><td title=\"Index: [4, 2]&#10;Color: (0, 150, 255)\" style=\"width: 20px; height: 20px;background-color: rgb(0, 150, 255);\"></td><td title=\"Index: [4, 3]&#10;Color: (0, 150, 255)\" style=\"width: 20px; height: 20px;background-color: rgb(0, 150, 255);\"></td><td title=\"Index: [4, 4]&#10;Color: (0, 150, 255)\" style=\"width: 20px; height: 20px;background-color: rgb(0, 150, 255);\"></td><td title=\"Index: [4, 5]&#10;Color: (0, 150, 255)\" style=\"width: 20px; height: 20px;background-color: rgb(0, 150, 255);\"></td><td title=\"Index: [4, 6]&#10;Color: (0, 150, 255)\" style=\"width: 20px; height: 20px;background-color: rgb(0, 150, 255);\"></td><td title=\"Index: [4, 7]&#10;Color: (0, 150, 255)\" style=\"width: 20px; height: 20px;background-color: rgb(0, 150, 255);\"></td><td title=\"Index: [4, 8]&#10;Color: (0, 150, 255)\" style=\"width: 20px; height: 20px;background-color: rgb(0, 150, 255);\"></td><td title=\"Index: [4, 9]&#10;Color: (0, 150, 255)\" style=\"width: 20px; height: 20px;background-color: rgb(0, 150, 255);\"></td></tr><tr><td title=\"Index: [5, 0]&#10;Color: (0, 150, 255)\" style=\"width: 20px; height: 20px;background-color: rgb(0, 150, 255);\"></td><td title=\"Index: [5, 1]&#10;Color: (0, 150, 255)\" style=\"width: 20px; height: 20px;background-color: rgb(0, 150, 255);\"></td><td title=\"Index: [5, 2]&#10;Color: (0, 150, 255)\" style=\"width: 20px; height: 20px;background-color: rgb(0, 150, 255);\"></td><td title=\"Index: [5, 3]&#10;Color: (0, 150, 255)\" style=\"width: 20px; height: 20px;background-color: rgb(0, 150, 255);\"></td><td title=\"Index: [5, 4]&#10;Color: (0, 150, 255)\" style=\"width: 20px; height: 20px;background-color: rgb(0, 150, 255);\"></td><td title=\"Index: [5, 5]&#10;Color: (255, 0, 0)\" style=\"width: 20px; height: 20px;background-color: rgb(255, 0, 0);\"></td><td title=\"Index: [5, 6]&#10;Color: (0, 150, 255)\" style=\"width: 20px; height: 20px;background-color: rgb(0, 150, 255);\"></td><td title=\"Index: [5, 7]&#10;Color: (0, 150, 255)\" style=\"width: 20px; height: 20px;background-color: rgb(0, 150, 255);\"></td><td title=\"Index: [5, 8]&#10;Color: (0, 150, 255)\" style=\"width: 20px; height: 20px;background-color: rgb(0, 150, 255);\"></td><td title=\"Index: [5, 9]&#10;Color: (0, 150, 255)\" style=\"width: 20px; height: 20px;background-color: rgb(0, 150, 255);\"></td></tr><tr><td title=\"Index: [6, 0]&#10;Color: (0, 150, 255)\" style=\"width: 20px; height: 20px;background-color: rgb(0, 150, 255);\"></td><td title=\"Index: [6, 1]&#10;Color: (0, 150, 255)\" style=\"width: 20px; height: 20px;background-color: rgb(0, 150, 255);\"></td><td title=\"Index: [6, 2]&#10;Color: (0, 150, 255)\" style=\"width: 20px; height: 20px;background-color: rgb(0, 150, 255);\"></td><td title=\"Index: [6, 3]&#10;Color: (0, 150, 255)\" style=\"width: 20px; height: 20px;background-color: rgb(0, 150, 255);\"></td><td title=\"Index: [6, 4]&#10;Color: (0, 150, 255)\" style=\"width: 20px; height: 20px;background-color: rgb(0, 150, 255);\"></td><td title=\"Index: [6, 5]&#10;Color: (0, 150, 255)\" style=\"width: 20px; height: 20px;background-color: rgb(0, 150, 255);\"></td><td title=\"Index: [6, 6]&#10;Color: (0, 150, 255)\" style=\"width: 20px; height: 20px;background-color: rgb(0, 150, 255);\"></td><td title=\"Index: [6, 7]&#10;Color: (0, 150, 255)\" style=\"width: 20px; height: 20px;background-color: rgb(0, 150, 255);\"></td><td title=\"Index: [6, 8]&#10;Color: (0, 150, 255)\" style=\"width: 20px; height: 20px;background-color: rgb(0, 150, 255);\"></td><td title=\"Index: [6, 9]&#10;Color: (0, 150, 255)\" style=\"width: 20px; height: 20px;background-color: rgb(0, 150, 255);\"></td></tr><tr><td title=\"Index: [7, 0]&#10;Color: (0, 150, 255)\" style=\"width: 20px; height: 20px;background-color: rgb(0, 150, 255);\"></td><td title=\"Index: [7, 1]&#10;Color: (0, 150, 255)\" style=\"width: 20px; height: 20px;background-color: rgb(0, 150, 255);\"></td><td title=\"Index: [7, 2]&#10;Color: (0, 150, 255)\" style=\"width: 20px; height: 20px;background-color: rgb(0, 150, 255);\"></td><td title=\"Index: [7, 3]&#10;Color: (0, 150, 255)\" style=\"width: 20px; height: 20px;background-color: rgb(0, 150, 255);\"></td><td title=\"Index: [7, 4]&#10;Color: (0, 150, 255)\" style=\"width: 20px; height: 20px;background-color: rgb(0, 150, 255);\"></td><td title=\"Index: [7, 5]&#10;Color: (0, 150, 255)\" style=\"width: 20px; height: 20px;background-color: rgb(0, 150, 255);\"></td><td title=\"Index: [7, 6]&#10;Color: (0, 150, 255)\" style=\"width: 20px; height: 20px;background-color: rgb(0, 150, 255);\"></td><td title=\"Index: [7, 7]&#10;Color: (0, 150, 255)\" style=\"width: 20px; height: 20px;background-color: rgb(0, 150, 255);\"></td><td title=\"Index: [7, 8]&#10;Color: (0, 150, 255)\" style=\"width: 20px; height: 20px;background-color: rgb(0, 150, 255);\"></td><td title=\"Index: [7, 9]&#10;Color: (0, 150, 255)\" style=\"width: 20px; height: 20px;background-color: rgb(0, 150, 255);\"></td></tr><tr><td title=\"Index: [8, 0]&#10;Color: (0, 150, 255)\" style=\"width: 20px; height: 20px;background-color: rgb(0, 150, 255);\"></td><td title=\"Index: [8, 1]&#10;Color: (0, 150, 255)\" style=\"width: 20px; height: 20px;background-color: rgb(0, 150, 255);\"></td><td title=\"Index: [8, 2]&#10;Color: (0, 150, 255)\" style=\"width: 20px; height: 20px;background-color: rgb(0, 150, 255);\"></td><td title=\"Index: [8, 3]&#10;Color: (0, 150, 255)\" style=\"width: 20px; height: 20px;background-color: rgb(0, 150, 255);\"></td><td title=\"Index: [8, 4]&#10;Color: (0, 150, 255)\" style=\"width: 20px; height: 20px;background-color: rgb(0, 150, 255);\"></td><td title=\"Index: [8, 5]&#10;Color: (0, 150, 255)\" style=\"width: 20px; height: 20px;background-color: rgb(0, 150, 255);\"></td><td title=\"Index: [8, 6]&#10;Color: (0, 150, 255)\" style=\"width: 20px; height: 20px;background-color: rgb(0, 150, 255);\"></td><td title=\"Index: [8, 7]&#10;Color: (0, 150, 255)\" style=\"width: 20px; height: 20px;background-color: rgb(0, 150, 255);\"></td><td title=\"Index: [8, 8]&#10;Color: (0, 150, 255)\" style=\"width: 20px; height: 20px;background-color: rgb(0, 150, 255);\"></td><td title=\"Index: [8, 9]&#10;Color: (0, 150, 255)\" style=\"width: 20px; height: 20px;background-color: rgb(0, 150, 255);\"></td></tr><tr><td title=\"Index: [9, 0]&#10;Color: (0, 150, 255)\" style=\"width: 20px; height: 20px;background-color: rgb(0, 150, 255);\"></td><td title=\"Index: [9, 1]&#10;Color: (0, 150, 255)\" style=\"width: 20px; height: 20px;background-color: rgb(0, 150, 255);\"></td><td title=\"Index: [9, 2]&#10;Color: (0, 150, 255)\" style=\"width: 20px; height: 20px;background-color: rgb(0, 150, 255);\"></td><td title=\"Index: [9, 3]&#10;Color: (0, 150, 255)\" style=\"width: 20px; height: 20px;background-color: rgb(0, 150, 255);\"></td><td title=\"Index: [9, 4]&#10;Color: (0, 150, 255)\" style=\"width: 20px; height: 20px;background-color: rgb(0, 150, 255);\"></td><td title=\"Index: [9, 5]&#10;Color: (0, 150, 255)\" style=\"width: 20px; height: 20px;background-color: rgb(0, 150, 255);\"></td><td title=\"Index: [9, 6]&#10;Color: (0, 150, 255)\" style=\"width: 20px; height: 20px;background-color: rgb(0, 150, 255);\"></td><td title=\"Index: [9, 7]&#10;Color: (0, 150, 255)\" style=\"width: 20px; height: 20px;background-color: rgb(0, 150, 255);\"></td><td title=\"Index: [9, 8]&#10;Color: (0, 150, 255)\" style=\"width: 20px; height: 20px;background-color: rgb(0, 150, 255);\"></td><td title=\"Index: [9, 9]&#10;Color: (0, 150, 255)\" style=\"width: 20px; height: 20px;background-color: rgb(0, 150, 255);\"></td></tr></tbody></table>"
       ],
       "metadata": {},
       "output_type": "display_data",
       "text": [
        "<IPython.core.display.HTML at 0x2d41030>"
       ]
      },
      {
       "output_type": "stream",
       "stream": "stdout",
       "text": [
        "Turn 2\n"
       ]
      },
      {
       "name": "stdout",
       "output_type": "stream",
       "stream": "stdout",
       "text": [
        "Guess Row: 4\n"
       ]
      },
      {
       "name": "stdout",
       "output_type": "stream",
       "stream": "stdout",
       "text": [
        "Guess Col: 5\n"
       ]
      },
      {
       "output_type": "stream",
       "stream": "stdout",
       "text": [
        "That's a hit!\n",
        "Just a flesh wound...\n"
       ]
      },
      {
       "html": [
        "<style type=\"text/css\">table.blockgrid {border: none;} .blockgrid tr {border: none;} .blockgrid td {padding: 0px;} #blocksc2bfc82e-c47a-488b-acc5-10184786e514 td {border: 1px solid white;}</style><table id=\"blocksc2bfc82e-c47a-488b-acc5-10184786e514\" class=\"blockgrid\"><tbody><tr><td title=\"Index: [0, 0]&#10;Color: (0, 150, 255)\" style=\"width: 20px; height: 20px;background-color: rgb(0, 150, 255);\"></td><td title=\"Index: [0, 1]&#10;Color: (0, 150, 255)\" style=\"width: 20px; height: 20px;background-color: rgb(0, 150, 255);\"></td><td title=\"Index: [0, 2]&#10;Color: (0, 150, 255)\" style=\"width: 20px; height: 20px;background-color: rgb(0, 150, 255);\"></td><td title=\"Index: [0, 3]&#10;Color: (0, 150, 255)\" style=\"width: 20px; height: 20px;background-color: rgb(0, 150, 255);\"></td><td title=\"Index: [0, 4]&#10;Color: (0, 150, 255)\" style=\"width: 20px; height: 20px;background-color: rgb(0, 150, 255);\"></td><td title=\"Index: [0, 5]&#10;Color: (0, 150, 255)\" style=\"width: 20px; height: 20px;background-color: rgb(0, 150, 255);\"></td><td title=\"Index: [0, 6]&#10;Color: (0, 150, 255)\" style=\"width: 20px; height: 20px;background-color: rgb(0, 150, 255);\"></td><td title=\"Index: [0, 7]&#10;Color: (0, 150, 255)\" style=\"width: 20px; height: 20px;background-color: rgb(0, 150, 255);\"></td><td title=\"Index: [0, 8]&#10;Color: (0, 150, 255)\" style=\"width: 20px; height: 20px;background-color: rgb(0, 150, 255);\"></td><td title=\"Index: [0, 9]&#10;Color: (0, 150, 255)\" style=\"width: 20px; height: 20px;background-color: rgb(0, 150, 255);\"></td></tr><tr><td title=\"Index: [1, 0]&#10;Color: (0, 150, 255)\" style=\"width: 20px; height: 20px;background-color: rgb(0, 150, 255);\"></td><td title=\"Index: [1, 1]&#10;Color: (0, 150, 255)\" style=\"width: 20px; height: 20px;background-color: rgb(0, 150, 255);\"></td><td title=\"Index: [1, 2]&#10;Color: (0, 150, 255)\" style=\"width: 20px; height: 20px;background-color: rgb(0, 150, 255);\"></td><td title=\"Index: [1, 3]&#10;Color: (0, 150, 255)\" style=\"width: 20px; height: 20px;background-color: rgb(0, 150, 255);\"></td><td title=\"Index: [1, 4]&#10;Color: (0, 150, 255)\" style=\"width: 20px; height: 20px;background-color: rgb(0, 150, 255);\"></td><td title=\"Index: [1, 5]&#10;Color: (0, 150, 255)\" style=\"width: 20px; height: 20px;background-color: rgb(0, 150, 255);\"></td><td title=\"Index: [1, 6]&#10;Color: (0, 150, 255)\" style=\"width: 20px; height: 20px;background-color: rgb(0, 150, 255);\"></td><td title=\"Index: [1, 7]&#10;Color: (0, 150, 255)\" style=\"width: 20px; height: 20px;background-color: rgb(0, 150, 255);\"></td><td title=\"Index: [1, 8]&#10;Color: (0, 150, 255)\" style=\"width: 20px; height: 20px;background-color: rgb(0, 150, 255);\"></td><td title=\"Index: [1, 9]&#10;Color: (0, 150, 255)\" style=\"width: 20px; height: 20px;background-color: rgb(0, 150, 255);\"></td></tr><tr><td title=\"Index: [2, 0]&#10;Color: (0, 150, 255)\" style=\"width: 20px; height: 20px;background-color: rgb(0, 150, 255);\"></td><td title=\"Index: [2, 1]&#10;Color: (0, 150, 255)\" style=\"width: 20px; height: 20px;background-color: rgb(0, 150, 255);\"></td><td title=\"Index: [2, 2]&#10;Color: (0, 150, 255)\" style=\"width: 20px; height: 20px;background-color: rgb(0, 150, 255);\"></td><td title=\"Index: [2, 3]&#10;Color: (0, 150, 255)\" style=\"width: 20px; height: 20px;background-color: rgb(0, 150, 255);\"></td><td title=\"Index: [2, 4]&#10;Color: (0, 150, 255)\" style=\"width: 20px; height: 20px;background-color: rgb(0, 150, 255);\"></td><td title=\"Index: [2, 5]&#10;Color: (0, 150, 255)\" style=\"width: 20px; height: 20px;background-color: rgb(0, 150, 255);\"></td><td title=\"Index: [2, 6]&#10;Color: (0, 150, 255)\" style=\"width: 20px; height: 20px;background-color: rgb(0, 150, 255);\"></td><td title=\"Index: [2, 7]&#10;Color: (0, 150, 255)\" style=\"width: 20px; height: 20px;background-color: rgb(0, 150, 255);\"></td><td title=\"Index: [2, 8]&#10;Color: (0, 150, 255)\" style=\"width: 20px; height: 20px;background-color: rgb(0, 150, 255);\"></td><td title=\"Index: [2, 9]&#10;Color: (0, 150, 255)\" style=\"width: 20px; height: 20px;background-color: rgb(0, 150, 255);\"></td></tr><tr><td title=\"Index: [3, 0]&#10;Color: (0, 150, 255)\" style=\"width: 20px; height: 20px;background-color: rgb(0, 150, 255);\"></td><td title=\"Index: [3, 1]&#10;Color: (0, 150, 255)\" style=\"width: 20px; height: 20px;background-color: rgb(0, 150, 255);\"></td><td title=\"Index: [3, 2]&#10;Color: (0, 150, 255)\" style=\"width: 20px; height: 20px;background-color: rgb(0, 150, 255);\"></td><td title=\"Index: [3, 3]&#10;Color: (0, 150, 255)\" style=\"width: 20px; height: 20px;background-color: rgb(0, 150, 255);\"></td><td title=\"Index: [3, 4]&#10;Color: (0, 150, 255)\" style=\"width: 20px; height: 20px;background-color: rgb(0, 150, 255);\"></td><td title=\"Index: [3, 5]&#10;Color: (0, 150, 255)\" style=\"width: 20px; height: 20px;background-color: rgb(0, 150, 255);\"></td><td title=\"Index: [3, 6]&#10;Color: (0, 150, 255)\" style=\"width: 20px; height: 20px;background-color: rgb(0, 150, 255);\"></td><td title=\"Index: [3, 7]&#10;Color: (0, 150, 255)\" style=\"width: 20px; height: 20px;background-color: rgb(0, 150, 255);\"></td><td title=\"Index: [3, 8]&#10;Color: (0, 150, 255)\" style=\"width: 20px; height: 20px;background-color: rgb(0, 150, 255);\"></td><td title=\"Index: [3, 9]&#10;Color: (0, 150, 255)\" style=\"width: 20px; height: 20px;background-color: rgb(0, 150, 255);\"></td></tr><tr><td title=\"Index: [4, 0]&#10;Color: (0, 150, 255)\" style=\"width: 20px; height: 20px;background-color: rgb(0, 150, 255);\"></td><td title=\"Index: [4, 1]&#10;Color: (0, 150, 255)\" style=\"width: 20px; height: 20px;background-color: rgb(0, 150, 255);\"></td><td title=\"Index: [4, 2]&#10;Color: (0, 150, 255)\" style=\"width: 20px; height: 20px;background-color: rgb(0, 150, 255);\"></td><td title=\"Index: [4, 3]&#10;Color: (0, 150, 255)\" style=\"width: 20px; height: 20px;background-color: rgb(0, 150, 255);\"></td><td title=\"Index: [4, 4]&#10;Color: (0, 150, 255)\" style=\"width: 20px; height: 20px;background-color: rgb(0, 150, 255);\"></td><td title=\"Index: [4, 5]&#10;Color: (255, 0, 0)\" style=\"width: 20px; height: 20px;background-color: rgb(255, 0, 0);\"></td><td title=\"Index: [4, 6]&#10;Color: (0, 150, 255)\" style=\"width: 20px; height: 20px;background-color: rgb(0, 150, 255);\"></td><td title=\"Index: [4, 7]&#10;Color: (0, 150, 255)\" style=\"width: 20px; height: 20px;background-color: rgb(0, 150, 255);\"></td><td title=\"Index: [4, 8]&#10;Color: (0, 150, 255)\" style=\"width: 20px; height: 20px;background-color: rgb(0, 150, 255);\"></td><td title=\"Index: [4, 9]&#10;Color: (0, 150, 255)\" style=\"width: 20px; height: 20px;background-color: rgb(0, 150, 255);\"></td></tr><tr><td title=\"Index: [5, 0]&#10;Color: (0, 150, 255)\" style=\"width: 20px; height: 20px;background-color: rgb(0, 150, 255);\"></td><td title=\"Index: [5, 1]&#10;Color: (0, 150, 255)\" style=\"width: 20px; height: 20px;background-color: rgb(0, 150, 255);\"></td><td title=\"Index: [5, 2]&#10;Color: (0, 150, 255)\" style=\"width: 20px; height: 20px;background-color: rgb(0, 150, 255);\"></td><td title=\"Index: [5, 3]&#10;Color: (0, 150, 255)\" style=\"width: 20px; height: 20px;background-color: rgb(0, 150, 255);\"></td><td title=\"Index: [5, 4]&#10;Color: (0, 150, 255)\" style=\"width: 20px; height: 20px;background-color: rgb(0, 150, 255);\"></td><td title=\"Index: [5, 5]&#10;Color: (255, 0, 0)\" style=\"width: 20px; height: 20px;background-color: rgb(255, 0, 0);\"></td><td title=\"Index: [5, 6]&#10;Color: (0, 150, 255)\" style=\"width: 20px; height: 20px;background-color: rgb(0, 150, 255);\"></td><td title=\"Index: [5, 7]&#10;Color: (0, 150, 255)\" style=\"width: 20px; height: 20px;background-color: rgb(0, 150, 255);\"></td><td title=\"Index: [5, 8]&#10;Color: (0, 150, 255)\" style=\"width: 20px; height: 20px;background-color: rgb(0, 150, 255);\"></td><td title=\"Index: [5, 9]&#10;Color: (0, 150, 255)\" style=\"width: 20px; height: 20px;background-color: rgb(0, 150, 255);\"></td></tr><tr><td title=\"Index: [6, 0]&#10;Color: (0, 150, 255)\" style=\"width: 20px; height: 20px;background-color: rgb(0, 150, 255);\"></td><td title=\"Index: [6, 1]&#10;Color: (0, 150, 255)\" style=\"width: 20px; height: 20px;background-color: rgb(0, 150, 255);\"></td><td title=\"Index: [6, 2]&#10;Color: (0, 150, 255)\" style=\"width: 20px; height: 20px;background-color: rgb(0, 150, 255);\"></td><td title=\"Index: [6, 3]&#10;Color: (0, 150, 255)\" style=\"width: 20px; height: 20px;background-color: rgb(0, 150, 255);\"></td><td title=\"Index: [6, 4]&#10;Color: (0, 150, 255)\" style=\"width: 20px; height: 20px;background-color: rgb(0, 150, 255);\"></td><td title=\"Index: [6, 5]&#10;Color: (0, 150, 255)\" style=\"width: 20px; height: 20px;background-color: rgb(0, 150, 255);\"></td><td title=\"Index: [6, 6]&#10;Color: (0, 150, 255)\" style=\"width: 20px; height: 20px;background-color: rgb(0, 150, 255);\"></td><td title=\"Index: [6, 7]&#10;Color: (0, 150, 255)\" style=\"width: 20px; height: 20px;background-color: rgb(0, 150, 255);\"></td><td title=\"Index: [6, 8]&#10;Color: (0, 150, 255)\" style=\"width: 20px; height: 20px;background-color: rgb(0, 150, 255);\"></td><td title=\"Index: [6, 9]&#10;Color: (0, 150, 255)\" style=\"width: 20px; height: 20px;background-color: rgb(0, 150, 255);\"></td></tr><tr><td title=\"Index: [7, 0]&#10;Color: (0, 150, 255)\" style=\"width: 20px; height: 20px;background-color: rgb(0, 150, 255);\"></td><td title=\"Index: [7, 1]&#10;Color: (0, 150, 255)\" style=\"width: 20px; height: 20px;background-color: rgb(0, 150, 255);\"></td><td title=\"Index: [7, 2]&#10;Color: (0, 150, 255)\" style=\"width: 20px; height: 20px;background-color: rgb(0, 150, 255);\"></td><td title=\"Index: [7, 3]&#10;Color: (0, 150, 255)\" style=\"width: 20px; height: 20px;background-color: rgb(0, 150, 255);\"></td><td title=\"Index: [7, 4]&#10;Color: (0, 150, 255)\" style=\"width: 20px; height: 20px;background-color: rgb(0, 150, 255);\"></td><td title=\"Index: [7, 5]&#10;Color: (0, 150, 255)\" style=\"width: 20px; height: 20px;background-color: rgb(0, 150, 255);\"></td><td title=\"Index: [7, 6]&#10;Color: (0, 150, 255)\" style=\"width: 20px; height: 20px;background-color: rgb(0, 150, 255);\"></td><td title=\"Index: [7, 7]&#10;Color: (0, 150, 255)\" style=\"width: 20px; height: 20px;background-color: rgb(0, 150, 255);\"></td><td title=\"Index: [7, 8]&#10;Color: (0, 150, 255)\" style=\"width: 20px; height: 20px;background-color: rgb(0, 150, 255);\"></td><td title=\"Index: [7, 9]&#10;Color: (0, 150, 255)\" style=\"width: 20px; height: 20px;background-color: rgb(0, 150, 255);\"></td></tr><tr><td title=\"Index: [8, 0]&#10;Color: (0, 150, 255)\" style=\"width: 20px; height: 20px;background-color: rgb(0, 150, 255);\"></td><td title=\"Index: [8, 1]&#10;Color: (0, 150, 255)\" style=\"width: 20px; height: 20px;background-color: rgb(0, 150, 255);\"></td><td title=\"Index: [8, 2]&#10;Color: (0, 150, 255)\" style=\"width: 20px; height: 20px;background-color: rgb(0, 150, 255);\"></td><td title=\"Index: [8, 3]&#10;Color: (0, 150, 255)\" style=\"width: 20px; height: 20px;background-color: rgb(0, 150, 255);\"></td><td title=\"Index: [8, 4]&#10;Color: (0, 150, 255)\" style=\"width: 20px; height: 20px;background-color: rgb(0, 150, 255);\"></td><td title=\"Index: [8, 5]&#10;Color: (0, 150, 255)\" style=\"width: 20px; height: 20px;background-color: rgb(0, 150, 255);\"></td><td title=\"Index: [8, 6]&#10;Color: (0, 150, 255)\" style=\"width: 20px; height: 20px;background-color: rgb(0, 150, 255);\"></td><td title=\"Index: [8, 7]&#10;Color: (0, 150, 255)\" style=\"width: 20px; height: 20px;background-color: rgb(0, 150, 255);\"></td><td title=\"Index: [8, 8]&#10;Color: (0, 150, 255)\" style=\"width: 20px; height: 20px;background-color: rgb(0, 150, 255);\"></td><td title=\"Index: [8, 9]&#10;Color: (0, 150, 255)\" style=\"width: 20px; height: 20px;background-color: rgb(0, 150, 255);\"></td></tr><tr><td title=\"Index: [9, 0]&#10;Color: (0, 150, 255)\" style=\"width: 20px; height: 20px;background-color: rgb(0, 150, 255);\"></td><td title=\"Index: [9, 1]&#10;Color: (0, 150, 255)\" style=\"width: 20px; height: 20px;background-color: rgb(0, 150, 255);\"></td><td title=\"Index: [9, 2]&#10;Color: (0, 150, 255)\" style=\"width: 20px; height: 20px;background-color: rgb(0, 150, 255);\"></td><td title=\"Index: [9, 3]&#10;Color: (0, 150, 255)\" style=\"width: 20px; height: 20px;background-color: rgb(0, 150, 255);\"></td><td title=\"Index: [9, 4]&#10;Color: (0, 150, 255)\" style=\"width: 20px; height: 20px;background-color: rgb(0, 150, 255);\"></td><td title=\"Index: [9, 5]&#10;Color: (0, 150, 255)\" style=\"width: 20px; height: 20px;background-color: rgb(0, 150, 255);\"></td><td title=\"Index: [9, 6]&#10;Color: (0, 150, 255)\" style=\"width: 20px; height: 20px;background-color: rgb(0, 150, 255);\"></td><td title=\"Index: [9, 7]&#10;Color: (0, 150, 255)\" style=\"width: 20px; height: 20px;background-color: rgb(0, 150, 255);\"></td><td title=\"Index: [9, 8]&#10;Color: (0, 150, 255)\" style=\"width: 20px; height: 20px;background-color: rgb(0, 150, 255);\"></td><td title=\"Index: [9, 9]&#10;Color: (0, 150, 255)\" style=\"width: 20px; height: 20px;background-color: rgb(0, 150, 255);\"></td></tr></tbody></table>"
       ],
       "metadata": {},
       "output_type": "display_data",
       "text": [
        "<IPython.core.display.HTML at 0x2d41570>"
       ]
      },
      {
       "output_type": "stream",
       "stream": "stdout",
       "text": [
        "Turn 3\n"
       ]
      },
      {
       "name": "stdout",
       "output_type": "stream",
       "stream": "stdout",
       "text": [
        "Guess Row: 3\n"
       ]
      },
      {
       "name": "stdout",
       "output_type": "stream",
       "stream": "stdout",
       "text": [
        "Guess Col: 5\n"
       ]
      },
      {
       "output_type": "stream",
       "stream": "stdout",
       "text": [
        "You missed my battleship! Try harder.\n"
       ]
      },
      {
       "html": [
        "<style type=\"text/css\">table.blockgrid {border: none;} .blockgrid tr {border: none;} .blockgrid td {padding: 0px;} #blocks7bc6f523-265b-4d4b-87b7-c44f1de9127d td {border: 1px solid white;}</style><table id=\"blocks7bc6f523-265b-4d4b-87b7-c44f1de9127d\" class=\"blockgrid\"><tbody><tr><td title=\"Index: [0, 0]&#10;Color: (0, 150, 255)\" style=\"width: 20px; height: 20px;background-color: rgb(0, 150, 255);\"></td><td title=\"Index: [0, 1]&#10;Color: (0, 150, 255)\" style=\"width: 20px; height: 20px;background-color: rgb(0, 150, 255);\"></td><td title=\"Index: [0, 2]&#10;Color: (0, 150, 255)\" style=\"width: 20px; height: 20px;background-color: rgb(0, 150, 255);\"></td><td title=\"Index: [0, 3]&#10;Color: (0, 150, 255)\" style=\"width: 20px; height: 20px;background-color: rgb(0, 150, 255);\"></td><td title=\"Index: [0, 4]&#10;Color: (0, 150, 255)\" style=\"width: 20px; height: 20px;background-color: rgb(0, 150, 255);\"></td><td title=\"Index: [0, 5]&#10;Color: (0, 150, 255)\" style=\"width: 20px; height: 20px;background-color: rgb(0, 150, 255);\"></td><td title=\"Index: [0, 6]&#10;Color: (0, 150, 255)\" style=\"width: 20px; height: 20px;background-color: rgb(0, 150, 255);\"></td><td title=\"Index: [0, 7]&#10;Color: (0, 150, 255)\" style=\"width: 20px; height: 20px;background-color: rgb(0, 150, 255);\"></td><td title=\"Index: [0, 8]&#10;Color: (0, 150, 255)\" style=\"width: 20px; height: 20px;background-color: rgb(0, 150, 255);\"></td><td title=\"Index: [0, 9]&#10;Color: (0, 150, 255)\" style=\"width: 20px; height: 20px;background-color: rgb(0, 150, 255);\"></td></tr><tr><td title=\"Index: [1, 0]&#10;Color: (0, 150, 255)\" style=\"width: 20px; height: 20px;background-color: rgb(0, 150, 255);\"></td><td title=\"Index: [1, 1]&#10;Color: (0, 150, 255)\" style=\"width: 20px; height: 20px;background-color: rgb(0, 150, 255);\"></td><td title=\"Index: [1, 2]&#10;Color: (0, 150, 255)\" style=\"width: 20px; height: 20px;background-color: rgb(0, 150, 255);\"></td><td title=\"Index: [1, 3]&#10;Color: (0, 150, 255)\" style=\"width: 20px; height: 20px;background-color: rgb(0, 150, 255);\"></td><td title=\"Index: [1, 4]&#10;Color: (0, 150, 255)\" style=\"width: 20px; height: 20px;background-color: rgb(0, 150, 255);\"></td><td title=\"Index: [1, 5]&#10;Color: (0, 150, 255)\" style=\"width: 20px; height: 20px;background-color: rgb(0, 150, 255);\"></td><td title=\"Index: [1, 6]&#10;Color: (0, 150, 255)\" style=\"width: 20px; height: 20px;background-color: rgb(0, 150, 255);\"></td><td title=\"Index: [1, 7]&#10;Color: (0, 150, 255)\" style=\"width: 20px; height: 20px;background-color: rgb(0, 150, 255);\"></td><td title=\"Index: [1, 8]&#10;Color: (0, 150, 255)\" style=\"width: 20px; height: 20px;background-color: rgb(0, 150, 255);\"></td><td title=\"Index: [1, 9]&#10;Color: (0, 150, 255)\" style=\"width: 20px; height: 20px;background-color: rgb(0, 150, 255);\"></td></tr><tr><td title=\"Index: [2, 0]&#10;Color: (0, 150, 255)\" style=\"width: 20px; height: 20px;background-color: rgb(0, 150, 255);\"></td><td title=\"Index: [2, 1]&#10;Color: (0, 150, 255)\" style=\"width: 20px; height: 20px;background-color: rgb(0, 150, 255);\"></td><td title=\"Index: [2, 2]&#10;Color: (0, 150, 255)\" style=\"width: 20px; height: 20px;background-color: rgb(0, 150, 255);\"></td><td title=\"Index: [2, 3]&#10;Color: (0, 150, 255)\" style=\"width: 20px; height: 20px;background-color: rgb(0, 150, 255);\"></td><td title=\"Index: [2, 4]&#10;Color: (0, 150, 255)\" style=\"width: 20px; height: 20px;background-color: rgb(0, 150, 255);\"></td><td title=\"Index: [2, 5]&#10;Color: (0, 150, 255)\" style=\"width: 20px; height: 20px;background-color: rgb(0, 150, 255);\"></td><td title=\"Index: [2, 6]&#10;Color: (0, 150, 255)\" style=\"width: 20px; height: 20px;background-color: rgb(0, 150, 255);\"></td><td title=\"Index: [2, 7]&#10;Color: (0, 150, 255)\" style=\"width: 20px; height: 20px;background-color: rgb(0, 150, 255);\"></td><td title=\"Index: [2, 8]&#10;Color: (0, 150, 255)\" style=\"width: 20px; height: 20px;background-color: rgb(0, 150, 255);\"></td><td title=\"Index: [2, 9]&#10;Color: (0, 150, 255)\" style=\"width: 20px; height: 20px;background-color: rgb(0, 150, 255);\"></td></tr><tr><td title=\"Index: [3, 0]&#10;Color: (0, 150, 255)\" style=\"width: 20px; height: 20px;background-color: rgb(0, 150, 255);\"></td><td title=\"Index: [3, 1]&#10;Color: (0, 150, 255)\" style=\"width: 20px; height: 20px;background-color: rgb(0, 150, 255);\"></td><td title=\"Index: [3, 2]&#10;Color: (0, 150, 255)\" style=\"width: 20px; height: 20px;background-color: rgb(0, 150, 255);\"></td><td title=\"Index: [3, 3]&#10;Color: (0, 150, 255)\" style=\"width: 20px; height: 20px;background-color: rgb(0, 150, 255);\"></td><td title=\"Index: [3, 4]&#10;Color: (0, 150, 255)\" style=\"width: 20px; height: 20px;background-color: rgb(0, 150, 255);\"></td><td title=\"Index: [3, 5]&#10;Color: (0, 0, 0)\" style=\"width: 20px; height: 20px;background-color: rgb(0, 0, 0);\"></td><td title=\"Index: [3, 6]&#10;Color: (0, 150, 255)\" style=\"width: 20px; height: 20px;background-color: rgb(0, 150, 255);\"></td><td title=\"Index: [3, 7]&#10;Color: (0, 150, 255)\" style=\"width: 20px; height: 20px;background-color: rgb(0, 150, 255);\"></td><td title=\"Index: [3, 8]&#10;Color: (0, 150, 255)\" style=\"width: 20px; height: 20px;background-color: rgb(0, 150, 255);\"></td><td title=\"Index: [3, 9]&#10;Color: (0, 150, 255)\" style=\"width: 20px; height: 20px;background-color: rgb(0, 150, 255);\"></td></tr><tr><td title=\"Index: [4, 0]&#10;Color: (0, 150, 255)\" style=\"width: 20px; height: 20px;background-color: rgb(0, 150, 255);\"></td><td title=\"Index: [4, 1]&#10;Color: (0, 150, 255)\" style=\"width: 20px; height: 20px;background-color: rgb(0, 150, 255);\"></td><td title=\"Index: [4, 2]&#10;Color: (0, 150, 255)\" style=\"width: 20px; height: 20px;background-color: rgb(0, 150, 255);\"></td><td title=\"Index: [4, 3]&#10;Color: (0, 150, 255)\" style=\"width: 20px; height: 20px;background-color: rgb(0, 150, 255);\"></td><td title=\"Index: [4, 4]&#10;Color: (0, 150, 255)\" style=\"width: 20px; height: 20px;background-color: rgb(0, 150, 255);\"></td><td title=\"Index: [4, 5]&#10;Color: (255, 0, 0)\" style=\"width: 20px; height: 20px;background-color: rgb(255, 0, 0);\"></td><td title=\"Index: [4, 6]&#10;Color: (0, 150, 255)\" style=\"width: 20px; height: 20px;background-color: rgb(0, 150, 255);\"></td><td title=\"Index: [4, 7]&#10;Color: (0, 150, 255)\" style=\"width: 20px; height: 20px;background-color: rgb(0, 150, 255);\"></td><td title=\"Index: [4, 8]&#10;Color: (0, 150, 255)\" style=\"width: 20px; height: 20px;background-color: rgb(0, 150, 255);\"></td><td title=\"Index: [4, 9]&#10;Color: (0, 150, 255)\" style=\"width: 20px; height: 20px;background-color: rgb(0, 150, 255);\"></td></tr><tr><td title=\"Index: [5, 0]&#10;Color: (0, 150, 255)\" style=\"width: 20px; height: 20px;background-color: rgb(0, 150, 255);\"></td><td title=\"Index: [5, 1]&#10;Color: (0, 150, 255)\" style=\"width: 20px; height: 20px;background-color: rgb(0, 150, 255);\"></td><td title=\"Index: [5, 2]&#10;Color: (0, 150, 255)\" style=\"width: 20px; height: 20px;background-color: rgb(0, 150, 255);\"></td><td title=\"Index: [5, 3]&#10;Color: (0, 150, 255)\" style=\"width: 20px; height: 20px;background-color: rgb(0, 150, 255);\"></td><td title=\"Index: [5, 4]&#10;Color: (0, 150, 255)\" style=\"width: 20px; height: 20px;background-color: rgb(0, 150, 255);\"></td><td title=\"Index: [5, 5]&#10;Color: (255, 0, 0)\" style=\"width: 20px; height: 20px;background-color: rgb(255, 0, 0);\"></td><td title=\"Index: [5, 6]&#10;Color: (0, 150, 255)\" style=\"width: 20px; height: 20px;background-color: rgb(0, 150, 255);\"></td><td title=\"Index: [5, 7]&#10;Color: (0, 150, 255)\" style=\"width: 20px; height: 20px;background-color: rgb(0, 150, 255);\"></td><td title=\"Index: [5, 8]&#10;Color: (0, 150, 255)\" style=\"width: 20px; height: 20px;background-color: rgb(0, 150, 255);\"></td><td title=\"Index: [5, 9]&#10;Color: (0, 150, 255)\" style=\"width: 20px; height: 20px;background-color: rgb(0, 150, 255);\"></td></tr><tr><td title=\"Index: [6, 0]&#10;Color: (0, 150, 255)\" style=\"width: 20px; height: 20px;background-color: rgb(0, 150, 255);\"></td><td title=\"Index: [6, 1]&#10;Color: (0, 150, 255)\" style=\"width: 20px; height: 20px;background-color: rgb(0, 150, 255);\"></td><td title=\"Index: [6, 2]&#10;Color: (0, 150, 255)\" style=\"width: 20px; height: 20px;background-color: rgb(0, 150, 255);\"></td><td title=\"Index: [6, 3]&#10;Color: (0, 150, 255)\" style=\"width: 20px; height: 20px;background-color: rgb(0, 150, 255);\"></td><td title=\"Index: [6, 4]&#10;Color: (0, 150, 255)\" style=\"width: 20px; height: 20px;background-color: rgb(0, 150, 255);\"></td><td title=\"Index: [6, 5]&#10;Color: (0, 150, 255)\" style=\"width: 20px; height: 20px;background-color: rgb(0, 150, 255);\"></td><td title=\"Index: [6, 6]&#10;Color: (0, 150, 255)\" style=\"width: 20px; height: 20px;background-color: rgb(0, 150, 255);\"></td><td title=\"Index: [6, 7]&#10;Color: (0, 150, 255)\" style=\"width: 20px; height: 20px;background-color: rgb(0, 150, 255);\"></td><td title=\"Index: [6, 8]&#10;Color: (0, 150, 255)\" style=\"width: 20px; height: 20px;background-color: rgb(0, 150, 255);\"></td><td title=\"Index: [6, 9]&#10;Color: (0, 150, 255)\" style=\"width: 20px; height: 20px;background-color: rgb(0, 150, 255);\"></td></tr><tr><td title=\"Index: [7, 0]&#10;Color: (0, 150, 255)\" style=\"width: 20px; height: 20px;background-color: rgb(0, 150, 255);\"></td><td title=\"Index: [7, 1]&#10;Color: (0, 150, 255)\" style=\"width: 20px; height: 20px;background-color: rgb(0, 150, 255);\"></td><td title=\"Index: [7, 2]&#10;Color: (0, 150, 255)\" style=\"width: 20px; height: 20px;background-color: rgb(0, 150, 255);\"></td><td title=\"Index: [7, 3]&#10;Color: (0, 150, 255)\" style=\"width: 20px; height: 20px;background-color: rgb(0, 150, 255);\"></td><td title=\"Index: [7, 4]&#10;Color: (0, 150, 255)\" style=\"width: 20px; height: 20px;background-color: rgb(0, 150, 255);\"></td><td title=\"Index: [7, 5]&#10;Color: (0, 150, 255)\" style=\"width: 20px; height: 20px;background-color: rgb(0, 150, 255);\"></td><td title=\"Index: [7, 6]&#10;Color: (0, 150, 255)\" style=\"width: 20px; height: 20px;background-color: rgb(0, 150, 255);\"></td><td title=\"Index: [7, 7]&#10;Color: (0, 150, 255)\" style=\"width: 20px; height: 20px;background-color: rgb(0, 150, 255);\"></td><td title=\"Index: [7, 8]&#10;Color: (0, 150, 255)\" style=\"width: 20px; height: 20px;background-color: rgb(0, 150, 255);\"></td><td title=\"Index: [7, 9]&#10;Color: (0, 150, 255)\" style=\"width: 20px; height: 20px;background-color: rgb(0, 150, 255);\"></td></tr><tr><td title=\"Index: [8, 0]&#10;Color: (0, 150, 255)\" style=\"width: 20px; height: 20px;background-color: rgb(0, 150, 255);\"></td><td title=\"Index: [8, 1]&#10;Color: (0, 150, 255)\" style=\"width: 20px; height: 20px;background-color: rgb(0, 150, 255);\"></td><td title=\"Index: [8, 2]&#10;Color: (0, 150, 255)\" style=\"width: 20px; height: 20px;background-color: rgb(0, 150, 255);\"></td><td title=\"Index: [8, 3]&#10;Color: (0, 150, 255)\" style=\"width: 20px; height: 20px;background-color: rgb(0, 150, 255);\"></td><td title=\"Index: [8, 4]&#10;Color: (0, 150, 255)\" style=\"width: 20px; height: 20px;background-color: rgb(0, 150, 255);\"></td><td title=\"Index: [8, 5]&#10;Color: (0, 150, 255)\" style=\"width: 20px; height: 20px;background-color: rgb(0, 150, 255);\"></td><td title=\"Index: [8, 6]&#10;Color: (0, 150, 255)\" style=\"width: 20px; height: 20px;background-color: rgb(0, 150, 255);\"></td><td title=\"Index: [8, 7]&#10;Color: (0, 150, 255)\" style=\"width: 20px; height: 20px;background-color: rgb(0, 150, 255);\"></td><td title=\"Index: [8, 8]&#10;Color: (0, 150, 255)\" style=\"width: 20px; height: 20px;background-color: rgb(0, 150, 255);\"></td><td title=\"Index: [8, 9]&#10;Color: (0, 150, 255)\" style=\"width: 20px; height: 20px;background-color: rgb(0, 150, 255);\"></td></tr><tr><td title=\"Index: [9, 0]&#10;Color: (0, 150, 255)\" style=\"width: 20px; height: 20px;background-color: rgb(0, 150, 255);\"></td><td title=\"Index: [9, 1]&#10;Color: (0, 150, 255)\" style=\"width: 20px; height: 20px;background-color: rgb(0, 150, 255);\"></td><td title=\"Index: [9, 2]&#10;Color: (0, 150, 255)\" style=\"width: 20px; height: 20px;background-color: rgb(0, 150, 255);\"></td><td title=\"Index: [9, 3]&#10;Color: (0, 150, 255)\" style=\"width: 20px; height: 20px;background-color: rgb(0, 150, 255);\"></td><td title=\"Index: [9, 4]&#10;Color: (0, 150, 255)\" style=\"width: 20px; height: 20px;background-color: rgb(0, 150, 255);\"></td><td title=\"Index: [9, 5]&#10;Color: (0, 150, 255)\" style=\"width: 20px; height: 20px;background-color: rgb(0, 150, 255);\"></td><td title=\"Index: [9, 6]&#10;Color: (0, 150, 255)\" style=\"width: 20px; height: 20px;background-color: rgb(0, 150, 255);\"></td><td title=\"Index: [9, 7]&#10;Color: (0, 150, 255)\" style=\"width: 20px; height: 20px;background-color: rgb(0, 150, 255);\"></td><td title=\"Index: [9, 8]&#10;Color: (0, 150, 255)\" style=\"width: 20px; height: 20px;background-color: rgb(0, 150, 255);\"></td><td title=\"Index: [9, 9]&#10;Color: (0, 150, 255)\" style=\"width: 20px; height: 20px;background-color: rgb(0, 150, 255);\"></td></tr></tbody></table>"
       ],
       "metadata": {},
       "output_type": "display_data",
       "text": [
        "<IPython.core.display.HTML at 0x2d369d0>"
       ]
      },
      {
       "output_type": "stream",
       "stream": "stdout",
       "text": [
        "Turn 4\n"
       ]
      },
      {
       "name": "stdout",
       "output_type": "stream",
       "stream": "stdout",
       "text": [
        "Guess Row: 6\n"
       ]
      },
      {
       "name": "stdout",
       "output_type": "stream",
       "stream": "stdout",
       "text": [
        "Guess Col: 5\n"
       ]
      },
      {
       "output_type": "stream",
       "stream": "stdout",
       "text": [
        "That's a hit!\n",
        "You win! I mean... we'll call it a draw!\n"
       ]
      },
      {
       "html": [
        "<style type=\"text/css\">table.blockgrid {border: none;} .blockgrid tr {border: none;} .blockgrid td {padding: 0px;} #blocks0fe61be6-c4ea-4088-a75c-95e2c3ff8a35 td {border: 1px solid white;}</style><table id=\"blocks0fe61be6-c4ea-4088-a75c-95e2c3ff8a35\" class=\"blockgrid\"><tbody><tr><td title=\"Index: [0, 0]&#10;Color: (0, 150, 255)\" style=\"width: 20px; height: 20px;background-color: rgb(0, 150, 255);\"></td><td title=\"Index: [0, 1]&#10;Color: (0, 150, 255)\" style=\"width: 20px; height: 20px;background-color: rgb(0, 150, 255);\"></td><td title=\"Index: [0, 2]&#10;Color: (0, 150, 255)\" style=\"width: 20px; height: 20px;background-color: rgb(0, 150, 255);\"></td><td title=\"Index: [0, 3]&#10;Color: (0, 150, 255)\" style=\"width: 20px; height: 20px;background-color: rgb(0, 150, 255);\"></td><td title=\"Index: [0, 4]&#10;Color: (0, 150, 255)\" style=\"width: 20px; height: 20px;background-color: rgb(0, 150, 255);\"></td><td title=\"Index: [0, 5]&#10;Color: (0, 150, 255)\" style=\"width: 20px; height: 20px;background-color: rgb(0, 150, 255);\"></td><td title=\"Index: [0, 6]&#10;Color: (0, 150, 255)\" style=\"width: 20px; height: 20px;background-color: rgb(0, 150, 255);\"></td><td title=\"Index: [0, 7]&#10;Color: (0, 150, 255)\" style=\"width: 20px; height: 20px;background-color: rgb(0, 150, 255);\"></td><td title=\"Index: [0, 8]&#10;Color: (0, 150, 255)\" style=\"width: 20px; height: 20px;background-color: rgb(0, 150, 255);\"></td><td title=\"Index: [0, 9]&#10;Color: (0, 150, 255)\" style=\"width: 20px; height: 20px;background-color: rgb(0, 150, 255);\"></td></tr><tr><td title=\"Index: [1, 0]&#10;Color: (0, 150, 255)\" style=\"width: 20px; height: 20px;background-color: rgb(0, 150, 255);\"></td><td title=\"Index: [1, 1]&#10;Color: (0, 150, 255)\" style=\"width: 20px; height: 20px;background-color: rgb(0, 150, 255);\"></td><td title=\"Index: [1, 2]&#10;Color: (0, 150, 255)\" style=\"width: 20px; height: 20px;background-color: rgb(0, 150, 255);\"></td><td title=\"Index: [1, 3]&#10;Color: (0, 150, 255)\" style=\"width: 20px; height: 20px;background-color: rgb(0, 150, 255);\"></td><td title=\"Index: [1, 4]&#10;Color: (0, 150, 255)\" style=\"width: 20px; height: 20px;background-color: rgb(0, 150, 255);\"></td><td title=\"Index: [1, 5]&#10;Color: (0, 150, 255)\" style=\"width: 20px; height: 20px;background-color: rgb(0, 150, 255);\"></td><td title=\"Index: [1, 6]&#10;Color: (0, 150, 255)\" style=\"width: 20px; height: 20px;background-color: rgb(0, 150, 255);\"></td><td title=\"Index: [1, 7]&#10;Color: (0, 150, 255)\" style=\"width: 20px; height: 20px;background-color: rgb(0, 150, 255);\"></td><td title=\"Index: [1, 8]&#10;Color: (0, 150, 255)\" style=\"width: 20px; height: 20px;background-color: rgb(0, 150, 255);\"></td><td title=\"Index: [1, 9]&#10;Color: (0, 150, 255)\" style=\"width: 20px; height: 20px;background-color: rgb(0, 150, 255);\"></td></tr><tr><td title=\"Index: [2, 0]&#10;Color: (0, 150, 255)\" style=\"width: 20px; height: 20px;background-color: rgb(0, 150, 255);\"></td><td title=\"Index: [2, 1]&#10;Color: (0, 150, 255)\" style=\"width: 20px; height: 20px;background-color: rgb(0, 150, 255);\"></td><td title=\"Index: [2, 2]&#10;Color: (0, 150, 255)\" style=\"width: 20px; height: 20px;background-color: rgb(0, 150, 255);\"></td><td title=\"Index: [2, 3]&#10;Color: (0, 150, 255)\" style=\"width: 20px; height: 20px;background-color: rgb(0, 150, 255);\"></td><td title=\"Index: [2, 4]&#10;Color: (0, 150, 255)\" style=\"width: 20px; height: 20px;background-color: rgb(0, 150, 255);\"></td><td title=\"Index: [2, 5]&#10;Color: (0, 150, 255)\" style=\"width: 20px; height: 20px;background-color: rgb(0, 150, 255);\"></td><td title=\"Index: [2, 6]&#10;Color: (0, 150, 255)\" style=\"width: 20px; height: 20px;background-color: rgb(0, 150, 255);\"></td><td title=\"Index: [2, 7]&#10;Color: (0, 150, 255)\" style=\"width: 20px; height: 20px;background-color: rgb(0, 150, 255);\"></td><td title=\"Index: [2, 8]&#10;Color: (0, 150, 255)\" style=\"width: 20px; height: 20px;background-color: rgb(0, 150, 255);\"></td><td title=\"Index: [2, 9]&#10;Color: (0, 150, 255)\" style=\"width: 20px; height: 20px;background-color: rgb(0, 150, 255);\"></td></tr><tr><td title=\"Index: [3, 0]&#10;Color: (0, 150, 255)\" style=\"width: 20px; height: 20px;background-color: rgb(0, 150, 255);\"></td><td title=\"Index: [3, 1]&#10;Color: (0, 150, 255)\" style=\"width: 20px; height: 20px;background-color: rgb(0, 150, 255);\"></td><td title=\"Index: [3, 2]&#10;Color: (0, 150, 255)\" style=\"width: 20px; height: 20px;background-color: rgb(0, 150, 255);\"></td><td title=\"Index: [3, 3]&#10;Color: (0, 150, 255)\" style=\"width: 20px; height: 20px;background-color: rgb(0, 150, 255);\"></td><td title=\"Index: [3, 4]&#10;Color: (0, 150, 255)\" style=\"width: 20px; height: 20px;background-color: rgb(0, 150, 255);\"></td><td title=\"Index: [3, 5]&#10;Color: (0, 0, 0)\" style=\"width: 20px; height: 20px;background-color: rgb(0, 0, 0);\"></td><td title=\"Index: [3, 6]&#10;Color: (0, 150, 255)\" style=\"width: 20px; height: 20px;background-color: rgb(0, 150, 255);\"></td><td title=\"Index: [3, 7]&#10;Color: (0, 150, 255)\" style=\"width: 20px; height: 20px;background-color: rgb(0, 150, 255);\"></td><td title=\"Index: [3, 8]&#10;Color: (0, 150, 255)\" style=\"width: 20px; height: 20px;background-color: rgb(0, 150, 255);\"></td><td title=\"Index: [3, 9]&#10;Color: (0, 150, 255)\" style=\"width: 20px; height: 20px;background-color: rgb(0, 150, 255);\"></td></tr><tr><td title=\"Index: [4, 0]&#10;Color: (0, 150, 255)\" style=\"width: 20px; height: 20px;background-color: rgb(0, 150, 255);\"></td><td title=\"Index: [4, 1]&#10;Color: (0, 150, 255)\" style=\"width: 20px; height: 20px;background-color: rgb(0, 150, 255);\"></td><td title=\"Index: [4, 2]&#10;Color: (0, 150, 255)\" style=\"width: 20px; height: 20px;background-color: rgb(0, 150, 255);\"></td><td title=\"Index: [4, 3]&#10;Color: (0, 150, 255)\" style=\"width: 20px; height: 20px;background-color: rgb(0, 150, 255);\"></td><td title=\"Index: [4, 4]&#10;Color: (0, 150, 255)\" style=\"width: 20px; height: 20px;background-color: rgb(0, 150, 255);\"></td><td title=\"Index: [4, 5]&#10;Color: (255, 0, 0)\" style=\"width: 20px; height: 20px;background-color: rgb(255, 0, 0);\"></td><td title=\"Index: [4, 6]&#10;Color: (0, 150, 255)\" style=\"width: 20px; height: 20px;background-color: rgb(0, 150, 255);\"></td><td title=\"Index: [4, 7]&#10;Color: (0, 150, 255)\" style=\"width: 20px; height: 20px;background-color: rgb(0, 150, 255);\"></td><td title=\"Index: [4, 8]&#10;Color: (0, 150, 255)\" style=\"width: 20px; height: 20px;background-color: rgb(0, 150, 255);\"></td><td title=\"Index: [4, 9]&#10;Color: (0, 150, 255)\" style=\"width: 20px; height: 20px;background-color: rgb(0, 150, 255);\"></td></tr><tr><td title=\"Index: [5, 0]&#10;Color: (0, 150, 255)\" style=\"width: 20px; height: 20px;background-color: rgb(0, 150, 255);\"></td><td title=\"Index: [5, 1]&#10;Color: (0, 150, 255)\" style=\"width: 20px; height: 20px;background-color: rgb(0, 150, 255);\"></td><td title=\"Index: [5, 2]&#10;Color: (0, 150, 255)\" style=\"width: 20px; height: 20px;background-color: rgb(0, 150, 255);\"></td><td title=\"Index: [5, 3]&#10;Color: (0, 150, 255)\" style=\"width: 20px; height: 20px;background-color: rgb(0, 150, 255);\"></td><td title=\"Index: [5, 4]&#10;Color: (0, 150, 255)\" style=\"width: 20px; height: 20px;background-color: rgb(0, 150, 255);\"></td><td title=\"Index: [5, 5]&#10;Color: (255, 0, 0)\" style=\"width: 20px; height: 20px;background-color: rgb(255, 0, 0);\"></td><td title=\"Index: [5, 6]&#10;Color: (0, 150, 255)\" style=\"width: 20px; height: 20px;background-color: rgb(0, 150, 255);\"></td><td title=\"Index: [5, 7]&#10;Color: (0, 150, 255)\" style=\"width: 20px; height: 20px;background-color: rgb(0, 150, 255);\"></td><td title=\"Index: [5, 8]&#10;Color: (0, 150, 255)\" style=\"width: 20px; height: 20px;background-color: rgb(0, 150, 255);\"></td><td title=\"Index: [5, 9]&#10;Color: (0, 150, 255)\" style=\"width: 20px; height: 20px;background-color: rgb(0, 150, 255);\"></td></tr><tr><td title=\"Index: [6, 0]&#10;Color: (0, 150, 255)\" style=\"width: 20px; height: 20px;background-color: rgb(0, 150, 255);\"></td><td title=\"Index: [6, 1]&#10;Color: (0, 150, 255)\" style=\"width: 20px; height: 20px;background-color: rgb(0, 150, 255);\"></td><td title=\"Index: [6, 2]&#10;Color: (0, 150, 255)\" style=\"width: 20px; height: 20px;background-color: rgb(0, 150, 255);\"></td><td title=\"Index: [6, 3]&#10;Color: (0, 150, 255)\" style=\"width: 20px; height: 20px;background-color: rgb(0, 150, 255);\"></td><td title=\"Index: [6, 4]&#10;Color: (0, 150, 255)\" style=\"width: 20px; height: 20px;background-color: rgb(0, 150, 255);\"></td><td title=\"Index: [6, 5]&#10;Color: (255, 0, 0)\" style=\"width: 20px; height: 20px;background-color: rgb(255, 0, 0);\"></td><td title=\"Index: [6, 6]&#10;Color: (0, 150, 255)\" style=\"width: 20px; height: 20px;background-color: rgb(0, 150, 255);\"></td><td title=\"Index: [6, 7]&#10;Color: (0, 150, 255)\" style=\"width: 20px; height: 20px;background-color: rgb(0, 150, 255);\"></td><td title=\"Index: [6, 8]&#10;Color: (0, 150, 255)\" style=\"width: 20px; height: 20px;background-color: rgb(0, 150, 255);\"></td><td title=\"Index: [6, 9]&#10;Color: (0, 150, 255)\" style=\"width: 20px; height: 20px;background-color: rgb(0, 150, 255);\"></td></tr><tr><td title=\"Index: [7, 0]&#10;Color: (0, 150, 255)\" style=\"width: 20px; height: 20px;background-color: rgb(0, 150, 255);\"></td><td title=\"Index: [7, 1]&#10;Color: (0, 150, 255)\" style=\"width: 20px; height: 20px;background-color: rgb(0, 150, 255);\"></td><td title=\"Index: [7, 2]&#10;Color: (0, 150, 255)\" style=\"width: 20px; height: 20px;background-color: rgb(0, 150, 255);\"></td><td title=\"Index: [7, 3]&#10;Color: (0, 150, 255)\" style=\"width: 20px; height: 20px;background-color: rgb(0, 150, 255);\"></td><td title=\"Index: [7, 4]&#10;Color: (0, 150, 255)\" style=\"width: 20px; height: 20px;background-color: rgb(0, 150, 255);\"></td><td title=\"Index: [7, 5]&#10;Color: (0, 150, 255)\" style=\"width: 20px; height: 20px;background-color: rgb(0, 150, 255);\"></td><td title=\"Index: [7, 6]&#10;Color: (0, 150, 255)\" style=\"width: 20px; height: 20px;background-color: rgb(0, 150, 255);\"></td><td title=\"Index: [7, 7]&#10;Color: (0, 150, 255)\" style=\"width: 20px; height: 20px;background-color: rgb(0, 150, 255);\"></td><td title=\"Index: [7, 8]&#10;Color: (0, 150, 255)\" style=\"width: 20px; height: 20px;background-color: rgb(0, 150, 255);\"></td><td title=\"Index: [7, 9]&#10;Color: (0, 150, 255)\" style=\"width: 20px; height: 20px;background-color: rgb(0, 150, 255);\"></td></tr><tr><td title=\"Index: [8, 0]&#10;Color: (0, 150, 255)\" style=\"width: 20px; height: 20px;background-color: rgb(0, 150, 255);\"></td><td title=\"Index: [8, 1]&#10;Color: (0, 150, 255)\" style=\"width: 20px; height: 20px;background-color: rgb(0, 150, 255);\"></td><td title=\"Index: [8, 2]&#10;Color: (0, 150, 255)\" style=\"width: 20px; height: 20px;background-color: rgb(0, 150, 255);\"></td><td title=\"Index: [8, 3]&#10;Color: (0, 150, 255)\" style=\"width: 20px; height: 20px;background-color: rgb(0, 150, 255);\"></td><td title=\"Index: [8, 4]&#10;Color: (0, 150, 255)\" style=\"width: 20px; height: 20px;background-color: rgb(0, 150, 255);\"></td><td title=\"Index: [8, 5]&#10;Color: (0, 150, 255)\" style=\"width: 20px; height: 20px;background-color: rgb(0, 150, 255);\"></td><td title=\"Index: [8, 6]&#10;Color: (0, 150, 255)\" style=\"width: 20px; height: 20px;background-color: rgb(0, 150, 255);\"></td><td title=\"Index: [8, 7]&#10;Color: (0, 150, 255)\" style=\"width: 20px; height: 20px;background-color: rgb(0, 150, 255);\"></td><td title=\"Index: [8, 8]&#10;Color: (0, 150, 255)\" style=\"width: 20px; height: 20px;background-color: rgb(0, 150, 255);\"></td><td title=\"Index: [8, 9]&#10;Color: (0, 150, 255)\" style=\"width: 20px; height: 20px;background-color: rgb(0, 150, 255);\"></td></tr><tr><td title=\"Index: [9, 0]&#10;Color: (0, 150, 255)\" style=\"width: 20px; height: 20px;background-color: rgb(0, 150, 255);\"></td><td title=\"Index: [9, 1]&#10;Color: (0, 150, 255)\" style=\"width: 20px; height: 20px;background-color: rgb(0, 150, 255);\"></td><td title=\"Index: [9, 2]&#10;Color: (0, 150, 255)\" style=\"width: 20px; height: 20px;background-color: rgb(0, 150, 255);\"></td><td title=\"Index: [9, 3]&#10;Color: (0, 150, 255)\" style=\"width: 20px; height: 20px;background-color: rgb(0, 150, 255);\"></td><td title=\"Index: [9, 4]&#10;Color: (0, 150, 255)\" style=\"width: 20px; height: 20px;background-color: rgb(0, 150, 255);\"></td><td title=\"Index: [9, 5]&#10;Color: (0, 150, 255)\" style=\"width: 20px; height: 20px;background-color: rgb(0, 150, 255);\"></td><td title=\"Index: [9, 6]&#10;Color: (0, 150, 255)\" style=\"width: 20px; height: 20px;background-color: rgb(0, 150, 255);\"></td><td title=\"Index: [9, 7]&#10;Color: (0, 150, 255)\" style=\"width: 20px; height: 20px;background-color: rgb(0, 150, 255);\"></td><td title=\"Index: [9, 8]&#10;Color: (0, 150, 255)\" style=\"width: 20px; height: 20px;background-color: rgb(0, 150, 255);\"></td><td title=\"Index: [9, 9]&#10;Color: (0, 150, 255)\" style=\"width: 20px; height: 20px;background-color: rgb(0, 150, 255);\"></td></tr></tbody></table>"
       ],
       "metadata": {},
       "output_type": "display_data",
       "text": [
        "<IPython.core.display.HTML at 0x2d36950>"
       ]
      }
     ],
     "prompt_number": 48
    },
    {
     "cell_type": "markdown",
     "metadata": {},
     "source": [
      "**2.** Here is a function which takes a filename, opens the file, reads the result, closes the file, and returns the contents. It should look something like this:"
     ]
    },
    {
     "cell_type": "code",
     "collapsed": false,
     "input": [
      "def read_all_from_file(filename):\n",
      "    f = open(filename)\n",
      "    contents = f.read()\n",
      "    f.close()\n",
      "    return contents"
     ],
     "language": "python",
     "metadata": {},
     "outputs": [],
     "prompt_number": 55
    },
    {
     "cell_type": "markdown",
     "metadata": {},
     "source": [
      "Use runtime error handling concepts to improve this function, so that it does the following:\n",
      "* raises an informative custom error if the file doesn't exist\n",
      "* uses try, *except*, *else*, and/or *finally* to safely return the file's contents & close the file if necessary.\n",
      "* add a keyword *safe* which defaults to *False*. If the function is called with *safe=True*, then return an empty string if the file doesn't exist."
     ]
    },
    {
     "cell_type": "code",
     "collapsed": false,
     "input": [
      "import os\n",
      "\n",
      "def read_all_from_file(filename, safe=False):\n",
      "    if not os.path.exists(filename):\n",
      "        if safe==True:\n",
      "            return \"\"\n",
      "        else:\n",
      "            raise ValueError(\"'%s' does not exist\"%format(filename))\n",
      "    f = open(filename)\n",
      "    contents = f.read()\n",
      "    try:\n",
      "        return contents\n",
      "    except ValueError(\"'%s' does not exist\"%format(filename)):\n",
      "        return \"You dun goofd\"\n",
      "    finally:\n",
      "        f.close()"
     ],
     "language": "python",
     "metadata": {},
     "outputs": [],
     "prompt_number": 103
    },
    {
     "cell_type": "code",
     "collapsed": false,
     "input": [
      "read_all_from_file('tmp.txt')"
     ],
     "language": "python",
     "metadata": {},
     "outputs": [
      {
       "metadata": {},
       "output_type": "pyout",
       "prompt_number": 104,
       "text": [
        "'this is the contents of the file'"
       ]
      }
     ],
     "prompt_number": 104
    },
    {
     "cell_type": "code",
     "collapsed": false,
     "input": [
      "read_all_from_file('file.which.does.not.exist')"
     ],
     "language": "python",
     "metadata": {},
     "outputs": [
      {
       "ename": "ValueError",
       "evalue": "'file.which.does.not.exist' does not exist",
       "output_type": "pyerr",
       "traceback": [
        "\u001b[1;31m---------------------------------------------------------------------------\u001b[0m\n\u001b[1;31mValueError\u001b[0m                                Traceback (most recent call last)",
        "\u001b[1;32m<ipython-input-105-3bfc12c9d16d>\u001b[0m in \u001b[0;36m<module>\u001b[1;34m()\u001b[0m\n\u001b[1;32m----> 1\u001b[1;33m \u001b[0mread_all_from_file\u001b[0m\u001b[1;33m(\u001b[0m\u001b[1;34m'file.which.does.not.exist'\u001b[0m\u001b[1;33m)\u001b[0m\u001b[1;33m\u001b[0m\u001b[0m\n\u001b[0m",
        "\u001b[1;32m<ipython-input-103-842f74805dac>\u001b[0m in \u001b[0;36mread_all_from_file\u001b[1;34m(filename, safe)\u001b[0m\n\u001b[0;32m      6\u001b[0m             \u001b[1;32mreturn\u001b[0m \u001b[1;34m\"\"\u001b[0m\u001b[1;33m\u001b[0m\u001b[0m\n\u001b[0;32m      7\u001b[0m         \u001b[1;32melse\u001b[0m\u001b[1;33m:\u001b[0m\u001b[1;33m\u001b[0m\u001b[0m\n\u001b[1;32m----> 8\u001b[1;33m             \u001b[1;32mraise\u001b[0m \u001b[0mValueError\u001b[0m\u001b[1;33m(\u001b[0m\u001b[1;34m\"'%s' does not exist\"\u001b[0m\u001b[1;33m%\u001b[0m\u001b[0mformat\u001b[0m\u001b[1;33m(\u001b[0m\u001b[0mfilename\u001b[0m\u001b[1;33m)\u001b[0m\u001b[1;33m)\u001b[0m\u001b[1;33m\u001b[0m\u001b[0m\n\u001b[0m\u001b[0;32m      9\u001b[0m     \u001b[0mf\u001b[0m \u001b[1;33m=\u001b[0m \u001b[0mopen\u001b[0m\u001b[1;33m(\u001b[0m\u001b[0mfilename\u001b[0m\u001b[1;33m)\u001b[0m\u001b[1;33m\u001b[0m\u001b[0m\n\u001b[0;32m     10\u001b[0m     \u001b[0mcontents\u001b[0m \u001b[1;33m=\u001b[0m \u001b[0mf\u001b[0m\u001b[1;33m.\u001b[0m\u001b[0mread\u001b[0m\u001b[1;33m(\u001b[0m\u001b[1;33m)\u001b[0m\u001b[1;33m\u001b[0m\u001b[0m\n",
        "\u001b[1;31mValueError\u001b[0m: 'file.which.does.not.exist' does not exist"
       ]
      }
     ],
     "prompt_number": 105
    },
    {
     "cell_type": "code",
     "collapsed": false,
     "input": [
      "read_all_from_file('file.which.does.not.exist', safe=True)"
     ],
     "language": "python",
     "metadata": {},
     "outputs": [
      {
       "metadata": {},
       "output_type": "pyout",
       "prompt_number": 106,
       "text": [
        "''"
       ]
      }
     ],
     "prompt_number": 106
    },
    {
     "cell_type": "code",
     "collapsed": false,
     "input": [],
     "language": "python",
     "metadata": {},
     "outputs": []
    }
   ],
   "metadata": {}
  }
 ]
}