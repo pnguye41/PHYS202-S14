{
 "metadata": {
  "name": "",
  "signature": "sha256:124114f12d90d990ccb7c2702c300a6eea5d569d3bc404c22183efeb801600bb"
 },
 "nbformat": 3,
 "nbformat_minor": 0,
 "worksheets": [
  {
   "cells": [
    {
     "cell_type": "heading",
     "level": 1,
     "metadata": {},
     "source": [
      "Tour of Data I/O"
     ]
    },
    {
     "cell_type": "code",
     "collapsed": false,
     "input": [
      "%%file inout.dat\n",
      "Here is a nice file\n",
      "with a couple lines of text\n",
      "refridgerator"
     ],
     "language": "python",
     "metadata": {},
     "outputs": [
      {
       "output_type": "stream",
       "stream": "stdout",
       "text": [
        "Writing inout.dat\n"
       ]
      }
     ],
     "prompt_number": 1
    },
    {
     "cell_type": "code",
     "collapsed": false,
     "input": [
      "f = open('inout.dat')\n",
      "print f.read()\n",
      "f.close"
     ],
     "language": "python",
     "metadata": {},
     "outputs": [
      {
       "output_type": "stream",
       "stream": "stdout",
       "text": [
        "Here is a nice file\n",
        "with a couple lines of text\n",
        "refridgerator\n"
       ]
      },
      {
       "metadata": {},
       "output_type": "pyout",
       "prompt_number": 2,
       "text": [
        "<function close>"
       ]
      }
     ],
     "prompt_number": 2
    },
    {
     "cell_type": "code",
     "collapsed": false,
     "input": [
      "f = open('inout.dat')\n",
      "print f.readlines()\n",
      "f.close"
     ],
     "language": "python",
     "metadata": {},
     "outputs": [
      {
       "output_type": "stream",
       "stream": "stdout",
       "text": [
        "['Here is a nice file\\n', 'with a couple lines of text\\n', 'refridgerator']\n"
       ]
      },
      {
       "metadata": {},
       "output_type": "pyout",
       "prompt_number": 3,
       "text": [
        "<function close>"
       ]
      }
     ],
     "prompt_number": 3
    },
    {
     "cell_type": "code",
     "collapsed": false,
     "input": [
      "for line in open('inout.dat'):\n",
      "    print line.split()"
     ],
     "language": "python",
     "metadata": {},
     "outputs": [
      {
       "output_type": "stream",
       "stream": "stdout",
       "text": [
        "['Here', 'is', 'a', 'nice', 'file']\n",
        "['with', 'a', 'couple', 'lines', 'of', 'text']\n",
        "['refridgerator']\n"
       ]
      }
     ],
     "prompt_number": 4
    },
    {
     "cell_type": "code",
     "collapsed": false,
     "input": [
      "contents = open('inout.dat').read()\n",
      "out = open('my_output.dat', 'w')\n",
      "out.write(contents.replace(' ', '_'))\n",
      "out.close()"
     ],
     "language": "python",
     "metadata": {},
     "outputs": [],
     "prompt_number": 5
    },
    {
     "cell_type": "code",
     "collapsed": false,
     "input": [
      "!cat my_output.dat"
     ],
     "language": "python",
     "metadata": {},
     "outputs": [
      {
       "output_type": "stream",
       "stream": "stdout",
       "text": [
        "Here_is_a_nice_file\r\n",
        "with_a_couple_lines_of_text\r\n",
        "refridgerator"
       ]
      }
     ],
     "prompt_number": 6
    },
    {
     "cell_type": "code",
     "collapsed": false,
     "input": [
      "lines = open('inout.dat').readlines()\n",
      "out = open('my_output.dat', 'w')\n",
      "out.writelines(lines)\n",
      "out.close()"
     ],
     "language": "python",
     "metadata": {},
     "outputs": [],
     "prompt_number": 8
    },
    {
     "cell_type": "code",
     "collapsed": false,
     "input": [
      "!cat my_output.dat"
     ],
     "language": "python",
     "metadata": {},
     "outputs": [
      {
       "output_type": "stream",
       "stream": "stdout",
       "text": [
        "Here is a nice file\r\n",
        "with a couple lines of text\r\n",
        "refridgerator"
       ]
      }
     ],
     "prompt_number": 9
    },
    {
     "cell_type": "code",
     "collapsed": false,
     "input": [],
     "language": "python",
     "metadata": {},
     "outputs": [],
     "prompt_number": 9
    },
    {
     "cell_type": "heading",
     "level": 2,
     "metadata": {},
     "source": [
      "NumPy data I/O"
     ]
    },
    {
     "cell_type": "code",
     "collapsed": false,
     "input": [
      "%pylab inline\n",
      "import numpy as np\n",
      "import matplotlib.pyplot as plt"
     ],
     "language": "python",
     "metadata": {},
     "outputs": [
      {
       "output_type": "stream",
       "stream": "stdout",
       "text": [
        "Populating the interactive namespace from numpy and matplotlib\n"
       ]
      },
      {
       "output_type": "stream",
       "stream": "stderr",
       "text": [
        "WARNING: pylab import has clobbered these variables: ['f']\n",
        "`%matplotlib` prevents importing * from pylab and numpy\n"
       ]
      }
     ],
     "prompt_number": 10
    },
    {
     "cell_type": "heading",
     "level": 3,
     "metadata": {},
     "source": [
      "Text Data"
     ]
    },
    {
     "cell_type": "code",
     "collapsed": false,
     "input": [
      "arr = np.arange(10).reshape(2, 5)\n",
      "np.savetxt('test.out', arr, fmt='%.2e', header=\"mydataset\")\n",
      "!cat test.out"
     ],
     "language": "python",
     "metadata": {},
     "outputs": [
      {
       "output_type": "stream",
       "stream": "stdout",
       "text": [
        "# mydataset\r\n",
        "0.00e+00 1.00e+00 2.00e+00 3.00e+00 4.00e+00\r\n",
        "5.00e+00 6.00e+00 7.00e+00 8.00e+00 9.00e+00\r\n"
       ]
      }
     ],
     "prompt_number": 11
    },
    {
     "cell_type": "code",
     "collapsed": false,
     "input": [
      "DataIn = np.loadtxt('test.out')\n",
      "print DataIn.shape\n",
      "print DataIn"
     ],
     "language": "python",
     "metadata": {},
     "outputs": [
      {
       "output_type": "stream",
       "stream": "stdout",
       "text": [
        "(2, 5)\n",
        "[[ 0.  1.  2.  3.  4.]\n",
        " [ 5.  6.  7.  8.  9.]]"
       ]
      },
      {
       "output_type": "stream",
       "stream": "stdout",
       "text": [
        "\n"
       ]
      }
     ],
     "prompt_number": 12
    },
    {
     "cell_type": "code",
     "collapsed": false,
     "input": [
      "print DataIn[1,:]"
     ],
     "language": "python",
     "metadata": {},
     "outputs": [
      {
       "output_type": "stream",
       "stream": "stdout",
       "text": [
        "[ 5.  6.  7.  8.  9.]\n"
       ]
      }
     ],
     "prompt_number": 13
    },
    {
     "cell_type": "code",
     "collapsed": false,
     "input": [
      "a, b, c, d, x = loadtxt('test.out', unpack=True)\n",
      "print a\n",
      "print b\n",
      "print c\n",
      "print d\n",
      "print x"
     ],
     "language": "python",
     "metadata": {},
     "outputs": [
      {
       "output_type": "stream",
       "stream": "stdout",
       "text": [
        "[ 0.  5.]\n",
        "[ 1.  6.]\n",
        "[ 2.  7.]\n",
        "[ 3.  8.]\n",
        "[ 4.  9.]\n"
       ]
      }
     ],
     "prompt_number": 19
    },
    {
     "cell_type": "code",
     "collapsed": false,
     "input": [
      "a, b = loadtxt('test.out',unpack=True, usecols=[0,1])\n",
      "print a\n",
      "print b"
     ],
     "language": "python",
     "metadata": {},
     "outputs": [
      {
       "output_type": "stream",
       "stream": "stdout",
       "text": [
        "[ 0.  5.]\n",
        "[ 1.  6.]\n"
       ]
      }
     ],
     "prompt_number": 16
    },
    {
     "cell_type": "heading",
     "level": 2,
     "metadata": {},
     "source": [
      "Dealing with csv files"
     ]
    },
    {
     "cell_type": "code",
     "collapsed": false,
     "input": [
      "%%file input.csv\n",
      "#My csv example data\n",
      "    0.0,  1.1,  0.1\n",
      "    2.0,  1.9,  0.2\n",
      "    4.0,  3.2,  0.1\n",
      "    6.0,  4.0,  0.3\n",
      "    8.0,  5.9,  0.3"
     ],
     "language": "python",
     "metadata": {},
     "outputs": [
      {
       "output_type": "stream",
       "stream": "stdout",
       "text": [
        "Writing input.csv\n"
       ]
      }
     ],
     "prompt_number": 21
    },
    {
     "cell_type": "code",
     "collapsed": false,
     "input": [
      "!cat input.csv"
     ],
     "language": "python",
     "metadata": {},
     "outputs": [
      {
       "output_type": "stream",
       "stream": "stdout",
       "text": [
        "#My csv example data\r\n",
        "    0.0,  1.1,  0.1\r\n",
        "    2.0,  1.9,  0.2\r\n",
        "    4.0,  3.2,  0.1\r\n",
        "    6.0,  4.0,  0.3\r\n",
        "    8.0,  5.9,  0.3"
       ]
      }
     ],
     "prompt_number": 22
    },
    {
     "cell_type": "code",
     "collapsed": false,
     "input": [
      "x, y = loadtxt('input.csv',unpack=True,usecols=[0,1,2])"
     ],
     "language": "python",
     "metadata": {},
     "outputs": [
      {
       "ename": "ValueError",
       "evalue": "invalid literal for float(): 0.0,",
       "output_type": "pyerr",
       "traceback": [
        "\u001b[0;31m---------------------------------------------------------------------------\u001b[0m\n\u001b[0;31mValueError\u001b[0m                                Traceback (most recent call last)",
        "\u001b[0;32m<ipython-input-23-ecc3d78eb823>\u001b[0m in \u001b[0;36m<module>\u001b[0;34m()\u001b[0m\n\u001b[0;32m----> 1\u001b[0;31m \u001b[0mx\u001b[0m\u001b[0;34m,\u001b[0m \u001b[0my\u001b[0m \u001b[0;34m=\u001b[0m \u001b[0mloadtxt\u001b[0m\u001b[0;34m(\u001b[0m\u001b[0;34m'input.csv'\u001b[0m\u001b[0;34m,\u001b[0m\u001b[0munpack\u001b[0m\u001b[0;34m=\u001b[0m\u001b[0mTrue\u001b[0m\u001b[0;34m,\u001b[0m\u001b[0musecols\u001b[0m\u001b[0;34m=\u001b[0m\u001b[0;34m[\u001b[0m\u001b[0;36m0\u001b[0m\u001b[0;34m,\u001b[0m\u001b[0;36m1\u001b[0m\u001b[0;34m,\u001b[0m\u001b[0;36m2\u001b[0m\u001b[0;34m]\u001b[0m\u001b[0;34m)\u001b[0m\u001b[0;34m\u001b[0m\u001b[0m\n\u001b[0m",
        "\u001b[0;32m/Applications/anaconda/lib/python2.7/site-packages/numpy/lib/npyio.pyc\u001b[0m in \u001b[0;36mloadtxt\u001b[0;34m(fname, dtype, comments, delimiter, converters, skiprows, usecols, unpack, ndmin)\u001b[0m\n\u001b[1;32m    839\u001b[0m                 \u001b[0mvals\u001b[0m \u001b[0;34m=\u001b[0m \u001b[0;34m[\u001b[0m\u001b[0mvals\u001b[0m\u001b[0;34m[\u001b[0m\u001b[0mi\u001b[0m\u001b[0;34m]\u001b[0m \u001b[0;32mfor\u001b[0m \u001b[0mi\u001b[0m \u001b[0;32min\u001b[0m \u001b[0musecols\u001b[0m\u001b[0;34m]\u001b[0m\u001b[0;34m\u001b[0m\u001b[0m\n\u001b[1;32m    840\u001b[0m             \u001b[0;31m# Convert each value according to its column and store\u001b[0m\u001b[0;34m\u001b[0m\u001b[0;34m\u001b[0m\u001b[0m\n\u001b[0;32m--> 841\u001b[0;31m             \u001b[0mitems\u001b[0m \u001b[0;34m=\u001b[0m \u001b[0;34m[\u001b[0m\u001b[0mconv\u001b[0m\u001b[0;34m(\u001b[0m\u001b[0mval\u001b[0m\u001b[0;34m)\u001b[0m \u001b[0;32mfor\u001b[0m \u001b[0;34m(\u001b[0m\u001b[0mconv\u001b[0m\u001b[0;34m,\u001b[0m \u001b[0mval\u001b[0m\u001b[0;34m)\u001b[0m \u001b[0;32min\u001b[0m \u001b[0mzip\u001b[0m\u001b[0;34m(\u001b[0m\u001b[0mconverters\u001b[0m\u001b[0;34m,\u001b[0m \u001b[0mvals\u001b[0m\u001b[0;34m)\u001b[0m\u001b[0;34m]\u001b[0m\u001b[0;34m\u001b[0m\u001b[0m\n\u001b[0m\u001b[1;32m    842\u001b[0m             \u001b[0;31m# Then pack it according to the dtype's nesting\u001b[0m\u001b[0;34m\u001b[0m\u001b[0;34m\u001b[0m\u001b[0m\n\u001b[1;32m    843\u001b[0m             \u001b[0mitems\u001b[0m \u001b[0;34m=\u001b[0m \u001b[0mpack_items\u001b[0m\u001b[0;34m(\u001b[0m\u001b[0mitems\u001b[0m\u001b[0;34m,\u001b[0m \u001b[0mpacking\u001b[0m\u001b[0;34m)\u001b[0m\u001b[0;34m\u001b[0m\u001b[0m\n",
        "\u001b[0;31mValueError\u001b[0m: invalid literal for float(): 0.0,"
       ]
      }
     ],
     "prompt_number": 23
    },
    {
     "cell_type": "code",
     "collapsed": false,
     "input": [
      "x, y = loadtxt('input.csv',unpack=True,delimiter=',',usecols=[0,1])\n",
      "print x, y"
     ],
     "language": "python",
     "metadata": {},
     "outputs": [
      {
       "output_type": "stream",
       "stream": "stdout",
       "text": [
        "[ 0.  2.  4.  6.  8.] [ 1.1  1.9  3.2  4.   5.9]\n"
       ]
      }
     ],
     "prompt_number": 24
    },
    {
     "cell_type": "heading",
     "level": 3,
     "metadata": {},
     "source": [
      "More on writing data"
     ]
    },
    {
     "cell_type": "code",
     "collapsed": false,
     "input": [
      "t = array([0,1,2,3,4,5,6,7,8,9])\n",
      "v = array([0.137,0.456,0.591,0.713,0.859,0.926,1.139,1.327,1.512,1.875])\n",
      "p = 0.15 + v/10.0\n",
      "savetxt('output.dat', (t,p))\n",
      "\n",
      "DataOut = column_stack((t,p))\n",
      "savetxt('output.dat', DataOut, fmt=('%.3i','%4.3f'))\n",
      "\n",
      "!cat output.dat"
     ],
     "language": "python",
     "metadata": {},
     "outputs": [
      {
       "output_type": "stream",
       "stream": "stdout",
       "text": [
        "000 0.164\r\n",
        "001 0.196\r\n",
        "002 0.209\r\n",
        "003 0.221\r\n",
        "004 0.236\r\n",
        "005 0.243\r\n",
        "006 0.264\r\n",
        "007 0.283\r\n",
        "008 0.301\r\n",
        "009 0.338\r\n"
       ]
      }
     ],
     "prompt_number": 41
    },
    {
     "cell_type": "code",
     "collapsed": false,
     "input": [
      "myheader = \"\\nTime and Pressure data\\nt (s) p (Pa)\\n\"\n",
      "savetxt('output.dat', DataOut, fmt=('%3i','%4.3f'), header=myheader)\n",
      "!cat output.dat"
     ],
     "language": "python",
     "metadata": {},
     "outputs": [
      {
       "output_type": "stream",
       "stream": "stdout",
       "text": [
        "# \r\n",
        "# Time and Pressure data\r\n",
        "# t (s) p (Pa)\r\n",
        "# \r\n",
        "  0 0.164\r\n",
        "  1 0.196\r\n",
        "  2 0.209\r\n",
        "  3 0.221\r\n",
        "  4 0.236\r\n",
        "  5 0.243\r\n",
        "  6 0.264\r\n",
        "  7 0.283\r\n",
        "  8 0.301\r\n",
        "  9 0.338\r\n"
       ]
      }
     ],
     "prompt_number": 45
    },
    {
     "cell_type": "heading",
     "level": 3,
     "metadata": {},
     "source": [
      "Binary data"
     ]
    },
    {
     "cell_type": "code",
     "collapsed": false,
     "input": [
      "arr2 = DataIn\n",
      "np.save('test.npy', arr2)\n",
      "arr2n = np.load('test.npy')\n",
      "print 'Any differences?', np.any(arr2-arr2n)"
     ],
     "language": "python",
     "metadata": {},
     "outputs": [
      {
       "output_type": "stream",
       "stream": "stdout",
       "text": [
        "Any differences? False\n"
       ]
      }
     ],
     "prompt_number": 46
    },
    {
     "cell_type": "code",
     "collapsed": false,
     "input": [
      "np.savez('test.npz', arr, arr2)\n",
      "arrays = np.load('test.npz')\n",
      "arrays.files"
     ],
     "language": "python",
     "metadata": {},
     "outputs": [
      {
       "metadata": {},
       "output_type": "pyout",
       "prompt_number": 47,
       "text": [
        "['arr_1', 'arr_0']"
       ]
      }
     ],
     "prompt_number": 47
    },
    {
     "cell_type": "heading",
     "level": 3,
     "metadata": {},
     "source": [
      ".npz: multiple binary outputs in one file"
     ]
    },
    {
     "cell_type": "code",
     "collapsed": false,
     "input": [
      "np.savez('test.npz', array1=arr, array2=arr2)\n",
      "arrays = np.load('test.npz')\n",
      "arrays.files"
     ],
     "language": "python",
     "metadata": {},
     "outputs": [
      {
       "metadata": {},
       "output_type": "pyout",
       "prompt_number": 48,
       "text": [
        "['array2', 'array1']"
       ]
      }
     ],
     "prompt_number": 48
    },
    {
     "cell_type": "code",
     "collapsed": false,
     "input": [
      "print 'First row of first array:', arrays['array1'][0]\n",
      "print 'First row of first array:', arrays.f.array1[0]"
     ],
     "language": "python",
     "metadata": {},
     "outputs": [
      {
       "output_type": "stream",
       "stream": "stdout",
       "text": [
        "First row of first array: [0 1 2 3 4]\n",
        "First row of first array: [0 1 2 3 4]\n"
       ]
      }
     ],
     "prompt_number": 49
    }
   ],
   "metadata": {}
  }
 ]
}