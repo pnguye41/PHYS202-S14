{
 "metadata": {
  "name": "",
  "signature": "sha256:66322eb03f8246570e1376ec351d67373c2910d4a6cf4b7d5b8e0dc9683d24c1"
 },
 "nbformat": 3,
 "nbformat_minor": 0,
 "worksheets": [
  {
   "cells": [
    {
     "cell_type": "heading",
     "level": 1,
     "metadata": {},
     "source": [
      "Exercises"
     ]
    },
    {
     "cell_type": "code",
     "collapsed": false,
     "input": [
      "%pylab inline\n",
      "import numpy as np"
     ],
     "language": "python",
     "metadata": {},
     "outputs": [
      {
       "output_type": "stream",
       "stream": "stdout",
       "text": [
        "Populating the interactive namespace from numpy and matplotlib\n"
       ]
      }
     ],
     "prompt_number": 3
    },
    {
     "cell_type": "markdown",
     "metadata": {},
     "source": [
      "**1.** Create the following arrays with correct data types:\n",
      "\n",
      "[[1, 1, 1, 1],\n",
      " [1, 1, 1, 1],\n",
      " [1, 1, 1, 2],\n",
      " [1, 6, 1, 1]]\n",
      "[[0., 0., 0., 0., 0.],\n",
      " [2., 0., 0., 0., 0.],\n",
      " [0., 3., 0., 0., 0.],\n",
      " [0., 0., 4., 0., 0.],\n",
      " [0., 0., 0., 5., 0.],\n",
      " [0., 0., 0., 0., 6.]]\n",
      " \n",
      "You should be able to accomplish this in 3 lines of code or less for each one. The documentation for the diag method may be helpful."
     ]
    },
    {
     "cell_type": "code",
     "collapsed": false,
     "input": [
      "arr1 = np.array([[1, 1, 1, 1], [1, 1, 1, 1], [1, 1, 1, 2], [1, 6, 1, 1]])\n",
      "arr2 = np.diag([2.,3.,4.,5.,6.])\n",
      "print arr1\n",
      "print arr2"
     ],
     "language": "python",
     "metadata": {},
     "outputs": [
      {
       "output_type": "stream",
       "stream": "stdout",
       "text": [
        "[[1 1 1 1]\n",
        " [1 1 1 1]\n",
        " [1 1 1 2]\n",
        " [1 6 1 1]]\n",
        "[[ 2.  0.  0.  0.  0.]\n",
        " [ 0.  3.  0.  0.  0.]\n",
        " [ 0.  0.  4.  0.  0.]\n",
        " [ 0.  0.  0.  5.  0.]\n",
        " [ 0.  0.  0.  0.  6.]]\n"
       ]
      }
     ],
     "prompt_number": 18
    },
    {
     "cell_type": "markdown",
     "metadata": {},
     "source": [
      "**2.** Read the documentation for np.tile and use this function to construct the following array:\n",
      "\n",
      "[[4, 3, 4, 3, 4, 3],\n",
      " [2, 1, 2, 1, 2, 1],\n",
      " [4, 3, 4, 3, 4, 3],\n",
      " [2, 1, 2, 1, 2, 1]]"
     ]
    },
    {
     "cell_type": "code",
     "collapsed": false,
     "input": [
      "print np.array([np.tile([4,3],3),np.tile([2,1],3),np.tile([4,3],3),np.tile([2,1],3)])"
     ],
     "language": "python",
     "metadata": {},
     "outputs": [
      {
       "output_type": "stream",
       "stream": "stdout",
       "text": [
        "[[4 3 4 3 4 3]\n",
        " [2 1 2 1 2 1]\n",
        " [4 3 4 3 4 3]\n",
        " [2 1 2 1 2 1]]\n"
       ]
      }
     ],
     "prompt_number": 35
    },
    {
     "cell_type": "markdown",
     "metadata": {},
     "source": [
      "**3.** Let\u2019s create a prime number sieve. We will use the sieve to see what numbers between 0 and 100 are prime.\n",
      "\n",
      "**(a)** First, construct an array of booleans called is prime with shape (100,), filled with True in all the elements.\n",
      "\n",
      "is_prime = np.ones((100,), dtype=bool)"
     ]
    },
    {
     "cell_type": "code",
     "collapsed": false,
     "input": [
      "is_prime = np.ones((100,), dtype=bool)"
     ],
     "language": "python",
     "metadata": {},
     "outputs": [],
     "prompt_number": 40
    },
    {
     "cell_type": "markdown",
     "metadata": {},
     "source": [
      "**(b)** The index of each boolean element represents the number. \u201cCross out\u201d 0 and 1, which are not primes. You can either set them to False or 0 (which python recognizes as equivalent to False for boolean types)."
     ]
    },
    {
     "cell_type": "code",
     "collapsed": false,
     "input": [
      "is_prime[0] = is_prime[1] = False"
     ],
     "language": "python",
     "metadata": {},
     "outputs": [],
     "prompt_number": 43
    },
    {
     "cell_type": "markdown",
     "metadata": {},
     "source": [
      "**(c)** For each subsequent integer j starting from 2, cross out its higher multiples:\n",
      "\n",
      "N_max = int(np.sqrt(len(is_prime)))\n",
      "\n",
      "for j in range(2, N_max):\n",
      "\n",
      "    is_prime[2*j::j] = False\n",
      "    \n",
      "Make sure you understand what this code is doing. What does that slicing of the array mean?"
     ]
    },
    {
     "cell_type": "code",
     "collapsed": false,
     "input": [
      "N_max = int(np.sqrt(len(is_prime)))\n",
      "for j in range(2, N_max):\n",
      "    is_prime[2*j::j] = False"
     ],
     "language": "python",
     "metadata": {},
     "outputs": [],
     "prompt_number": 48
    },
    {
     "cell_type": "markdown",
     "metadata": {},
     "source": [
      "**(d)** Look up the documentation for np.nonzero (try help(np.nonzero) or np.nonzero?) and use it to print the prime numbers."
     ]
    },
    {
     "cell_type": "code",
     "collapsed": false,
     "input": [
      "print np.nonzero(is_prime)"
     ],
     "language": "python",
     "metadata": {},
     "outputs": [
      {
       "output_type": "stream",
       "stream": "stdout",
       "text": [
        "(array([ 2,  3,  5,  7, 11, 13, 17, 19, 23, 29, 31, 37, 41, 43, 47, 53, 59,\n",
        "       61, 67, 71, 73, 79, 83, 89, 97]),)\n"
       ]
      }
     ],
     "prompt_number": 58
    },
    {
     "cell_type": "markdown",
     "metadata": {},
     "source": [
      "**(e)** Finally, create a new function, called eratosthenes_sieve() that takes one argument, maximum, the maximum number to test for primes, and returns an array containing the prime numbers between 2 and maximum. Use the sieve algorithm developed by Eratosthenes and described on wikipedia. Print the result for the test cases where maximum = 10 and 100. (Prime numbers and prime factorization are common topics in the Project Euler exercises.)"
     ]
    },
    {
     "cell_type": "code",
     "collapsed": false,
     "input": [
      "def eratosthenes_sieve(x):\n",
      "    prime_lst = np.arange(2,x+1)\n",
      "    \n",
      "print eratosthenes_sieve(10)\n",
      "print eratosthenes_sieve(100)"
     ],
     "language": "python",
     "metadata": {},
     "outputs": [
      {
       "output_type": "stream",
       "stream": "stdout",
       "text": [
        "[ 2  4  6  8 10]\n",
        "[  2   4   6   8  10  12  14  16  18  20  22  24  26  28  30  32  34  36\n",
        "  38  40  42  44  46  48  50  52  54  56  58  60  62  64  66  68  70  72\n",
        "  74  76  78  80  82  84  86  88  90  92  94  96  98 100]\n"
       ]
      }
     ],
     "prompt_number": 216
    },
    {
     "cell_type": "code",
     "collapsed": false,
     "input": [],
     "language": "python",
     "metadata": {},
     "outputs": []
    }
   ],
   "metadata": {}
  }
 ]
}