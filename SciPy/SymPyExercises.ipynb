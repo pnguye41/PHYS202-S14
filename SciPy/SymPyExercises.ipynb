{
 "metadata": {
  "name": "",
  "signature": "sha256:516354eeb328f4982b446b4c2cfc59d66231e3545b941360d8ec21b9815543e3"
 },
 "nbformat": 3,
 "nbformat_minor": 0,
 "worksheets": [
  {
   "cells": [
    {
     "cell_type": "heading",
     "level": 1,
     "metadata": {},
     "source": [
      "SymPy Exercises"
     ]
    },
    {
     "cell_type": "code",
     "collapsed": false,
     "input": [
      "from IPython.html.widgets import interact\n",
      "from IPython.display import display\n",
      "%matplotlib inline\n",
      "import numpy as np\n",
      "import matplotlib.pyplot as plt\n",
      "from sympy import *\n",
      "init_printing(use_latex='mathjax')"
     ],
     "language": "python",
     "metadata": {},
     "outputs": [],
     "prompt_number": 1
    },
    {
     "cell_type": "heading",
     "level": 2,
     "metadata": {},
     "source": [
      "Question 1"
     ]
    },
    {
     "cell_type": "markdown",
     "metadata": {},
     "source": [
      "This question looks at a class of integrals that appears often in physics, the so called Gaussian integrals of the form:\n",
      "\n",
      "\\begin{equation}\n",
      "I_n(a)=\\int_{-\u221e}^{\u221e}z^ne^{\u2212az^2}dz\n",
      "\\end{equation}\n",
      "\n",
      "**(a)** Define SymPy symbols for the following variables:\n",
      "* z that is real\n",
      "* a that is real and positive\n",
      "* n that is a positive integer"
     ]
    },
    {
     "cell_type": "code",
     "collapsed": false,
     "input": [
      "z = Symbol('z', real=True)\n",
      "a = Symbol('a', real=True,positive=True)\n",
      "n = Symbol('n', positive=True)"
     ],
     "language": "python",
     "metadata": {},
     "outputs": [],
     "prompt_number": 2
    },
    {
     "cell_type": "markdown",
     "metadata": {},
     "source": [
      "**(b)** Compute the integral $I_0(a)$ symbolically by passing the full integrand to the integrate function. Save the result as variable `I0` and display it using `IPython.display.display`."
     ]
    },
    {
     "cell_type": "code",
     "collapsed": false,
     "input": [
      "I0 = integrate(z**0 * exp(-a*z**2),(z,-oo,oo))\n",
      "display(I0)"
     ],
     "language": "python",
     "metadata": {},
     "outputs": [
      {
       "latex": [
        "$$\\frac{\\sqrt{\\pi}}{\\sqrt{a}}$$"
       ],
       "metadata": {},
       "output_type": "display_data",
       "text": [
        "  ___\n",
        "\u2572\u2571 \u03c0 \n",
        "\u2500\u2500\u2500\u2500\u2500\n",
        "  ___\n",
        "\u2572\u2571 a "
       ]
      }
     ],
     "prompt_number": 3
    },
    {
     "cell_type": "markdown",
     "metadata": {},
     "source": [
      "**(c)** Verify that $I_m(a)=0$ if $m$ is odd by computing the integral symbolically for $m$=[1,3,5,7,9]. Use a loop or other control structure to interate through values of $m$. Why should you not use the variable $n$ for this part?"
     ]
    },
    {
     "cell_type": "code",
     "collapsed": false,
     "input": [
      "for m in [1,3,5,7,9]:\n",
      "    Im = integrate(z**(m) * exp(-a*z**2),(z,-oo,oo))\n",
      "    display(Im)"
     ],
     "language": "python",
     "metadata": {},
     "outputs": [
      {
       "latex": [
        "$$0$$"
       ],
       "metadata": {},
       "output_type": "display_data",
       "text": [
        "0"
       ]
      },
      {
       "latex": [
        "$$0$$"
       ],
       "metadata": {},
       "output_type": "display_data",
       "text": [
        "0"
       ]
      },
      {
       "latex": [
        "$$0$$"
       ],
       "metadata": {},
       "output_type": "display_data",
       "text": [
        "0"
       ]
      },
      {
       "latex": [
        "$$0$$"
       ],
       "metadata": {},
       "output_type": "display_data",
       "text": [
        "0"
       ]
      },
      {
       "latex": [
        "$$0$$"
       ],
       "metadata": {},
       "output_type": "display_data",
       "text": [
        "0"
       ]
      }
     ],
     "prompt_number": 4
    },
    {
     "cell_type": "markdown",
     "metadata": {},
     "source": [
      "We used `m` instead of `n` because `n` is already being used as a positive integer symbol."
     ]
    },
    {
     "cell_type": "markdown",
     "metadata": {},
     "source": [
      "**(d)** Define a symbolic expression, saved under the variable `In`, for the unevaluated integral $I_n(a)$ using SymPy's `Integral` class. Use symbolic manipulations to verify the following identity:\n",
      "\n",
      "\\begin{equation}\n",
      "I_2(a)=\u2212\\frac{\u2202I_0}{\u2202a}\n",
      "\\end{equation}\n",
      "\n",
      "It may be helpful to use `Eq(lhs,rhs).doit()` to verify mathematical equality."
     ]
    },
    {
     "cell_type": "code",
     "collapsed": false,
     "input": [
      "In = Integral(z**n * exp(-a*z**2),(z,-oo,oo))\n",
      "D0 = -Derivative(I0,a)\n",
      "I2 = Integral(z**2 * exp(-a*z**2),(z,-oo,oo))\n",
      "display(Eq(In,D0))\n",
      "display(Eq(In,D0).doit())\n",
      "display(Eq(I2.doit(),D0.doit()))"
     ],
     "language": "python",
     "metadata": {},
     "outputs": [
      {
       "latex": [
        "$$\\int_{-\\infty}^{\\infty} z^{n} e^{- a z^{2}}\\, dz = - \\frac{d}{d a}\\left(\\frac{\\sqrt{\\pi}}{\\sqrt{a}}\\right)$$"
       ],
       "metadata": {},
       "output_type": "display_data",
       "text": [
        "\u221e                           \n",
        "\u2320                           \n",
        "\u23ae          2         \u239b  ___\u239e\n",
        "\u23ae   n  -a\u22c5z        d \u239c\u2572\u2571 \u03c0 \u239f\n",
        "\u23ae  z \u22c5\u212f      dz = -\u2500\u2500\u239c\u2500\u2500\u2500\u2500\u2500\u239f\n",
        "\u2321                  da\u239c  ___\u239f\n",
        "-\u221e                   \u239d\u2572\u2571 a \u23a0"
       ]
      },
      {
       "latex": [
        "$$\\frac{\\left(-1\\right)^{n}}{2 a} a^{- \\frac{n}{2} + \\frac{1}{2}} \\Gamma{\\left(\\frac{n}{2} + \\frac{1}{2} \\right)} + \\frac{a^{- \\frac{n}{2} + \\frac{1}{2}}}{2 a} \\Gamma{\\left(\\frac{n}{2} + \\frac{1}{2} \\right)} = \\frac{\\sqrt{\\pi}}{2 a^{\\frac{3}{2}}}$$"
       ],
       "metadata": {},
       "output_type": "display_data",
       "text": [
        "         n   1               n   1                  \n",
        "       - \u2500 + \u2500             - \u2500 + \u2500                  \n",
        "    n    2   2  \u239bn   1\u239e      2   2  \u239bn   1\u239e         \n",
        "(-1) \u22c5a       \u22c5\u0393\u239c\u2500 + \u2500\u239f   a       \u22c5\u0393\u239c\u2500 + \u2500\u239f     ___ \n",
        "                \u239d2   2\u23a0             \u239d2   2\u23a0   \u2572\u2571 \u03c0  \n",
        "\u2500\u2500\u2500\u2500\u2500\u2500\u2500\u2500\u2500\u2500\u2500\u2500\u2500\u2500\u2500\u2500\u2500\u2500\u2500\u2500\u2500\u2500\u2500 + \u2500\u2500\u2500\u2500\u2500\u2500\u2500\u2500\u2500\u2500\u2500\u2500\u2500\u2500\u2500\u2500\u2500 = \u2500\u2500\u2500\u2500\u2500\u2500\n",
        "          2\u22c5a                    2\u22c5a             3/2\n",
        "                                              2\u22c5a   "
       ]
      },
      {
       "metadata": {},
       "output_type": "display_data",
       "text": [
        "True"
       ]
      }
     ],
     "prompt_number": 39
    },
    {
     "cell_type": "heading",
     "level": 2,
     "metadata": {},
     "source": [
      "Question 2"
     ]
    },
    {
     "cell_type": "markdown",
     "metadata": {},
     "source": [
      "**(a)** Define and display the following matrix symbolically, where $a$ is a positive real number:\n",
      "\\begin{equation}\n",
      "H = \\left[\\begin{array}\\\\-a+1 & 0 & 0\\\\0 & 1 & a\\\\0& 0 & a\\end{array}\\right]\n",
      "\\end{equation}"
     ]
    },
    {
     "cell_type": "code",
     "collapsed": false,
     "input": [
      "a = Symbol('a',real=True,positive=True)\n",
      "H = Matrix([[-a+1,0,0],[0,1,a],[0,0,a]])\n",
      "display(H)"
     ],
     "language": "python",
     "metadata": {},
     "outputs": [
      {
       "latex": [
        "$$\\left[\\begin{matrix}- a + 1 & 0 & 0\\\\0 & 1 & a\\\\0 & 0 & a\\end{matrix}\\right]$$"
       ],
       "metadata": {},
       "output_type": "display_data",
       "text": [
        "\u23a1-a + 1  0  0\u23a4\n",
        "\u23a2            \u23a5\n",
        "\u23a2  0     1  a\u23a5\n",
        "\u23a2            \u23a5\n",
        "\u23a3  0     0  a\u23a6"
       ]
      }
     ],
     "prompt_number": 49
    },
    {
     "cell_type": "markdown",
     "metadata": {},
     "source": [
      "**(b)** Find the eigenvalues of $H$ and store them in a list."
     ]
    },
    {
     "cell_type": "code",
     "collapsed": false,
     "input": [
      "lst = H.eigenvals()\n",
      "display(lst)"
     ],
     "language": "python",
     "metadata": {},
     "outputs": [
      {
       "latex": [
        "$$\\begin{Bmatrix}1 : 1, & a : 1, & - a + 1 : 1\\end{Bmatrix}$$"
       ],
       "metadata": {},
       "output_type": "display_data",
       "text": [
        "{1: 1, a: 1, -a + 1: 1}"
       ]
      }
     ],
     "prompt_number": 50
    },
    {
     "cell_type": "markdown",
     "metadata": {},
     "source": [
      "**(c)** Write a Python function with the signature shown below. This function should return two NumPy arrays, which, when passed to the `matplotlib.pyplot.plot` function will plot the expression as a function of the symbol over some range.\n",
      "\n",
      "    def expr_to_data(expr, lim, n=100):\n",
      "        \"\"\"Evaluate an expression numerically over a range.\n",
      "\n",
      "        Parameters\n",
      "        ----------\n",
      "        expr : Expr\n",
      "            A SymPy expression containing one free symbol, call it f(x).\n",
      "        lim : (x, xmin, xmax)\n",
      "            A 3-tuple of the symbol to use as the x variable and its xmin and\n",
      "            xmax values for numerical evaluation. In your function you can call\n",
      "            these \"x\", but the user will be able to pass any symbol.\n",
      "        n : int\n",
      "            The number of points to use in evaluating the expression between\n",
      "            xmin and xmax.\n",
      "\n",
      "        Returns\n",
      "        -------\n",
      "        A 2-tuple of NumPy arrays (x, f(x)), which, when passed to\n",
      "        matplotlib's plot function will plot the expression as a function of the\n",
      "        symbol.\n",
      "        \"\"\"\n",
      "\n",
      "Use SymPy's `lambdify` function with `modules='numpy'` to build a function that can be used to evaluate the expression numerically. You will also have to perform the following logic on `xmin` and `xmax`:\n",
      "\n",
      "* First convert to a SymPy object using sympify.\n",
      "* Then produce a numerical value using N/evalf.\n",
      "* Finally convert to a Python float using float.\n",
      "\n",
      "When working with SymPy and regular Python numbers at the same time, it is important to keep track of what types you have. You can always show the type using Python's `type` function."
     ]
    },
    {
     "cell_type": "code",
     "collapsed": false,
     "input": [
      "def expr_to_data(expr, lim, n=100):\n",
      "    xmin = float(N(sympify(lim[1])))\n",
      "    xmax = float(N(sympify(lim[2])))\n",
      "    z = Symbol('z')\n",
      "    x = np.linspace(xmin, xmax, n)\n",
      "    f = lambdify([z], expr, modules='numpy')\n",
      "    return (x,f(x))\n",
      "    \"\"\"Evaluate an expression numerically over a range.\n",
      "\n",
      "    Parameters\n",
      "    ----------\n",
      "    expr : Expr\n",
      "        A SymPy expression containing one free symbol, call it f(x).\n",
      "    lim : (x, xmin, xmax)\n",
      "        A 3-tuple of the symbol to use as the x variable and its xmin and\n",
      "        xmax values for numerical evaluation. In your function you can call\n",
      "        these \"x\", but the user will be able to pass any symbol.\n",
      "    n : int\n",
      "        The number of points to use in evaluating the expression between\n",
      "        xmin and xmax.\n",
      "\n",
      "    Returns\n",
      "    -------\n",
      "    A 2-tuple of NumPy arrays (x, f(x)), which, when passed to\n",
      "    matplotlib's plot function will plot the expression as a function of the\n",
      "    symbol.\n",
      "    \"\"\""
     ],
     "language": "python",
     "metadata": {},
     "outputs": [],
     "prompt_number": 179
    },
    {
     "cell_type": "markdown",
     "metadata": {},
     "source": [
      "Here are a few assert statements you can run to test your function:\n"
     ]
    },
    {
     "cell_type": "code",
     "collapsed": false,
     "input": [
      "p = Symbol('p')\n",
      "assert len(expr_to_data(p, (p,0,1), n=10)) == 2\n",
      "assert len(expr_to_data(p, (p,0,1), n=10)[0]) == 10 and len(expr_to_data(p, (p,0,1), n=10)[1]) == 10\n",
      "assert np.all(expr_to_data(p, (p,0,1), n=10)[1] == np.linspace(0,1,10))\n",
      "assert np.all(expr_to_data(p**2, (p,0,1), n=10)[1] == np.linspace(0,1,10)**2)"
     ],
     "language": "python",
     "metadata": {},
     "outputs": [
      {
       "ename": "TypeError",
       "evalue": "object of type 'Symbol' has no len()",
       "output_type": "pyerr",
       "traceback": [
        "\u001b[1;31m---------------------------------------------------------------------------\u001b[0m\n\u001b[1;31mTypeError\u001b[0m                                 Traceback (most recent call last)",
        "\u001b[1;32m<ipython-input-181-17b8dbe4b2ca>\u001b[0m in \u001b[0;36m<module>\u001b[1;34m()\u001b[0m\n\u001b[0;32m      1\u001b[0m \u001b[0mp\u001b[0m \u001b[1;33m=\u001b[0m \u001b[0mSymbol\u001b[0m\u001b[1;33m(\u001b[0m\u001b[1;34m'p'\u001b[0m\u001b[1;33m)\u001b[0m\u001b[1;33m\u001b[0m\u001b[0m\n\u001b[0;32m      2\u001b[0m \u001b[1;32massert\u001b[0m \u001b[0mlen\u001b[0m\u001b[1;33m(\u001b[0m\u001b[0mexpr_to_data\u001b[0m\u001b[1;33m(\u001b[0m\u001b[0mp\u001b[0m\u001b[1;33m,\u001b[0m \u001b[1;33m(\u001b[0m\u001b[0mp\u001b[0m\u001b[1;33m,\u001b[0m\u001b[1;36m0\u001b[0m\u001b[1;33m,\u001b[0m\u001b[1;36m1\u001b[0m\u001b[1;33m)\u001b[0m\u001b[1;33m,\u001b[0m \u001b[0mn\u001b[0m\u001b[1;33m=\u001b[0m\u001b[1;36m10\u001b[0m\u001b[1;33m)\u001b[0m\u001b[1;33m)\u001b[0m \u001b[1;33m==\u001b[0m \u001b[1;36m2\u001b[0m\u001b[1;33m\u001b[0m\u001b[0m\n\u001b[1;32m----> 3\u001b[1;33m \u001b[1;32massert\u001b[0m \u001b[0mlen\u001b[0m\u001b[1;33m(\u001b[0m\u001b[0mexpr_to_data\u001b[0m\u001b[1;33m(\u001b[0m\u001b[0mp\u001b[0m\u001b[1;33m,\u001b[0m \u001b[1;33m(\u001b[0m\u001b[0mp\u001b[0m\u001b[1;33m,\u001b[0m\u001b[1;36m0\u001b[0m\u001b[1;33m,\u001b[0m\u001b[1;36m1\u001b[0m\u001b[1;33m)\u001b[0m\u001b[1;33m,\u001b[0m \u001b[0mn\u001b[0m\u001b[1;33m=\u001b[0m\u001b[1;36m10\u001b[0m\u001b[1;33m)\u001b[0m\u001b[1;33m[\u001b[0m\u001b[1;36m0\u001b[0m\u001b[1;33m]\u001b[0m\u001b[1;33m)\u001b[0m \u001b[1;33m==\u001b[0m \u001b[1;36m10\u001b[0m \u001b[1;32mand\u001b[0m \u001b[0mlen\u001b[0m\u001b[1;33m(\u001b[0m\u001b[0mexpr_to_data\u001b[0m\u001b[1;33m(\u001b[0m\u001b[0mp\u001b[0m\u001b[1;33m,\u001b[0m \u001b[1;33m(\u001b[0m\u001b[0mp\u001b[0m\u001b[1;33m,\u001b[0m\u001b[1;36m0\u001b[0m\u001b[1;33m,\u001b[0m\u001b[1;36m1\u001b[0m\u001b[1;33m)\u001b[0m\u001b[1;33m,\u001b[0m \u001b[0mn\u001b[0m\u001b[1;33m=\u001b[0m\u001b[1;36m10\u001b[0m\u001b[1;33m)\u001b[0m\u001b[1;33m[\u001b[0m\u001b[1;36m1\u001b[0m\u001b[1;33m]\u001b[0m\u001b[1;33m)\u001b[0m \u001b[1;33m==\u001b[0m \u001b[1;36m10\u001b[0m\u001b[1;33m\u001b[0m\u001b[0m\n\u001b[0m\u001b[0;32m      4\u001b[0m \u001b[1;32massert\u001b[0m \u001b[0mnp\u001b[0m\u001b[1;33m.\u001b[0m\u001b[0mall\u001b[0m\u001b[1;33m(\u001b[0m\u001b[0mexpr_to_data\u001b[0m\u001b[1;33m(\u001b[0m\u001b[0mp\u001b[0m\u001b[1;33m,\u001b[0m \u001b[1;33m(\u001b[0m\u001b[0mp\u001b[0m\u001b[1;33m,\u001b[0m\u001b[1;36m0\u001b[0m\u001b[1;33m,\u001b[0m\u001b[1;36m1\u001b[0m\u001b[1;33m)\u001b[0m\u001b[1;33m,\u001b[0m \u001b[0mn\u001b[0m\u001b[1;33m=\u001b[0m\u001b[1;36m10\u001b[0m\u001b[1;33m)\u001b[0m\u001b[1;33m[\u001b[0m\u001b[1;36m1\u001b[0m\u001b[1;33m]\u001b[0m \u001b[1;33m==\u001b[0m \u001b[0mnp\u001b[0m\u001b[1;33m.\u001b[0m\u001b[0mlinspace\u001b[0m\u001b[1;33m(\u001b[0m\u001b[1;36m0\u001b[0m\u001b[1;33m,\u001b[0m\u001b[1;36m1\u001b[0m\u001b[1;33m,\u001b[0m\u001b[1;36m10\u001b[0m\u001b[1;33m)\u001b[0m\u001b[1;33m)\u001b[0m\u001b[1;33m\u001b[0m\u001b[0m\n\u001b[0;32m      5\u001b[0m \u001b[1;32massert\u001b[0m \u001b[0mnp\u001b[0m\u001b[1;33m.\u001b[0m\u001b[0mall\u001b[0m\u001b[1;33m(\u001b[0m\u001b[0mexpr_to_data\u001b[0m\u001b[1;33m(\u001b[0m\u001b[0mp\u001b[0m\u001b[1;33m**\u001b[0m\u001b[1;36m2\u001b[0m\u001b[1;33m,\u001b[0m \u001b[1;33m(\u001b[0m\u001b[0mp\u001b[0m\u001b[1;33m,\u001b[0m\u001b[1;36m0\u001b[0m\u001b[1;33m,\u001b[0m\u001b[1;36m1\u001b[0m\u001b[1;33m)\u001b[0m\u001b[1;33m,\u001b[0m \u001b[0mn\u001b[0m\u001b[1;33m=\u001b[0m\u001b[1;36m10\u001b[0m\u001b[1;33m)\u001b[0m\u001b[1;33m[\u001b[0m\u001b[1;36m1\u001b[0m\u001b[1;33m]\u001b[0m \u001b[1;33m==\u001b[0m \u001b[0mnp\u001b[0m\u001b[1;33m.\u001b[0m\u001b[0mlinspace\u001b[0m\u001b[1;33m(\u001b[0m\u001b[1;36m0\u001b[0m\u001b[1;33m,\u001b[0m\u001b[1;36m1\u001b[0m\u001b[1;33m,\u001b[0m\u001b[1;36m10\u001b[0m\u001b[1;33m)\u001b[0m\u001b[1;33m**\u001b[0m\u001b[1;36m2\u001b[0m\u001b[1;33m)\u001b[0m\u001b[1;33m\u001b[0m\u001b[0m\n",
        "\u001b[1;31mTypeError\u001b[0m: object of type 'Symbol' has no len()"
       ]
      }
     ],
     "prompt_number": 181
    },
    {
     "cell_type": "markdown",
     "metadata": {},
     "source": [
      "**(d)** Use your `expr_to_data` function to generate data that can be used to plot the above eigenvalues as functions of the parameter a over the range `[0,1]`. The plots of all three eigenvalues should appear on the same plot."
     ]
    },
    {
     "cell_type": "code",
     "collapsed": false,
     "input": [],
     "language": "python",
     "metadata": {},
     "outputs": []
    }
   ],
   "metadata": {}
  }
 ]
}