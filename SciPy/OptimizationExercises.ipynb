{
 "metadata": {
  "name": "",
  "signature": "sha256:403b33a6fad8b19f398883562a8903e98db3973aa905a177f782d145401b6d45"
 },
 "nbformat": 3,
 "nbformat_minor": 0,
 "worksheets": [
  {
   "cells": [
    {
     "cell_type": "heading",
     "level": 1,
     "metadata": {},
     "source": [
      "Optimization Exercises"
     ]
    },
    {
     "cell_type": "code",
     "collapsed": false,
     "input": [
      "%pylab inline\n",
      "import numpy as np\n",
      "import matplotlib.pyplot as plt\n",
      "from scipy.optimize import curve_fit"
     ],
     "language": "python",
     "metadata": {},
     "outputs": [
      {
       "output_type": "stream",
       "stream": "stdout",
       "text": [
        "Populating the interactive namespace from numpy and matplotlib\n"
       ]
      }
     ],
     "prompt_number": 4
    },
    {
     "cell_type": "heading",
     "level": 2,
     "metadata": {},
     "source": [
      "Question 1"
     ]
    },
    {
     "cell_type": "markdown",
     "metadata": {},
     "source": [
      "**(a)** Write a function that can compute the weighted linear least squares (WLSQ) best fit line to a set of data. Here is the function template to use:\n",
      "\n",
      "\n",
      "    def WeightedLLSqFit(x,y,w):\n",
      "        \"\"Take in arrays representing (x,y) values for a set of linearly varying data and an array of weight w.\n",
      "        Perform a weighted linear least squares regression.  Return the resulting slope and intercept parameters of the best fit line with their uncertainties.\n",
      "        If the weights are all equal to one, the uncertainties on the parameters are calculated using the non-weighted least squares equations.\"\"\"\n",
      "    \n",
      "        #your code goes here...\n",
      "    \n",
      "        return slope,slerr,intercept,interr\n",
      "\n",
      "Your function should test whether there are unequal weights on the data points and return the correctly calculated uncertainties for whichever case is requested. Use the features of `numpy` arrays rather than loops to take advantage of their superior computational speed."
     ]
    },
    {
     "cell_type": "code",
     "collapsed": false,
     "input": [
      "def WeightedLLSqFit(x,y,w):\n",
      "    \"\"\"Take in arrays representing (x,y) values for a set of linearly varying data and an array of weight w.\n",
      "    Perform a weighted linear least squares regression.  Return the resulting slope and intercept parameters of the best fit line with their uncertainties.\n",
      "    If the weights are all equal to one, the uncertainties on the parameters are calculated using the non-weighted least squares equations.\"\"\"\n",
      "    \n",
      "    wsum = w.sum()\n",
      "    wxsum = (w*x).sum()\n",
      "    wysum = (w*y).sum()\n",
      "    wxysum = (w*x*y).sum()\n",
      "    wx2sum = (w*x*x).sum()\n",
      "    denom = wsum*wx2sum - (wxsum)*(wxsum)\n",
      "    \n",
      "    m = (wsum*wxysum - wxsum*wysum)/denom\n",
      "    b = (wx2sum*wysum - wxsum*wxysum)/denom\n",
      "    \n",
      "    merr = np.sqrt(wsum/denom)\n",
      "    berr = np.sqrt(wx2sum/denom)\n",
      "    \n",
      "    return m,merr,b,berr"
     ],
     "language": "python",
     "metadata": {},
     "outputs": [],
     "prompt_number": 22
    },
    {
     "cell_type": "markdown",
     "metadata": {},
     "source": [
      "**(b)** For the data below, use the uncertainties on the position values as weights to perform a WLSQ best fit. Print the results of the fit, both the fitted parameter values and their uncertainties.\n",
      "\n",
      "    time = np.array([1.,2.,3.,4.,5.,6.,7.,8.,9.,10.])\n",
      "    pos = np.array([7.75, 7.33, 6.89, 6.45, 5.96, 5.55, 5.10, 4.49, 3.93, 3.58])\n",
      "    sigp = np.array([0.02, 0.03, 0.03, 0.04, 0.05, 0.06, 0.08, 0.11, 0.14, 0.17])\n",
      "    \n",
      "If you did it right you should get $m = -0.4510 \\pm 0.0066$ and $b = 8.2201 \\pm 0.0214$."
     ]
    },
    {
     "cell_type": "code",
     "collapsed": false,
     "input": [
      "time = np.array([1.,2.,3.,4.,5.,6.,7.,8.,9.,10.])\n",
      "pos = np.array([7.75, 7.33, 6.89, 6.45, 5.96, 5.55, 5.10, 4.49, 3.93, 3.58])\n",
      "sigp = np.array([0.02, 0.03, 0.03, 0.04, 0.05, 0.06, 0.08, 0.11, 0.14, 0.17])\n",
      "\n",
      "m1,m1err,b1,b1err = WeightedLLSqFit(time,pos,sigp)\n",
      "print \"m= %.4f +/- %.4f\" % (m1, m1err)\n",
      "print \"b= %.4f +/- %.4f\" % (b1, b1err)"
     ],
     "language": "python",
     "metadata": {},
     "outputs": [
      {
       "output_type": "stream",
       "stream": "stdout",
       "text": [
        "m= -0.4794 +/- 0.4614\n",
        "b= 8.3439 +/- 3.5723\n"
       ]
      }
     ],
     "prompt_number": 24
    },
    {
     "cell_type": "markdown",
     "metadata": {},
     "source": [
      "**(c)** Now make an `errorbar` plot that shows time,position data with markers and error bars $\\sigma_p$. Also plot lines representing results from the LSQ and WLSQ fits to these data. Include a legend that shows the fitted line equations with the fit parameters as you did in the tour, with labels indicating which one is the weighted result and which the unweighted result."
     ]
    },
    {
     "cell_type": "code",
     "collapsed": false,
     "input": [
      "f = lambda x,m,b: m*x + b\n",
      "mylabel=\"y=%.4f x + %.4f\" % (m1,b1)\n",
      "\n",
      "fig = plt.figure(2,(10,6))\n",
      "plt.plot(time,f(time,m1,b1),label=mylabel)\n",
      "plt.errorbar(time,position,uncpos,fmt=\"bo\",label=\"data with errors\")\n",
      "\n",
      "plt.plot(time,f(time,m1-m1err,b1-b1err),'b:')\n",
      "plt.plot(time,f(time,m1+m1err,b1+b1err),'b:')\n",
      "\n",
      "plt.xlim(0.,11.)\n",
      "plt.ylim(3.,9.)\n",
      "\n",
      "plt.legend(loc=\"best\")\n",
      "plt.xlabel(\"time (s)\",fontsize=20)\n",
      "plt.ylabel(\"position (m)\",fontsize=20)\n",
      "\n",
      "plt.show()"
     ],
     "language": "python",
     "metadata": {},
     "outputs": [
      {
       "metadata": {},
       "output_type": "display_data",
       "png": "[encoded data removed]",
       "text": [
        "<matplotlib.figure.Figure at 0x106efe390>"
       ]
      }
     ],
     "prompt_number": 36
    },
    {
     "cell_type": "heading",
     "level": 2,
     "metadata": {},
     "source": [
      "Question 2"
     ]
    },
    {
     "cell_type": "markdown",
     "metadata": {},
     "source": [
      "**(a)** Download the linked file `waveform_2.npy` by right-clicking on the link and selecting \"Save Link As\". Read in the data and plot it."
     ]
    },
    {
     "cell_type": "code",
     "collapsed": false,
     "input": [
      "data = loadtxt(waveform_2.npy)\n",
      "print data"
     ],
     "language": "python",
     "metadata": {},
     "outputs": [
      {
       "ename": "NameError",
       "evalue": "name 'waveform_2' is not defined",
       "output_type": "pyerr",
       "traceback": [
        "\u001b[0;31m---------------------------------------------------------------------------\u001b[0m\n\u001b[0;31mNameError\u001b[0m                                 Traceback (most recent call last)",
        "\u001b[0;32m<ipython-input-35-2ab810d4b787>\u001b[0m in \u001b[0;36m<module>\u001b[0;34m()\u001b[0m\n\u001b[0;32m----> 1\u001b[0;31m \u001b[0mdata\u001b[0m \u001b[0;34m=\u001b[0m \u001b[0mloadtxt\u001b[0m\u001b[0;34m(\u001b[0m\u001b[0mwaveform_2\u001b[0m\u001b[0;34m.\u001b[0m\u001b[0mnpy\u001b[0m\u001b[0;34m)\u001b[0m\u001b[0;34m\u001b[0m\u001b[0m\n\u001b[0m\u001b[1;32m      2\u001b[0m \u001b[0;32mprint\u001b[0m \u001b[0mdata\u001b[0m\u001b[0;34m\u001b[0m\u001b[0m\n",
        "\u001b[0;31mNameError\u001b[0m: name 'waveform_2' is not defined"
       ]
      }
     ],
     "prompt_number": 35
    },
    {
     "cell_type": "code",
     "collapsed": false,
     "input": [],
     "language": "python",
     "metadata": {},
     "outputs": []
    }
   ],
   "metadata": {}
  }
 ]
}