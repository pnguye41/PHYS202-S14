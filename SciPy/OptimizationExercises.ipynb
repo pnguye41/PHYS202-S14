{
 "metadata": {
  "name": "",
  "signature": "sha256:861915d4e30d1c4dab35c09d9a23916b99de4a74f5634a3b68ea69a44aa7efea"
 },
 "nbformat": 3,
 "nbformat_minor": 0,
 "worksheets": [
  {
   "cells": [
    {
     "cell_type": "heading",
     "level": 1,
     "metadata": {},
     "source": [
      "Optimization Exercises"
     ]
    },
    {
     "cell_type": "code",
     "collapsed": false,
     "input": [
      "%pylab inline\n",
      "import numpy as np\n",
      "import matplotlib.pyplot as plt\n",
      "from scipy.optimize import curve_fit"
     ],
     "language": "python",
     "metadata": {},
     "outputs": [
      {
       "output_type": "stream",
       "stream": "stdout",
       "text": [
        "Populating the interactive namespace from numpy and matplotlib\n"
       ]
      }
     ],
     "prompt_number": 2
    },
    {
     "cell_type": "heading",
     "level": 2,
     "metadata": {},
     "source": [
      "Question 1"
     ]
    },
    {
     "cell_type": "markdown",
     "metadata": {},
     "source": [
      "**(a)** Write a function that can compute the weighted linear least squares (WLSQ) best fit line to a set of data. Here is the function template to use:\n",
      "\n",
      "\n",
      "    def WeightedLLSqFit(x,y,w):\n",
      "        \"\"Take in arrays representing (x,y) values for a set of linearly varying data and an array of weight w.\n",
      "        Perform a weighted linear least squares regression.  Return the resulting slope and intercept parameters of the best fit line with their uncertainties.\n",
      "        If the weights are all equal to one, the uncertainties on the parameters are calculated using the non-weighted least squares equations.\"\"\"\n",
      "    \n",
      "        #your code goes here...\n",
      "    \n",
      "        return slope,slerr,intercept,interr\n",
      "\n",
      "Your function should test whether there are unequal weights on the data points and return the correctly calculated uncertainties for whichever case is requested. Use the features of `numpy` arrays rather than loops to take advantage of their superior computational speed."
     ]
    },
    {
     "cell_type": "code",
     "collapsed": false,
     "input": [
      "def WeigthedLLSqFit(x,y,w):\n",
      "    \"\"\"Take in arrays representing (x,y) values for a set of linearly varying data and an array of weight w.\n",
      "    Perform a weighted linear least squares regression.  Return the resulting slope and intercept parameters of the best fit line with their uncertainties.\n",
      "    If the weights are all equal to one, the uncertainties on the parameters are calculated using the non-weighted least squares equations.\"\"\"\n",
      "    \n",
      "    xave = x.mean()\n",
      "    yave = y.mean()\n",
      "    x2ave = (x*x).mean()\n",
      "    xyave"
     ],
     "language": "python",
     "metadata": {},
     "outputs": []
    }
   ],
   "metadata": {}
  }
 ]
}