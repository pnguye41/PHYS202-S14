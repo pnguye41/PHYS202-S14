{
 "metadata": {
  "name": "",
  "signature": "sha256:1d64af48690589a6ab232ee9b075f0335cb394b7b8abe53671fe8d4cd6f38ea6"
 },
 "nbformat": 3,
 "nbformat_minor": 0,
 "worksheets": [
  {
   "cells": [
    {
     "cell_type": "heading",
     "level": 1,
     "metadata": {},
     "source": [
      "ODE Exercises"
     ]
    },
    {
     "cell_type": "code",
     "collapsed": false,
     "input": [
      "%pylab inline\n",
      "import numpy as np\n",
      "import matplotlib.pyplot as plt\n",
      "import scipy.integrate as odeint"
     ],
     "language": "python",
     "metadata": {},
     "outputs": [
      {
       "output_type": "stream",
       "stream": "stdout",
       "text": [
        "Populating the interactive namespace from numpy and matplotlib\n"
       ]
      }
     ],
     "prompt_number": 2
    },
    {
     "cell_type": "heading",
     "level": 2,
     "metadata": {},
     "source": [
      "Questions 1"
     ]
    },
    {
     "cell_type": "markdown",
     "metadata": {},
     "source": [
      "**(a)** See what happens to the period of the pendulum as you change the initial angle of release. Plot \u03b8 vs t for 5 different initial angles, \u03b80 , spanning 0 to \u03c0. (i.e. 0, \u03c0/4 , \u03c0/2 , 3\u03c0/4 , and \u03c0 ). Put them all on the same plot. What happens to the period of the pendulum as the initial angle increases from \u03c0/4 to 3\u03c0/4? What happens to the trajectory when the initial angle is 0 and \u03c0 ?"
     ]
    },
    {
     "cell_type": "code",
     "collapsed": false,
     "input": [
      "g = 9.8 #m/w^2\n",
      "ell = 0.5 #m\n",
      "th0 = 20.*np.pi/180 # 20 degrees, but must use radians\n",
      "\n",
      "def deriv(theta_current,t): #return derivatives of array theta\n",
      "    g = 9.8 # m/s^2\n",
      "    ell = 0.5 #m\n",
      "    theta = theta_current[0]\n",
      "    omega = theta_current[1]\n",
      "    dtheta = omega\n",
      "    domega = -(g/ell)*np.sin(theta)\n",
      "    return np.array([dtheta, domega])\n",
      "\n",
      "t = np.arange(0.,10.+0.01,0.01)\n",
      "\n",
      "omega0 = 0. #starting from rest, omega = 0\n",
      "theta_init = np.array([th0, omega0]) # initial values, th0 from before = 20 degrees, in radians\n",
      "\n",
      "#pass function deriv to the solve with initial values and integration variable\n",
      "theta = odeint(deriv,theta_init,t)\n",
      "print theta.shape"
     ],
     "language": "python",
     "metadata": {},
     "outputs": []
    }
   ],
   "metadata": {}
  }
 ]
}