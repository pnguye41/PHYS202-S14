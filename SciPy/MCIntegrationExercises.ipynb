{
 "metadata": {
  "name": "",
  "signature": "sha256:62c0dbb6245c733622be2b452ab36b7744c7cff8667235667ec768f74f10ba7b"
 },
 "nbformat": 3,
 "nbformat_minor": 0,
 "worksheets": [
  {
   "cells": [
    {
     "cell_type": "heading",
     "level": 1,
     "metadata": {},
     "source": [
      "Monte Carlo Integration Exercises"
     ]
    },
    {
     "cell_type": "code",
     "collapsed": false,
     "input": [
      "%pylab inline\n",
      "import numpy as np\n",
      "import matplotlib.pyplot as plt\n",
      "from IPython.html.widgets import interact, interactive"
     ],
     "language": "python",
     "metadata": {},
     "outputs": [
      {
       "output_type": "stream",
       "stream": "stdout",
       "text": [
        "Populating the interactive namespace from numpy and matplotlib\n"
       ]
      }
     ],
     "prompt_number": 1
    },
    {
     "cell_type": "heading",
     "level": 2,
     "metadata": {},
     "source": [
      "Question 1"
     ]
    },
    {
     "cell_type": "markdown",
     "metadata": {},
     "source": [
      "Let\u2019s compute the electric potential from a plane of charge as shown in the figure using Monte Carlo integration.\n",
      "\n",
      "The integral comes from summing all the potentials from the chunks of \u201cpoint\u201d charges. Just as we summed two charges for a dipole, now we\u2019ll sum many charges. The important part is to understand how dQ, modeled as a point charge, is related to \u03c3dA, where \u03c3 is the surface charge density = charge/area (\u03c3=Q/A ) Review your notes from PHYS 133 if you need a refresher.\n",
      "\n",
      "We want to use our previously defined `pointPotential()` function from `Electrostatics.py`, so we have to import it."
     ]
    },
    {
     "cell_type": "code",
     "collapsed": false,
     "input": [
      "from Electrostatics import *"
     ],
     "language": "python",
     "metadata": {},
     "outputs": [],
     "prompt_number": 2
    },
    {
     "cell_type": "markdown",
     "metadata": {},
     "source": [
      "**(a)** Use the sample mean method to compute the potential at point $P(2,3)$ due to the disk of charge for different numbers of samples $N=(10^1,10^2,103^,10^4,10^5,10^6)$. Report the value and its statistical uncertainty for each sample size. How does the result depend on $N$?\n",
      "\n",
      "Integral we want to compute:\n",
      "\n",
      "\\begin{equation}\n",
      "V = \\int pointPotential(x,y) \\ \\sigma dA = \\int_{-1}^1 \\int_0^2 pointPotential(x,y) \\ \\sigma dydx\n",
      "\\end{equation}"
     ]
    },
    {
     "cell_type": "code",
     "collapsed": false,
     "input": [
      "help(pointPotential)"
     ],
     "language": "python",
     "metadata": {},
     "outputs": [
      {
       "output_type": "stream",
       "stream": "stdout",
       "text": [
        "Help on function pointPotential in module Electrostatics:\n",
        "\n",
        "pointPotential(x, y, q, Xc, Yc)\n",
        "    Return the electric potential for a point charge q at (Xc,Yc)\n",
        "    \n",
        "    Units returned are [Volts] if input units are [meters] and [Coulombs]\n",
        "\n"
       ]
      }
     ],
     "prompt_number": 3
    },
    {
     "cell_type": "code",
     "collapsed": false,
     "input": [
      "xa = -1.; xb = 1. #meters\n",
      "ya = 0.;  yb = 2. #meters\n",
      "Q = 1e-9 #C\n",
      "\n",
      "i = [10,100,1000,10000,100000,1000000]\n",
      "for N in i:\n",
      "    x = (xb-xa)*np.random.random_sample(N)\n",
      "    y = (yb-ya)*np.random.random_sample(N)\n",
      "    \n",
      "    V = (xb-xa)*(yb-ya)*pointPotential(x,y,Q,2,3).mean()\n",
      "    unc = (xb-xa)*(yb-ya)*np.sqrt((pointPotential(x,y,Q,2,3)**2).mean() - (pointPotential(x,y,Q,2,3).mean())**2)\n",
      "\n",
      "    print \"V =\",V,\"+/-\",unc,\"N =\",N"
     ],
     "language": "python",
     "metadata": {},
     "outputs": [
      {
       "output_type": "stream",
       "stream": "stdout",
       "text": [
        "V = 14.1285183981 +/- 2.08039302561 N = 10\n",
        "V = 17.1795556693 +/- 4.72815940547 N = 100\n",
        "V = 16.5562060684 +/- 4.91734325701 N = 1000\n",
        "V = 16.7420248708 +/- 4.89907064301 N = 10000\n",
        "V = 16.71319624 +/- 4.88879774231 N = 100000\n",
        "V ="
       ]
      },
      {
       "output_type": "stream",
       "stream": "stdout",
       "text": [
        " 16.7069084777 +/- 4.89285303948 N = 1000000\n"
       ]
      }
     ],
     "prompt_number": 4
    },
    {
     "cell_type": "markdown",
     "metadata": {},
     "source": [
      "**(b)** Now use the same method to compute the electric potential, V, at point P(2,3), from a disk centered on the origin with radius, R=1.2 cm, and charge density, \u03c3 = 2 nC/m^2 ."
     ]
    },
    {
     "cell_type": "code",
     "collapsed": false,
     "input": [
      "ra = 0.; rb = 0.12 #meters\n",
      "thetaa = 0.; thetab = 2*np.pi #radians\n",
      "Q = 2e-9*np.pi*(rb**2) #C\n",
      "\n",
      "i = [10,100,1000,10000,100000,1000000]\n",
      "for N in i:\n",
      "    r = (rb-ra)*np.random.random_sample(N)\n",
      "    theta = (thetab-thetaa)*np.random.random_sample(N)\n",
      "    \n",
      "    V = (rb-ra)*(thetab-thetaa)*pointPotential(x,y,Q,2,3).mean()\n",
      "    unc = (rb-ra)*(thetab-thetaa)*np.sqrt((pointPotential(r*np.cos(theta),r*np.sin(theta),Q,2,3)**2).mean() - (pointPotential(r*np.cos(theta),r*np.sin(theta),Q,2,3).mean())**2)\n",
      "\n",
      "    print \"V =\",V,\"+/-\",unc,\"N =\",N"
     ],
     "language": "python",
     "metadata": {},
     "outputs": [
      {
       "output_type": "stream",
       "stream": "stdout",
       "text": [
        "V = 0.284930917817 +/- 0.00201840940365 N = 10\n",
        "V ="
       ]
      },
      {
       "output_type": "stream",
       "stream": "stdout",
       "text": [
        " 0.284930917817 +/- 0.00243642588411 N = 100\n",
        "V ="
       ]
      },
      {
       "output_type": "stream",
       "stream": "stdout",
       "text": [
        " 0.284930917817 +/- 0.00229176089757 N = 1000\n",
        "V ="
       ]
      },
      {
       "output_type": "stream",
       "stream": "stdout",
       "text": [
        " 0.284930917817 +/- 0.00232335719513 N = 10000\n",
        "V ="
       ]
      },
      {
       "output_type": "stream",
       "stream": "stdout",
       "text": [
        " 0.284930917817 +/- 0.00230978241888 N = 100000\n",
        "V ="
       ]
      },
      {
       "output_type": "stream",
       "stream": "stdout",
       "text": [
        " 0.284930917817 +/- 0.00231366189278 N = 1000000\n"
       ]
      }
     ],
     "prompt_number": 5
    },
    {
     "cell_type": "heading",
     "level": 2,
     "metadata": {},
     "source": [
      "Question 2"
     ]
    },
    {
     "cell_type": "markdown",
     "metadata": {},
     "source": [
      "Use the sample mean method to compute the volume of a sphere with radius 1 using spherical coordinates:\n",
      "\\begin{equation}\n",
      "V = \\int_0^1 \\int_0^{\\pi} \\int_0^{2\\pi} r^2 \\sin(\\theta)dr d\\theta d\\phi\n",
      "\\end{equation}\n",
      "for $N = (10^1,10^2,10^3,10^4,10^5,10^6)$. Report value and statistical uncertainty for each sample size. How does the result depend on N?"
     ]
    },
    {
     "cell_type": "code",
     "collapsed": false,
     "input": [
      "ra = 0.;      rb = 1.\n",
      "thethaa = 0.; thetab = np.pi\n",
      "phia = 0.;    phib = 2*np.pi\n",
      "\n",
      "i = [10,100,1000,10000,100000,1000000]\n",
      "Vexact = (4./3.)*np.pi*(rb**3)\n",
      "for N in i:\n",
      "    r = (rb-ra)*np.random.random_sample(N)\n",
      "    theta = (thetab-thetaa)*np.random.random_sample(N)\n",
      "    phi = (phib-phia)*np.random.random_sample(N)\n",
      "    \n",
      "    f = lambda r,theta: (r**2) * np.sin(theta)\n",
      "    approx = f(r,theta)\n",
      "    V = (rb-ra)*(thetab-thetaa)*(phib-phia)*approx.mean()\n",
      "    unc = (rb-ra)*(thetab-thetaa)*(phib-phia)*np.sqrt((approx**2).mean()-(approx.mean())**2)\n",
      "    err = 100.*abs(V-Vexact)/Vexact\n",
      "    print \"V =\",V,\"+/-\",unc,\"N =\",N\n",
      "print \"\\nAnalytical result: V = (4/3)*pi =\",Vexact"
     ],
     "language": "python",
     "metadata": {},
     "outputs": [
      {
       "output_type": "stream",
       "stream": "stdout",
       "text": [
        "V = 4.78396143712 +/- 4.4979370241 N = 10\n",
        "V = 3.95791044605 +/- 4.8924155751 N = 100\n",
        "V = 4.0750626537 +/- 4.53305892899 N = 1000\n",
        "V = 4.19943800464 +/- 4.62850204688 N = 10000\n",
        "V ="
       ]
      },
      {
       "output_type": "stream",
       "stream": "stdout",
       "text": [
        " 4.17299933777 +/- 4.61359960452 N = 100000\n",
        "V ="
       ]
      },
      {
       "output_type": "stream",
       "stream": "stdout",
       "text": [
        " 4.18392806852 +/- 4.61874973727 N = 1000000\n",
        "\n",
        "Analytical result: V = (4/3)*pi = 4.18879020479\n"
       ]
      }
     ],
     "prompt_number": 6
    },
    {
     "cell_type": "heading",
     "level": 2,
     "metadata": {},
     "source": [
      "Question 3"
     ]
    },
    {
     "cell_type": "markdown",
     "metadata": {},
     "source": [
      "**(a)** Use the hit or miss Monte Carlo method to estimate the integral of $f(x)=4\\sqrt{1-x^2}$ in the interval 0 \u2264 x \u2264 1 as a function of N, the number of samples. Let $N$ range from $10^1$ to $10^6$ and use at least 100 different values for $N$.\n",
      "\n",
      "(`np.logspace` might be useful here to get evenly spaced values for N.)"
     ]
    },
    {
     "cell_type": "code",
     "collapsed": false,
     "input": [
      "def integral(N):\n",
      "    x = np.arange(0.,1.,0.001)\n",
      "    f = lambda x: 4*np.sqrt(1-x**2)\n",
      "    \n",
      "    xmin = 0.; xmax = 1.\n",
      "    \n",
      "    subx = x[logical_and((x > xmin),(x < xmax))]\n",
      "    ymax = f(subx).max()*1.05\n",
      "    ymin = 0.\n",
      "    \n",
      "    samples_x = xmin + (xmax-xmin)*np.random.random_sample(N);\n",
      "    samples_y = ymin + (ymax-ymin)*np.random.random_sample(N);\n",
      "    \n",
      "    newmask = (samples_y < f(samples_x))\n",
      "    newmask.sum()\n",
      "    \n",
      "    I = (xmax-xmin)*(ymax-ymin)*newmask.sum()/newmask.size\n",
      "    return I\n",
      "\n",
      "Nrange = np.logspace(1,6,100)\n",
      "integrals = []\n",
      "for N in Nrange:\n",
      "    integrals.append(integral(N))\n",
      "    plt.semilogx(N,integral(N),'r.')\n",
      "print integrals\n",
      "plt.title('$\\int_0^1 4 \\sqrt{1-x^2} dx$ Using Different Values for N',fontsize=16)\n",
      "plt.xlabel('N')\n",
      "plt.ylabel('Computed Integral')\n",
      "plt.grid()\n",
      "plt.show()"
     ],
     "language": "python",
     "metadata": {},
     "outputs": [
      {
       "output_type": "stream",
       "stream": "stdout",
       "text": [
        "[2.9399985299996332, 3.0545439272723458, 2.7999985999996504, 2.999998499999625, 3.3599983199995807, 2.9647043999996296, 3.1499984249996067, 3.0545439272723458, 3.0239984879996222, 3.7499981249995318, 2.8451598677415806, 2.9999984999996254, 3.3599983199995807, 2.9866651733329603, 2.6879986559996643, 3.3157878157890597, 3.5437482281245574, 3.1499984249996067, 3.0592577296292478, 3.3230752615380466, 3.4176453499995731, 3.3157878157890597, 3.255812325580989, 3.1572398006892612, 3.0851836425922072, 3.2131131475405827, 3.0731691951215674, 3.1818165909086935, 3.0486471243239435, 2.9154624597934502, 3.0183471146785226, 3.1929139348769855, 3.2542356610165424, 3.0685329484909962, 3.071399615930519, 3.2594855497431827, 3.0301354712324984, 3.0064937606220874, 3.0361430602405846, 3.0238182305790215, 3.1289382636099243, 3.1499984249996067, 3.2080226200601598, 3.1584889867920585, 3.1147466440643594, 3.168498148798323, 3.138021244676414, 3.0824857684006304, 3.131022530873103, 3.1806219430435188, 3.1622186516558273, 3.1522300923216044, 3.1413084317092315, 3.1327563283575035, 3.1429144705205974, 3.1174158587083194, 3.1328466664237253, 3.1616589162608428, 3.1560535002349828, 3.1602289070504175, 3.1639044057354755, 3.1361379088912651, 3.1467390031259925, 3.1468896693989099, 3.1237376755223654, 3.1208180860781338, 3.134012543649813, 3.1396290239614282, 3.1458656332458825, 3.1442907849167598, 3.1501208596398818, 3.14986218528571, 3.1566690156070627, 3.1430453581022686, 3.1305062887239328, 3.1461481360138839, 3.1350998455586141, 3.1527920588157663, 3.1323000412257227, 3.1445818463363522, 3.1333609240927669, 3.1487379214281783, 3.1462681397640631, 3.1350077853782556, 3.138365945922974, 3.1393863184791089, 3.1428036146858163, 3.1450262224208547, 3.1429457250704957, 3.1444456093763566, 3.1398159848229872, 3.1444185890389567, 3.1405142040577307, 3.1452009783223787, 3.1426006634372849, 3.1422826227402774, 3.1383893136073646, 3.1411239061038474, 3.143821437136479, 3.1421192289392077]\n"
       ]
      },
      {
       "metadata": {},
       "output_type": "display_data",
       "png": "[encoded data removed]",
       "text": [
        "<matplotlib.figure.Figure at 0x6e394d0>"
       ]
      }
     ],
     "prompt_number": 7
    },
    {
     "cell_type": "markdown",
     "metadata": {},
     "source": [
      "**(b)** Calculate the percent error for the N values from part (a) using the exact result \u03c0. Make a log-log plot of the error as a function of N.\n",
      "What is the approximate functional dependence of the error on N for large N, for example N \u2265 104?"
     ]
    },
    {
     "cell_type": "code",
     "collapsed": false,
     "input": [
      "err = lambda integral: 100.*abs(integral - np.pi)/np.pi\n",
      "for N in Nrange:\n",
      "    plt.semilogx(N,err(integral(N)),'b.')\n",
      "    plt.semilogy(N,err(integral(N)),'b.')\n",
      "plt.plot([10**2,10**6],[10**0.6,10**-1.5],'r-')\n",
      "plt.title('Integral Computation Error',fontsize=16)\n",
      "plt.xlabel('N')\n",
      "plt.ylabel('Percent Error')\n",
      "plt.grid()\n",
      "plt.show()"
     ],
     "language": "python",
     "metadata": {},
     "outputs": [
      {
       "metadata": {},
       "output_type": "display_data",
       "png": "[encoded data removed]",
       "text": [
        "<matplotlib.figure.Figure at 0x6e36e90>"
       ]
      }
     ],
     "prompt_number": 8
    },
    {
     "cell_type": "markdown",
     "metadata": {},
     "source": [
      "The relationship between error and N for large N appears to be $\\log(error) \\simeq 10 -0.5\\log(N)$"
     ]
    },
    {
     "cell_type": "markdown",
     "metadata": {},
     "source": [
      "**(c)** Estimate the same integral using the sample mean method and compute the statistical uncertainty and error as a function of the number of samples N for N\u2265104. Use at least 100 different values for N.\n",
      "\n",
      "Make a log-log plot of both the statistical uncertainty and the error as a function of N.\n",
      "\n",
      "How many samples are needed to determine the result to two decimal places? What is the approximate functional dependence of the error on N for large N?"
     ]
    },
    {
     "cell_type": "markdown",
     "metadata": {},
     "source": [
      "\\begin{equation}\n",
      "\\int_0^14\\sqrt{1-x^2}dx = 4\\left[\\frac{1}{2}sin^{-1}(x) + \\frac{x}{2}(1 - x^2)^{1/2}\\right]_0^1 = 4\\left(\\frac{\\pi}{4}\\right) = \\pi\n",
      "\\end{equation}"
     ]
    },
    {
     "cell_type": "code",
     "collapsed": false,
     "input": [
      "N = np.arange(104,3000,1)\n",
      "xmin = 0.\n",
      "xmax = 1.\n",
      "x = np.arange(xmin,xmax,0.001)\n",
      "f = lambda x: 4*np.sqrt(1.-x**2)\n",
      "Iana = lambda x: 4*(0.5*np.arcsin(x) + 0.5*x*np.sqrt(1-x**2))\n",
      "Iexact = Iana(1.) - Iana(0.)\n",
      "\n",
      "samples_x = lambda N: xmin + (xmax-xmin)*np.random.random_sample(N)\n",
      "\n",
      "approx = lambda samples_x: f(samples_x)\n",
      "I = lambda approx: approx.mean()*(xmax-xmin)\n",
      "Iunc = lambda approx: (xmax-xmin)*np.sqrt( ((approx**2).mean()-(approx.mean())**2)/N )\n",
      "Ierr = lambda I: 100*np.abs(Iexact-I/Iexact)\n",
      "\n",
      "plt.figure(figsize=(11,7))\n",
      "\n",
      "plt.subplot(1,2,1)\n",
      "plt.title(\"Uncertainty as a function of N\",fontsize=16)\n",
      "plt.semilogy(N,Iunc(N))\n",
      "plt.semilogx(N,Iunc(N))\n",
      "\n",
      "plt.subplot(1,2,2)\n",
      "plt.title(\"Error as a function of N\",fontsize=16)\n",
      "plt.semilogy(N,Ierr(N))\n",
      "plt.semilogx(N,Ierr(N))\n",
      "\n",
      "plt.show()"
     ],
     "language": "python",
     "metadata": {},
     "outputs": [
      {
       "metadata": {},
       "output_type": "display_data",
       "png": "[encoded data removed]",
       "text": [
        "<matplotlib.figure.Figure at 0x71f9d30>"
       ]
      }
     ],
     "prompt_number": 99
    },
    {
     "cell_type": "code",
     "collapsed": false,
     "input": [],
     "language": "python",
     "metadata": {},
     "outputs": []
    }
   ],
   "metadata": {}
  }
 ]
}