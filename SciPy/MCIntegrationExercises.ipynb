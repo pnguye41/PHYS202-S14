{
 "metadata": {
  "name": "",
  "signature": "sha256:76d181336c0836bb8e1d45fbb83813ec8890bd069bbb6df33abf061006175f24"
 },
 "nbformat": 3,
 "nbformat_minor": 0,
 "worksheets": [
  {
   "cells": [
    {
     "cell_type": "heading",
     "level": 1,
     "metadata": {},
     "source": [
      "Monte Carlo Integration Exercises"
     ]
    },
    {
     "cell_type": "code",
     "collapsed": false,
     "input": [
      "%pylab inline\n",
      "import numpy as np\n",
      "import matplotlib.pyplot as plt\n",
      "from IPython.html.widgets import interact, interactive"
     ],
     "language": "python",
     "metadata": {},
     "outputs": [
      {
       "output_type": "stream",
       "stream": "stdout",
       "text": [
        "Populating the interactive namespace from numpy and matplotlib\n"
       ]
      }
     ],
     "prompt_number": 1
    },
    {
     "cell_type": "heading",
     "level": 2,
     "metadata": {},
     "source": [
      "Question 1"
     ]
    },
    {
     "cell_type": "markdown",
     "metadata": {},
     "source": [
      "Let\u2019s compute the electric potential from a plane of charge as shown in the figure using Monte Carlo integration.\n",
      "\n",
      "The integral comes from summing all the potentials from the chunks of \u201cpoint\u201d charges. Just as we summed two charges for a dipole, now we\u2019ll sum many charges. The important part is to understand how dQ, modeled as a point charge, is related to \u03c3dA, where \u03c3 is the surface charge density = charge/area (\u03c3=Q/A ) Review your notes from PHYS 133 if you need a refresher.\n",
      "\n",
      "We want to use our previously defined `pointPotential()` function from `Electrostatics.py`, so we have to import it."
     ]
    },
    {
     "cell_type": "code",
     "collapsed": false,
     "input": [
      "#import our point potential function\n",
      "from Electrostatics import *"
     ],
     "language": "python",
     "metadata": {},
     "outputs": [],
     "prompt_number": 2
    },
    {
     "cell_type": "markdown",
     "metadata": {},
     "source": [
      "**(a)** Use the sample mean method to compute the potential at point $P(2,3)$ due to the disk of charge for different numbers of samples $N=(10^1,10^2,103^,10^4,10^5,10^6)$. Report the value and its statistical uncertainty for each sample size. How does the result depend on $N$?\n",
      "\n",
      "Integral we want to compute:\n",
      "\n",
      "\\begin{equation}\n",
      "V = \\int pointPotential(x,y) \\ \\sigma dA = \\int_{-1}^1 \\int_0^2 pointPotential(x,y) \\ \\sigma dydx\n",
      "\\end{equation}"
     ]
    },
    {
     "cell_type": "code",
     "collapsed": false,
     "input": [
      "help(pointPotential)"
     ],
     "language": "python",
     "metadata": {},
     "outputs": [
      {
       "output_type": "stream",
       "stream": "stdout",
       "text": [
        "Help on function pointPotential in module Electrostatics:\n",
        "\n",
        "pointPotential(x, y, q, Xc, Yc)\n",
        "    Return the electric potential for a point charge q at (Xc,Yc)\n",
        "    \n",
        "    Units returned are [Volts] if input units are [meters] and [Coulombs]\n",
        "\n"
       ]
      }
     ],
     "prompt_number": 3
    },
    {
     "cell_type": "code",
     "collapsed": false,
     "input": [
      "xa = -1.; xb = 1. #meters\n",
      "ya = 0.;  yb = 2. #meters\n",
      "Q = 1e-9 #C\n",
      "\n",
      "i = [10,100,1000,10000,100000,1000000]\n",
      "for N in i:\n",
      "    x = (xb-xa)*np.random.random_sample(N)\n",
      "    y = (yb-ya)*np.random.random_sample(N)\n",
      "    \n",
      "    V = (xb-xa)*(yb-ya)*pointPotential(x,y,Q,2,3).mean()\n",
      "    unc = (xb-xa)*(yb-ya)*np.sqrt((pointPotential(x,y,Q,2,3)**2).mean() - (pointPotential(x,y,Q,2,3).mean())**2)\n",
      "\n",
      "    print \"V =\",V,\"+/-\",unc,\"N =\",N"
     ],
     "language": "python",
     "metadata": {},
     "outputs": [
      {
       "output_type": "stream",
       "stream": "stdout",
       "text": [
        "V = 20.1518938419 +/- 5.92331626217 N = 10\n",
        "V = 16.9333691561 +/- 4.94383338613 N = 100\n",
        "V = 16.4854627117 +/- 4.6729519652 N = 1000\n",
        "V = 16.6890214893 +/- 4.89307512973 N = 10000\n",
        "V = 16.7180602452 +/- 4.89760120424 N = 100000\n",
        "V ="
       ]
      },
      {
       "output_type": "stream",
       "stream": "stdout",
       "text": [
        " 16.6989973501 +/- 4.88823662661 N = 1000000\n"
       ]
      }
     ],
     "prompt_number": 4
    },
    {
     "cell_type": "markdown",
     "metadata": {},
     "source": [
      "**(b)** Now use the same method to compute the electric potential, V, at point P(2,3), from a disk centered on the origin with radius, R=1.2 cm, and charge density, \u03c3 = 2 nC/m^2 ."
     ]
    },
    {
     "cell_type": "code",
     "collapsed": false,
     "input": [
      "ra = 0.; rb = 0.12 #meters\n",
      "thetaa = 0.; thetab = 2*np.pi #radians\n",
      "Q = 2e-9*np.pi*(rb**2) #C\n",
      "\n",
      "i = [10,100,1000,10000,100000,1000000]\n",
      "for N in i:\n",
      "    r = (rb-ra)*np.random.random_sample(N)\n",
      "    theta = (thetab-thetaa)*np.random.random_sample(N)\n",
      "    \n",
      "    V = (rb-ra)*(thetab-thetaa)*pointPotential(x,y,Q,2,3).mean()\n",
      "    unc = (rb-ra)*(thetab-thetaa)*np.sqrt((pointPotential(r*np.cos(theta),r*np.sin(theta),Q,2,3)**2).mean() - (pointPotential(r*np.cos(theta),r*np.sin(theta),Q,2,3).mean())**2)\n",
      "\n",
      "    print \"V =\",V,\"+/-\",unc,\"N =\",N"
     ],
     "language": "python",
     "metadata": {},
     "outputs": [
      {
       "output_type": "stream",
       "stream": "stdout",
       "text": [
        "V = 0.284795996095 +/- 0.00226030999548 N = 10\n",
        "V ="
       ]
      },
      {
       "output_type": "stream",
       "stream": "stdout",
       "text": [
        " 0.284795996095 +/- 0.00237072630963 N = 100\n",
        "V ="
       ]
      },
      {
       "output_type": "stream",
       "stream": "stdout",
       "text": [
        " 0.284795996095 +/- 0.00225001458583 N = 1000\n",
        "V ="
       ]
      },
      {
       "output_type": "stream",
       "stream": "stdout",
       "text": [
        " 0.284795996095 +/- 0.00229976290898 N = 10000\n",
        "V ="
       ]
      },
      {
       "output_type": "stream",
       "stream": "stdout",
       "text": [
        " 0.284795996095 +/- 0.00230549499207 N = 100000\n",
        "V ="
       ]
      },
      {
       "output_type": "stream",
       "stream": "stdout",
       "text": [
        " 0.284795996095 +/- 0.00231131502444 N = 1000000\n"
       ]
      }
     ],
     "prompt_number": 5
    },
    {
     "cell_type": "heading",
     "level": 2,
     "metadata": {},
     "source": [
      "Question 2"
     ]
    },
    {
     "cell_type": "markdown",
     "metadata": {},
     "source": [
      "Use the sample mean method to compute the volume of a sphere with radius 1 using spherical coordinates:\n",
      "\\begin{equation}\n",
      "V = \\int_0^1 \\int_0^{\\pi} \\int_0^{2\\pi} r^2 \\sin(\\theta)dr d\\theta d\\phi\n",
      "\\end{equation}\n",
      "for $N = (10^1,10^2,10^3,10^4,10^5,10^6)$. Report value and statistical uncertainty for each sample size. How does the result depend on N?"
     ]
    },
    {
     "cell_type": "code",
     "collapsed": false,
     "input": [
      "ra = 0.;      rb = 1.\n",
      "thethaa = 0.; thetab = np.pi\n",
      "phia = 0.;    phib = 2*np.pi\n",
      "\n",
      "i = [10,100,1000,10000,100000,1000000]\n",
      "Vexact = (4./3.)*np.pi*(rb**3)\n",
      "for N in i:\n",
      "    r = (rb-ra)*np.random.random_sample(N)\n",
      "    theta = (thetab-thetaa)*np.random.random_sample(N)\n",
      "    phi = (phib-phia)*np.random.random_sample(N)\n",
      "    \n",
      "    f = lambda r,theta: (r**2) * np.sin(theta)\n",
      "    approx = f(r,theta)\n",
      "    V = (rb-ra)*(thetab-thetaa)*(phib-phia)*approx.mean()\n",
      "    unc = (rb-ra)*(thetab-thetaa)*(phib-phia)*np.sqrt((approx**2).mean()-(approx.mean())**2)\n",
      "    err = 100.*abs(V-Vexact)/Vexact\n",
      "    print \"V =\",V,\"+/-\",unc,\"N =\",N\n",
      "print \"\\nAnalytical result: V = (4/3)*pi =\",Vexact"
     ],
     "language": "python",
     "metadata": {},
     "outputs": [
      {
       "output_type": "stream",
       "stream": "stdout",
       "text": [
        "V = 3.30656130178 +/- 4.7836516555 N = 10\n",
        "V = 4.6271415628 +/- 4.70976982503 N = 100\n",
        "V = 3.96845626357 +/- 4.45122769985 N = 1000\n",
        "V = 4.20189817325 +/- 4.63248457623 N = 10000\n",
        "V = 4.18856128298 +/- 4.63008895153 N = 100000\n",
        "V ="
       ]
      },
      {
       "output_type": "stream",
       "stream": "stdout",
       "text": [
        " 4.18924778377 +/- 4.62686675014 N = 1000000\n",
        "\n",
        "Analytical result: V = (4/3)*pi = 4.18879020479\n"
       ]
      }
     ],
     "prompt_number": 6
    },
    {
     "cell_type": "heading",
     "level": 2,
     "metadata": {},
     "source": [
      "Question 3"
     ]
    },
    {
     "cell_type": "markdown",
     "metadata": {},
     "source": [
      "**(a)** Use the hit or miss Monte Carlo method to estimate the integral of $f(x)=4\\sqrt{1-x^2}$ in the interval 0 \u2264 x \u2264 1 as a function of N, the number of samples. Let $N$ range from $10^1$ to $10^6$ and use at least 100 different values for $N$.\n",
      "\n",
      "(`np.logspace` might be useful here to get evenly spaced values for N.)"
     ]
    },
    {
     "cell_type": "code",
     "collapsed": false,
     "input": [
      "def integral(N):\n",
      "    x = np.arange(0.,1.,0.001)\n",
      "    f = lambda x: 4*np.sqrt(1-x**2)\n",
      "    \n",
      "    xmin = 0.; xmax = 1.\n",
      "    \n",
      "    subx = x[logical_and((x > xmin),(x < xmax))]\n",
      "    ymax = f(subx).max()*1.05\n",
      "    ymin = 0.\n",
      "    \n",
      "    samples_x = xmin + (xmax-xmin)*np.random.random_sample(N);\n",
      "    samples_y = ymin + (ymax-ymin)*np.random.random_sample(N);\n",
      "    \n",
      "    newmask = (samples_y < f(samples_x))\n",
      "    newmask.sum()\n",
      "    \n",
      "    I = (xmax-xmin)*(ymax-ymin)*newmask.sum()/newmask.size\n",
      "    return I\n",
      "\n",
      "Nrange = np.logspace(1,6,num=100)\n",
      "integrals = []\n",
      "for N in Nrange:\n",
      "    integrals.append(integral(N))\n",
      "    plt.semilogx(N,integral(N),'r.')\n",
      "print integrals\n",
      "plt.title('$\\int_0^1 4 \\sqrt{1-x^2} dx$ Using Different Values for N',fontsize=16)\n",
      "plt.xlabel('N')\n",
      "plt.ylabel('Computed Integral')\n",
      "plt.grid()\n",
      "plt.show()"
     ],
     "language": "python",
     "metadata": {},
     "outputs": [
      {
       "output_type": "stream",
       "stream": "stdout",
       "text": [
        "[2.9399985299996332, 3.4363619181813889, 2.4499987749996941, 2.3999987999997003, 3.6399981799995453, 3.2117630999995987, 3.7799981099995277, 3.6272709136359107, 3.0239984879996222, 2.8499985749996442, 3.3870950806447384, 2.6399986799996706, 2.9399985299996332, 3.1733317466662703, 3.2759983619995912, 3.2421036421048584, 3.2156233921870987, 2.7416652958329908, 2.9555540777774088, 3.5076905538457157, 3.2941159999995886, 3.0947352947364557, 3.3209285720926087, 3.3599983199995807, 3.0333318166662879, 3.4655720377044856, 2.9912180165849924, 3.1818165909086935, 3.14594437297258, 3.2474210567006252, 3.1981635385317104, 3.1929139348769855, 3.0610154186436858, 3.1499984249996063, 3.0391539506714054, 3.1446138123072997, 3.2091308155247136, 3.0576439380239755, 3.2284321207224886, 3.1274662474245023, 3.0487090773635162, 3.1285698642853235, 3.1953049882660656, 3.2462247919807266, 3.1323725345319828, 3.1752253210887651, 3.1739527856459917, 3.192637997588434, 3.1262785573414775, 3.2115974555477051, 3.1033108923899437, 3.1377242547286199, 3.0817199062895182, 3.137177378778556, 3.1610179097447326, 3.155253677627234, 3.1484391742199813, 3.1194590431249409, 3.1347989504291718, 3.1474683057827395, 3.1525445904864555, 3.1375326778078279, 3.1402201593787651, 3.1452316664118714, 3.1475999022136287, 3.1357093659780224, 3.1234852559316559, 3.1496947186930493, 3.1386042795103677, 3.1259988299524557, 3.1551406798911641, 3.1524779877925222, 3.1415328391014166, 3.1459820571644981, 3.1556499911387075, 3.1398507744727904, 3.1418636178201691, 3.1365184637701762, 3.1389158081480204, 3.1312123545564159, 3.1399049440009201, 3.1434574334938161, 3.1364420225582417, 3.1378425754012036, 3.1418508828364278, 3.1433230676721973, 3.1416417790031135, 3.1372775554865346, 3.1424174329409742, 3.1382511798486665, 3.1352226726023442, 3.1369646097022095, 3.1398980377796479, 3.1420026805375603, 3.1395807089838161, 3.1383369470453655, 3.1411397799987575, 3.1405303282499655, 3.1411038927338351, 3.141014629491508]\n"
       ]
      },
      {
       "metadata": {},
       "output_type": "display_data",
       "png": "[encoded data removed]",
       "text": [
        "<matplotlib.figure.Figure at 0x67b8450>"
       ]
      }
     ],
     "prompt_number": 16
    },
    {
     "cell_type": "markdown",
     "metadata": {},
     "source": [
      "**(b)** Calculate the percent error for the N values from part (a) using the exact result \u03c0. Make a log-log plot of the error as a function of N.\n",
      "What is the approximate functional dependence of the error on N for large N, for example N \u2265 104?"
     ]
    },
    {
     "cell_type": "code",
     "collapsed": false,
     "input": [
      "err = lambda integral: 100.*abs(integral - np.pi)/np.pi\n",
      "for N in Nrange:\n",
      "    plt.semilogx(N,err(integral(N)),'b.')\n",
      "    plt.semilogy(N,err(integral(N)),'b.')\n",
      "plt.plot([10**2,10**6],[10**0.6,10**-1.5],'r-')\n",
      "plt.title('Integral Computation Error',fontsize=16)\n",
      "plt.xlabel('N')\n",
      "plt.ylabel('Percent Error')\n",
      "plt.grid()\n",
      "plt.show()"
     ],
     "language": "python",
     "metadata": {},
     "outputs": [
      {
       "metadata": {},
       "output_type": "display_data",
       "png": "[encoded data removed]",
       "text": [
        "<matplotlib.figure.Figure at 0x6a881f0>"
       ]
      }
     ],
     "prompt_number": 76
    },
    {
     "cell_type": "markdown",
     "metadata": {},
     "source": [
      "The relationship between error and N for large N appears to be $\\log(error) \\simeq 10 -1.9 \\log(N)$"
     ]
    },
    {
     "cell_type": "code",
     "collapsed": false,
     "input": [],
     "language": "python",
     "metadata": {},
     "outputs": []
    }
   ],
   "metadata": {}
  }
 ]
}