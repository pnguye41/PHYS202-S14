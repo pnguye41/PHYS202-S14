{
 "metadata": {
  "name": "",
  "signature": "sha256:3ae59870b00c18a7a02689a3b3cd0912fdea41ce263e0a8439be13e1604519f9"
 },
 "nbformat": 3,
 "nbformat_minor": 0,
 "worksheets": [
  {
   "cells": [
    {
     "cell_type": "heading",
     "level": 1,
     "metadata": {},
     "source": [
      "Monte Carlo Integration Exercises"
     ]
    },
    {
     "cell_type": "code",
     "collapsed": false,
     "input": [
      "%pylab inline\n",
      "import numpy as np\n",
      "import matplotlib.pyplot as plt"
     ],
     "language": "python",
     "metadata": {},
     "outputs": [
      {
       "output_type": "stream",
       "stream": "stdout",
       "text": [
        "Populating the interactive namespace from numpy and matplotlib\n"
       ]
      }
     ],
     "prompt_number": 1
    },
    {
     "cell_type": "heading",
     "level": 2,
     "metadata": {},
     "source": [
      "Question 1"
     ]
    },
    {
     "cell_type": "markdown",
     "metadata": {},
     "source": [
      "Let\u2019s compute the electric potential from a plane of charge as shown in the figure using Monte Carlo integration.\n",
      "\n",
      "The integral comes from summing all the potentials from the chunks of \u201cpoint\u201d charges. Just as we summed two charges for a dipole, now we\u2019ll sum many charges. The important part is to understand how dQ, modeled as a point charge, is related to \u03c3dA, where \u03c3 is the surface charge density = charge/area (\u03c3=Q/A ) Review your notes from PHYS 133 if you need a refresher.\n",
      "\n",
      "We want to use our previously defined `pointPotential()` function from `Electrostatics.py`, so we have to import it."
     ]
    },
    {
     "cell_type": "code",
     "collapsed": false,
     "input": [
      "#import our point potential function\n",
      "from Electrostatics import *"
     ],
     "language": "python",
     "metadata": {},
     "outputs": [],
     "prompt_number": 2
    },
    {
     "cell_type": "markdown",
     "metadata": {},
     "source": [
      "**(a)** Use the sample mean method to compute the potential at point $P(2,3)$ due to the disk of charge for different numbers of samples $N=(10^1,10^2,103^,10^4,10^5,10^6)$. Report the value and its statistical uncertainty for each sample size. How does the result depend on $N$?\n",
      "\n",
      "Integral we want to compute:\n",
      "\n",
      "\\begin{equation}\n",
      "V = \\int pointPotential(x,y) \\ \\sigma dA = \\int_{-1}^1 \\int_0^2 pointPotential(x,y) \\ \\sigma dydx\n",
      "\\end{equation}"
     ]
    },
    {
     "cell_type": "code",
     "collapsed": false,
     "input": [
      "help(pointPotential)"
     ],
     "language": "python",
     "metadata": {},
     "outputs": [
      {
       "output_type": "stream",
       "stream": "stdout",
       "text": [
        "Help on function pointPotential in module Electrostatics:\n",
        "\n",
        "pointPotential(x, y, q, Xc, Yc)\n",
        "    Return the electric potential for a point charge q at (Xc,Yc)\n",
        "    \n",
        "    Units returned are [Volts] if input units are [meters] and [Coulombs]\n",
        "\n"
       ]
      }
     ],
     "prompt_number": 3
    },
    {
     "cell_type": "code",
     "collapsed": false,
     "input": [
      "xa = -1.; xb = 1. #meters\n",
      "ya = 0.;  yb = 2. #meters\n",
      "Q = 1e-9 #C\n",
      "\n",
      "i = [10,100,1000,10000,100000,1000000]\n",
      "for N in i:\n",
      "    x = (xb-xa)*np.random.random_sample(N)\n",
      "    y = (yb-ya)*np.random.random_sample(N)\n",
      "    \n",
      "    V = (xb-xa)*(yb-ya)*pointPotential(x,y,Q,2,3).mean()\n",
      "    unc = (xb-xa)*(yb-ya)*np.sqrt((pointPotential(x,y,Q,2,3)**2).mean() - (pointPotential(x,y,Q,2,3).mean())**2)\n",
      "\n",
      "    print \"V =\",V,\"+/-\",unc,\"N =\",N"
     ],
     "language": "python",
     "metadata": {},
     "outputs": [
      {
       "output_type": "stream",
       "stream": "stdout",
       "text": [
        "V = 16.4386342095 +/- 3.5819852272 N = 10\n",
        "V = 16.2822207599 +/- 4.65169578812 N = 100\n",
        "V = 16.9874301518 +/- 5.05672647265 N = 1000\n",
        "V = 16.855351883 +/- 4.99488643584 N = 10000\n",
        "V = 16.7057293868 +/- 4.88645470653 N = 100000\n",
        "V ="
       ]
      },
      {
       "output_type": "stream",
       "stream": "stdout",
       "text": [
        " 16.7143647565 +/- 4.89584584979 N = 1000000\n"
       ]
      }
     ],
     "prompt_number": 4
    },
    {
     "cell_type": "markdown",
     "metadata": {},
     "source": [
      "**(b)** Now use the same method to compute the electric potential, V, at point P(2,3), from a disk centered on the origin with radius, R=1.2 cm, and charge density, \u03c3 = 2 nC/m^2 ."
     ]
    },
    {
     "cell_type": "code",
     "collapsed": false,
     "input": [
      "ra = 0.; rb = 0.12 #meters\n",
      "thetaa = 0.; thetab = 2*np.pi #radians\n",
      "Q = 2e-9*np.pi*(rb**2) #C\n",
      "\n",
      "i = [10,100,1000,10000,100000,1000000]\n",
      "for N in i:\n",
      "    r = (rb-ra)*np.random.random_sample(N)\n",
      "    theta = (thetab-thetaa)*np.random.random_sample(N)\n",
      "    \n",
      "    V = (rb-ra)*(thetab-thetaa)*pointPotential(x,y,Q,2,3).mean()\n",
      "    unc = (rb-ra)*(thetab-thetaa)*np.sqrt((pointPotential(r*np.cos(theta),r*np.sin(theta),Q,2,3)**2).mean() - (pointPotential(r*np.cos(theta),r*np.sin(theta),Q,2,3).mean())**2)\n",
      "\n",
      "    print \"V =\",V,\"+/-\",unc,\"N =\",N"
     ],
     "language": "python",
     "metadata": {},
     "outputs": [
      {
       "output_type": "stream",
       "stream": "stdout",
       "text": [
        "V = 0.285058082238 +/- 0.00188069634524 N = 10\n",
        "V = 0.285058082238 +/- 0.0024048868979 N = 100\n",
        "V ="
       ]
      },
      {
       "output_type": "stream",
       "stream": "stdout",
       "text": [
        " 0.285058082238 +/- 0.00229440969629 N = 1000\n",
        "V = 0.285058082238 +/- 0.00232108582149 N = 10000\n",
        "V ="
       ]
      },
      {
       "output_type": "stream",
       "stream": "stdout",
       "text": [
        " 0.285058082238 +/- 0.00230001499312 N = 100000\n",
        "V ="
       ]
      },
      {
       "output_type": "stream",
       "stream": "stdout",
       "text": [
        " 0.285058082238 +/- 0.00231028785067 N = 1000000\n"
       ]
      }
     ],
     "prompt_number": 5
    },
    {
     "cell_type": "heading",
     "level": 2,
     "metadata": {},
     "source": [
      "Question 2"
     ]
    },
    {
     "cell_type": "markdown",
     "metadata": {},
     "source": [
      "Use the sample mean method to compute the volume of a sphere with radius 1 using spherical coordinates:\n",
      "\\begin{equation}\n",
      "V = \\int_0^1 \\int_0^{\\pi} \\int_0^{2\\pi} r^2 \\sin(\\theta)dr d\\theta d\\phi\n",
      "\\end{equation}\n",
      "for $N = (10^1,10^2,10^3,10^4,10^5,10^6)$. Report value and statistical uncertainty for each sample size. How does the result depend on N?"
     ]
    },
    {
     "cell_type": "code",
     "collapsed": false,
     "input": [
      "ra = 0.;      rb = 1.\n",
      "thethaa = 0.; thetab = np.pi\n",
      "phia = 0.;    phib = 2*np.pi\n",
      "\n",
      "i = [10,100,1000,10000,100000,1000000]\n",
      "Vexact = (4./3.)*np.pi*(rb**3)\n",
      "for N in i:\n",
      "    r = (rb-ra)*np.random.random_sample(N)\n",
      "    theta = (thetab-thetaa)*np.random.random_sample(N)\n",
      "    phi = (phib-phia)*np.random.random_sample(N)\n",
      "    \n",
      "    f = lambda r,theta: (r**2) * np.sin(theta)\n",
      "    approx = f(r,theta)\n",
      "    V = (rb-ra)*(thetab-thetaa)*(phib-phia)*approx.mean()\n",
      "    unc = (rb-ra)*(thetab-thetaa)*(phib-phia)*np.sqrt((approx**2).mean()-(approx.mean())**2)\n",
      "    err = 100.*abs(V-Vexact)/Vexact\n",
      "    print \"V =\",V,\"+/-\",unc,\"N =\",N\n",
      "print \"\\nAnalytical result: V = (4/3)*pi =\",Vexact"
     ],
     "language": "python",
     "metadata": {},
     "outputs": [
      {
       "output_type": "stream",
       "stream": "stdout",
       "text": [
        "V = 3.90250319833 +/- 3.71216466151 N = 10\n",
        "V = 4.48184653073 +/- 4.26875712754 N = 100\n",
        "V = 4.13095181743 +/- 4.46985351775 N = 1000\n",
        "V = 4.14498376665 +/- 4.63468556554 N = 10000\n",
        "V = 4.22697675613 +/- 4.65767247963 N = 100000\n",
        "V ="
       ]
      },
      {
       "output_type": "stream",
       "stream": "stdout",
       "text": [
        " 4.19932796313 +/- 4.63566315013 N = 1000000\n",
        "\n",
        "Analytical result: V = (4/3)*pi = 4.18879020479\n"
       ]
      }
     ],
     "prompt_number": 6
    },
    {
     "cell_type": "heading",
     "level": 2,
     "metadata": {},
     "source": [
      "Question 3"
     ]
    },
    {
     "cell_type": "markdown",
     "metadata": {},
     "source": [
      "**(a)** Use the hit or miss Monte Carlo method to estimate the integral of $f(x)=4\\sqrt{1-x^2}$ in the interval 0 \u2264 x \u2264 1 as a function of N, the number of samples. Let $N$ range from $10^1$ to $10^6$ and use at least 100 different values for $N$.\n",
      "\n",
      "(`np.logspace` might be useful here to get evenly spaced values for N.)"
     ]
    },
    {
     "cell_type": "code",
     "collapsed": false,
     "input": [
      "def integral(N):\n",
      "    x = np.arange(0.,1.,0.001)\n",
      "    f = lambda x: 4*np.sqrt(1-x**2)\n",
      "    \n",
      "    xmin = 0.; xmax = 1.\n",
      "    \n",
      "    subx = x[logical_and((x > xmin),(x < xmax))]\n",
      "    ymax = f(subx).max()*1.05\n",
      "    ymin = 0.\n",
      "    \n",
      "    samples_x = xmin + (xmax-xmin)*np.random.random_sample(N);\n",
      "    samples_y = ymin + (ymax-ymin)*np.random.random_sample(N);\n",
      "    \n",
      "    newmask = (samples_y < f(samples_x))\n",
      "    newmask.sum()\n",
      "    \n",
      "    I = (xmax-xmin)*(ymax-ymin)*newmask.sum()/newmask.size\n",
      "    return I\n",
      "Nrange = np.logspace(1,6,num=100)\n",
      "Nintegral = []\n",
      "for N in Nrange:\n",
      "    Nintegral.append(integral(N))\n",
      "print Nintegral"
     ],
     "language": "python",
     "metadata": {},
     "outputs": [
      {
       "output_type": "stream",
       "stream": "stdout",
       "text": [
        "[2.9399985299996332, 3.4363619181813889, 3.1499984249996067, 3.8999980499995131, 2.5199987399996853, 2.717645699999661, 2.7299986349996592, 2.8636349318178245, 3.3599983199995802, 2.999998499999625, 2.8451598677415806, 3.1199984399996104, 2.9399985299996332, 2.7999985999996504, 3.0239984879996222, 2.7999985999996504, 3.3468733265620823, 3.3249983374995846, 3.0592577296292478, 3.3692290846149642, 3.1294101999996089, 3.389471989473261, 3.0604635860461293, 2.9255157786203241, 3.0592577296292478, 2.8459002163930869, 3.1141447843898549, 2.8727258363632777, 3.1783767891887926, 3.1175242144326001, 3.0697232357794331, 3.0098077594001693, 3.203388228813159, 3.2133604622840815, 3.1036452811896318, 3.1302548451278143, 3.1388112159813431, 3.0746939971579383, 3.1424080673490056, 3.136479118454544, 3.2131789091686533, 3.1678555589281761, 3.1444344610896908, 3.1245267396222509, 3.0719409100715587, 3.1303775058191499, 3.159979408602267, 3.1553283715732099, 3.1705556436366527, 3.0806555163254616, 3.1145911016110706, 3.1176392488306415, 3.1701095523287597, 3.14601947962066, 3.1531468492124994, 3.11881725940902, 3.134094067047426, 3.1422247641587826, 3.149133414251696, 3.1518685131164212, 3.1431433640734747, 3.1528751358900173, 3.1454973186027115, 3.1388759882948909, 3.1345617783513924, 3.1422790482867966, 3.1355721418302807, 3.15351274083263, 3.1413852234941819, 3.1321878372712049, 3.1513452060426337, 3.1561837080105053, 3.1315390815367907, 3.1309530678460282, 3.1488065981267348, 3.140945967784285, 3.1468602784097861, 3.1355962933842596, 3.1379500027579041, 3.1399820533445415, 3.1484389582671084, 3.1433211628374451, 3.1443575058629314, 3.138949493410164, 3.1454319559405977, 3.1417398098445419, 3.1399847346687655, 3.1439071589248702, 3.1453154926229203, 3.142994419812386, 3.1412394331413633, 3.1408300304154082, 3.1458511519740484, 3.136838146911415, 3.141203371078217, 3.1439745819789429, 3.1392108814905075, 3.1432332274060344, 3.141962561277726, 3.1400192299892078]\n"
       ]
      }
     ],
     "prompt_number": 26
    },
    {
     "cell_type": "markdown",
     "metadata": {},
     "source": [
      "**(b)** Calculate the percent error for the N values from part (a) using the exact result \u03c0. Make a log-log plot of the error as a function of N.\n",
      "What is the approximate functional dependence of the error on N for large N, for example N \u2265 104?"
     ]
    },
    {
     "cell_type": "code",
     "collapsed": false,
     "input": [],
     "language": "python",
     "metadata": {},
     "outputs": []
    }
   ],
   "metadata": {}
  }
 ]
}