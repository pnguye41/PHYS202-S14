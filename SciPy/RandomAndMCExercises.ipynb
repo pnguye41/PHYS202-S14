{
 "metadata": {
  "name": "",
  "signature": "sha256:0c7790721621595914fd705271cda0e8d0bc93e8aaaf91ab9ce7db4491a67050"
 },
 "nbformat": 3,
 "nbformat_minor": 0,
 "worksheets": [
  {
   "cells": [
    {
     "cell_type": "heading",
     "level": 1,
     "metadata": {},
     "source": [
      "Random Numbers, Monte Carlo Sampling and Simulation Exercises"
     ]
    },
    {
     "cell_type": "code",
     "collapsed": false,
     "input": [
      "%pylab inline\n",
      "import numpy as np\n",
      "import matplotlib.pyplot as plt\n",
      "from IPython.html.widgets import interact,interactive"
     ],
     "language": "python",
     "metadata": {},
     "outputs": [
      {
       "output_type": "stream",
       "stream": "stdout",
       "text": [
        "Populating the interactive namespace from numpy and matplotlib\n"
       ]
      }
     ],
     "prompt_number": 4
    },
    {
     "cell_type": "heading",
     "level": 2,
     "metadata": {},
     "source": [
      "Question 1"
     ]
    },
    {
     "cell_type": "markdown",
     "metadata": {},
     "source": [
      "The Weibull distribution, with $\\alpha > 0$ and $\\beta > 0$ is decribed by the density function\n",
      "\n",
      "\\begin{equation}\n",
      "f(x) = \\left\\{\n",
      "\\begin{array}\\\\\n",
      "\\alpha \\beta ^{-\\alpha } x^{\\alpha - 1} e^{-(x/\\beta )^{\\alpha}} & x > 0\\\\\n",
      "0 & otherwise\n",
      "\\end{array}\n",
      "\\right.\n",
      "\\end{equation}"
     ]
    },
    {
     "cell_type": "markdown",
     "metadata": {},
     "source": [
      "**(a)** Solve for the CDF of the Weibull distribution analyticaly, using\n",
      "\n",
      "\\begin{equation}\n",
      "F(x) = \\int_{-\\infty}^x f(t) dt\n",
      "\\end{equation}"
     ]
    },
    {
     "cell_type": "markdown",
     "metadata": {},
     "source": [
      "Substituting $u = t^{\\alpha}$ and $\\frac{du}{dt} = \\alpha t^{\\alpha -1}$, $du = \\alpha t^{\\alpha -1} dt$:\n",
      "\n",
      "\\begin{equation}\n",
      "F(x) = \\int_{-\\infty}^0 f(t) dt + \\int_0^x f(t) dt = \\int_{-\\infty}^0 0 dt + \\int_0^x \\alpha \\beta ^{-\\alpha } x^{\\alpha - 1} e^{-(x/\\beta )^{\\alpha}} dt\\\\\n",
      "F(x) = \\int_0^{x^\\alpha} \\beta ^{-\\alpha } e^{-u\\beta^{-\\alpha}} du = -\\left[e^{-u\\beta^{-\\alpha}}\\right]_0^{x^\\alpha} = -\\left[e^{-x^{\\alpha}\\beta^{-\\alpha}} - 1\\right]\\\\\n",
      "F(x) = \\left\\{\n",
      "\\begin{array}\\\\\n",
      "1 - e^{-(x/\\beta)^{\\alpha}} & x > 0\\\\\n",
      "0 & otherwise\n",
      "\\end{array}\n",
      "\\right.\n",
      "\\end{equation}"
     ]
    },
    {
     "cell_type": "markdown",
     "metadata": {},
     "source": [
      "**(b)** Find the inverse of the CDF $F^{-1}(x)$ analytically."
     ]
    },
    {
     "cell_type": "markdown",
     "metadata": {},
     "source": [
      "\\begin{equation}\n",
      "e^{-x^\\alpha\\beta^{-\\alpha}} = 1 - z\\\\\n",
      "-x^\\alpha\\beta^{-\\alpha} = \\ln(1-z)\\\\\n",
      "x^\\alpha = -\\beta^\\alpha \\ln(1-z)\\\\\n",
      "\\alpha \\ln(x) = \\ln (-\\beta^\\alpha \\ln(1-z))\\\\\n",
      "\\ln(x) = \\frac{1}{\\alpha}\\ln (-\\beta^\\alpha \\ln(1-z))\\\\\n",
      "x_i = F^{-1}(z_i) = exp\\left[\\frac{1}{\\alpha}\\ln (-\\beta^\\alpha \\ln[1-z_i])\\right]\n",
      "\\end{equation}"
     ]
    },
    {
     "cell_type": "markdown",
     "metadata": {},
     "source": [
      "**(c)** Write a program to generate 10,000 samples from the Weibull distribution and plot the true distribution, the CDF and the sampled distribution as a histogram, all on the same graph. Let $\\alpha=1.5,\\beta=6$."
     ]
    },
    {
     "cell_type": "code",
     "collapsed": false,
     "input": [
      "alpha = 1.5\n",
      "beta = 6.\n",
      "N = 10000.\n",
      "\n",
      "z = np.random.random_sample(N);\n",
      "\n",
      "x = np.linspace(0.,30.,N)\n",
      "f = lambda x: alpha * (beta**(-alpha)) * (x**(alpha-1.)) * np.exp(-(x/beta)**alpha)\n",
      "F = lambda x: 1. - (np.exp(-(x/beta)**(alpha)))\n",
      "Finv = lambda z: np.exp((1./alpha) * np.log(-(beta**alpha) * np.log(1-z)))\n",
      "\n",
      "xsamples = Finv(z);\n",
      "\n",
      "\n",
      "plt.figure(figsize=(11,7))\n",
      "plt.hist(xsamples,50,normed=True,label=\"Sampled distribution\")\n",
      "plt.plot(x,f(x),label='True distribution',lw=3,color='red')\n",
      "plt.plot(x,F(x),label='Cumulative function',lw=3)\n",
      "plt.title(\"Weibull Distribution\",fontsize=16)\n",
      "plt.legend(loc=0)\n",
      "plt.show()"
     ],
     "language": "python",
     "metadata": {},
     "outputs": [
      {
       "metadata": {},
       "output_type": "display_data",
       "png": "[encoded data removed]",
       "text": [
        "<matplotlib.figure.Figure at 0x6c2c810>"
       ]
      }
     ],
     "prompt_number": 168
    },
    {
     "cell_type": "markdown",
     "metadata": {},
     "source": [
      "**(d)** Run the four statistical tests of randomness (mean, variance, chi-square, K-S) on your results from question 1(c). Does it pass all of them?"
     ]
    },
    {
     "cell_type": "code",
     "collapsed": false,
     "input": [
      "print \"MEAN TEST\"\n",
      "meanx = []\n",
      "meanx.append(Finv(z))\n",
      "m = (1./N) * sum(meanx)\n",
      "print m\n",
      "\n",
      "print \"\\nVARIANCE TEST\"\n",
      "varx = []\n",
      "varx.append((Finv(z) - m)**2)\n",
      "sigma_squared = (1./(N-1.)) * sum(varx)\n",
      "print sigma_squared\n",
      "\n",
      "print \"\\nCHI-SQUARE TEST\"\n",
      "bucket = []\n",
      "bucket.append(((Finv(z) - m)**2) / m)\n",
      "chi_squared = sum(bucket)\n",
      "print chi_squared\n",
      "\n",
      "print \"\\nKOLMOGOROV-SMIRNOV TEST\"\n",
      "Kplus = np.sqrt(N) * max(F(Finv(z)) - F(x))\n",
      "Kminus = np.sqrt(N) * max(F(x) - F(Finv(z)))\n",
      "print Kplus\n",
      "print Kminus"
     ],
     "language": "python",
     "metadata": {},
     "outputs": [
      {
       "output_type": "stream",
       "stream": "stdout",
       "text": [
        "MEAN TEST\n",
        "5.39631827395\n",
        "\n",
        "VARIANCE TEST\n",
        "13.5493101704\n",
        "\n",
        "CHI-SQUARE TEST\n",
        "25105.9232455\n",
        "\n",
        "KOLMOGOROV-SMIRNOV TEST\n",
        "98.9200585434\n",
        "99.9780280978\n"
       ]
      }
     ],
     "prompt_number": 171
    },
    {
     "cell_type": "code",
     "collapsed": false,
     "input": [],
     "language": "python",
     "metadata": {},
     "outputs": []
    }
   ],
   "metadata": {}
  }
 ]
}