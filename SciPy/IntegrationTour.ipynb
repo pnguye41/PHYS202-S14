{
 "metadata": {
  "name": "",
  "signature": "sha256:83978d78c5fc77e75fe3612c9fa73d1f7d37c494b77870c4c1dcd5426f712a0b"
 },
 "nbformat": 3,
 "nbformat_minor": 0,
 "worksheets": [
  {
   "cells": [
    {
     "cell_type": "heading",
     "level": 1,
     "metadata": {},
     "source": [
      "Integration Tour"
     ]
    },
    {
     "cell_type": "code",
     "collapsed": false,
     "input": [
      "%pylab inline\n",
      "import numpy as np\n",
      "import matplotlib.pyplot as plt"
     ],
     "language": "python",
     "metadata": {},
     "outputs": [
      {
       "output_type": "stream",
       "stream": "stdout",
       "text": [
        "Populating the interactive namespace from numpy and matplotlib\n"
       ]
      }
     ],
     "prompt_number": 2
    },
    {
     "cell_type": "heading",
     "level": 2,
     "metadata": {},
     "source": [
      "Introduction"
     ]
    },
    {
     "cell_type": "markdown",
     "metadata": {},
     "source": [
      "We often calculate integrals in physics (electromagnetism, thermodynamics, quantum mechanics, etc.). In calculus, you learned how to evaluate integrals analytically. Some functions are too difficult to integrate analytically and for these we need to use the computer to integrate numerically. A numerical integral goes back to the basic principles of calculus. Given a function $f(x)$, we need to find the area under the curve between two limits, $a$ and $b$:\n",
      "\n",
      "\\begin{equation}\n",
      "I(a,b)=\\int_a^bf(x)dx\n",
      "\\end{equation}\n",
      "\n",
      "There is no known way to calculate such an area exactly in all cases on a computer, but we can do it approximately by dividing up the area into rectangular slices and adding them all together. Unfortunately, this is a poor approximation, since the rectangles under and overshoot the function."
     ]
    },
    {
     "cell_type": "heading",
     "level": 2,
     "metadata": {},
     "source": [
      "Trapezoid Rule"
     ]
    },
    {
     "cell_type": "markdown",
     "metadata": {},
     "source": [
      "A better approach, which involves very little extra work, is to divide the area into trapezoids rather than rectangles. The area under the trapezoids is a considerably better approximation to the area under the curve, and this approach, though simple, often gives perfectly adequate results.\n",
      "\n",
      "We can improve the approximation by making the size of the trapezoids smaller. Suppose we divide the interval from $a$ to $b$ into $N$ slices or steps, so that each slice has width $h=(b\u2212a)/N$. Then the right-hand side of the $k$th slice falls at $a+kh$, and the left-hand side falls at $a+kh\u2212h = a+(k\u22121)h$. Thus the area of the trapezoid for this slice is\n",
      "\n",
      "\\begin{equation}\n",
      "A_k = \\frac{1}{2}h[f(a+(k-1)h)+f(a+kh)]\n",
      "\\end{equation}\n",
      "\n",
      "This is the trapezoidal rule. It gives us a trapezoidal approximation to the area under one slice of our function.\n",
      "Now our approximation for the area under the whole curve is the sum of the areas of the trapezoids for all $N$ slices\n",
      "\n",
      "\\begin{equation}\n",
      "I(a,b)\\simeq\\sum_{k}=1^NA_k=\\frac{1}{2}h\\sum_{k=1}^N[f(a+(k-1)h)+f(a+kh)]=h\\left[\\frac{1}{2}f(a)+\\frac{1}{2}f(b)+\\sum_{k=1}^{N-1}f(a+kh)\\right]\n",
      "\\end{equation}\n",
      "\n",
      "Note the structure of the formula: the quantity inside the square brackets is a sum over values of $f(x)$ measured at equally spaced points in the integration domain, and we take a half of the values at the start and end points but one times the value at all the interior points."
     ]
    },
    {
     "cell_type": "heading",
     "level": 3,
     "metadata": {},
     "source": [
      "Applying the Trapezoid Rule"
     ]
    },
    {
     "cell_type": "markdown",
     "metadata": {},
     "source": [
      "Use the trapezoidal rule to calculate the integral of $x4\u22122x+1$ from $x = 0$ to $x = 2$.\n",
      "This is an integral we can do by hand, so we can check our work. To define the function, let's use a lambda expression (you learned about these in the advanced python section of CodeCademy). It's basically just a way of defining a function of some variables in one line. For this case, it is just a function of x:"
     ]
    },
    {
     "cell_type": "code",
     "collapsed": false,
     "input": [
      "func = lambda x: x**4 - 2*x + 1"
     ],
     "language": "python",
     "metadata": {},
     "outputs": [],
     "prompt_number": 3
    },
    {
     "cell_type": "code",
     "collapsed": false,
     "input": [
      "N = 10\n",
      "a = 0.0\n",
      "b = 2.0\n",
      "h = (b-a)/N\n",
      "\n",
      "k = np.arange(1,N)\n",
      "I = h*(0.5*func(a) + 0.5*func(b) + func(a+k*h).sum())\n",
      "\n",
      "print \"Trapezoidal Rule Integral =\", I"
     ],
     "language": "python",
     "metadata": {},
     "outputs": [
      {
       "output_type": "stream",
       "stream": "stdout",
       "text": [
        "Trapezoidal Rule Integral = 4.50656\n"
       ]
      }
     ],
     "prompt_number": 5
    },
    {
     "cell_type": "markdown",
     "metadata": {},
     "source": [
      "The correct answer is\n",
      "\n",
      "\\begin{equation}\n",
      "I(0,2)=\\int_0^2(x^4\u22122x+1)dx=\\left[15x^5\u2212x^2+x\\right]^2_0=4.4\n",
      "\\end{equation}\n",
      "\n",
      "So our result is off by about 2%."
     ]
    },
    {
     "cell_type": "heading",
     "level": 2,
     "metadata": {},
     "source": [
      "Simpson's Rule"
     ]
    },
    {
     "cell_type": "markdown",
     "metadata": {},
     "source": [
      "The trapezoidal rule estimates the area under a curve by approximating the curve with straight-line segments. We can often get a better result if we approximate the function instead with curves of some kind. Simpson's rule uses quadratic curves. In order to specify a quadratic completely one needs three points, not just two as with a straight line. So in this method we take a pair of adjacent slices and fit a quadratic through the three points that mark the boundaries of those slices.\n",
      "\n",
      "Given a function $f(x)$ and spacing between adjacent points $h$, if we fit a quadratic curve $ax^2+bx+c$ through the points $x=-h,0,+h$, we get\n",
      "\n",
      "$f(-h)=ah^2-bh+c,\\:\\:\\:\\:f(0)=c,\\:\\:\\:\\:f(h)=ah^2+bh+c$\n",
      "\n",
      "Solving for $a,b,$ and $c$ gives:\n",
      "\n",
      "\\begin{equation}\n",
      "a=\\frac{1}{h^2}\\left[\\frac{1}{2}f(-h)-f(0)+\\frac{1}{2}f(h)\\right],\\:\\:\\:\\:b=\\frac{1}{2h}[f(h)-f(-h)],\\:\\:\\:\\:c=f(0)\n",
      "\\end{equation}\n",
      "\n",
      "and the area under the curve of $f(x)$ from $-h$ to $+h$ is given approx. by the area under the quadratic:\n",
      "\n",
      "\\begin{equation}\n",
      "I(-h,h)\\simeq\\int_{-h}^h(ax^2+bx+c)dx=\\frac{2}{3}ah^3+2ch=\\frac{1}{3}h[f(-h)+4f(0)+f(h)]\n",
      "\\end{equation}\n",
      "\n",
      "This is Simpson\u2019s rule. It gives us an approximation to the area under two adjacent slices of our function. Note that the final formula for the area involves only h and the value of the function at evenly spaced points, just as with the trapezoidal rule. So to use Simpson\u2019s rule we don\u2019t actually have to worry about the details of fitting a quadratic\u2014we just plug numbers into this formula and it gives us an answer. This makes Simpson\u2019s rule almost as simple to use as the trapezoidal rule, and yet Simpson\u2019s rule often gives much more accurate answers.\n",
      "\n",
      "Applying Simpson\u2019s rule involves dividing the domain of integration into many slices and using the rule to separately estimate the area under successive pairs of slices, then adding the estimates for all pairs to get the final answer.\n",
      "\n",
      "If we are integrating from x=a to x=b in slices of width h then Simpson\u2019s rule gives the area under the k th pair, approximately, as\n",
      "\n",
      "$A_k=\\frac{1}{3}h[f(a+(2k-2)h)+4f(a+(2k-1)h)+f(a+2kh)]$\n",
      "\n",
      "With N slices in total, there are N/2 pairs of slices, and the approximate value of the entire integral is given by the sum\n",
      "\n",
      "\\begin{equation}\n",
      "I(a,b)\\simeq\\sum_{k=1}^{N/2}A_k=\\frac{1}{3}h\\left[f(a)+f(b)+4\\sum_{k=1}^{N/2}f(a+(2k-1)h)+2\\sum_{k=1}^{N/2-1}f(a+2kh)\\right]\n",
      "\\end{equation}"
     ]
    },
    {
     "cell_type": "heading",
     "level": 3,
     "metadata": {},
     "source": [
      "Applying Simpson's Rule"
     ]
    },
    {
     "cell_type": "markdown",
     "metadata": {},
     "source": [
      "Now let's code Simpson's rule to compute the integral of the same function from before, $\\int_0^2(x^4-2x+1)dx$."
     ]
    },
    {
     "cell_type": "code",
     "collapsed": false,
     "input": [
      "N = 10\n",
      "a = 0.0\n",
      "b = 2.0\n",
      "h = (b-a)/N\n",
      "\n",
      "k1 = np.arange(1,N/2+1)\n",
      "k2 = np.arange(1,N/2)\n",
      "I = (1./3.)*h*(func(a)+func(b) + 4.*func(a+(2*k1-1)*h).sum() + 2.*func(a+2*k2*h).sum())\n",
      "\n",
      "print \"Sumpson's rule Integral =\",I"
     ],
     "language": "python",
     "metadata": {},
     "outputs": [
      {
       "output_type": "stream",
       "stream": "stdout",
       "text": [
        "Sumpson's rule Integral = 4.40042666667\n"
       ]
      }
     ],
     "prompt_number": 8
    },
    {
     "cell_type": "heading",
     "level": 2,
     "metadata": {},
     "source": [
      "Adaptive methods and higher order approximations"
     ]
    },
    {
     "cell_type": "markdown",
     "metadata": {},
     "source": [
      "In some cases, particularly for integrands that are rapidly varying, a very large nubmer of steps may be needed to achieve the desired accuracy, which means the calculation can become slow.\n",
      "\n",
      "So how do we choose the number N of steps for our integrals? In our example calculations we just chose round numbers and looked to see if the results seemed reasonable. A more common situation is that we want to calculate the value of an integral to a given accuracy, such as four decimal places, and we would like to know how many steps will be needed. So long as the desired accuracy does not exceed the fundamental limit set by the machine precision of our computer -- the rounding error that limits all calculations -- then it should always be possible to meet our goal by using a large enough number of steps. At the same time, we want to avoid using more steps than are necessary, since more steps take more time and our calculation will be slower.\n",
      "\n",
      "Ideally we would like an N that gives us the accuracy we want and no more. A simple way to achieve this is to start with a small value of N and repeatedly double it until we achieve the accuracy we want. This method is an example of an adaptive integration method, one that changes its own parameters to get a desired answer.\n",
      "The trapezoidal rule is based on approximating an integrand f(x) with straight-line segments, while Simpson\u2019s rule uses quadratics. We can create higher-order (and hence potentially more accurate) rules by using higher-order polynomials, fitting f(x) with cubics, quartics, and so forth. The general form of the trapezoidal and Simpson rules is\n",
      "\n",
      "\\begin{equation}\n",
      "\\int_a^bf(x)dx\\simeq\\sum_{k=1}{N}w_kf(x_k)\n",
      "\\end{equation}\n",
      "\n",
      "where the $x_k$ are the positions of the sample points at which we calculate the integrand and the $w_k$ are some set of weights. In the trapezoidal rule, the first and last weights are 12 and the others are all 1, while in Simpson\u2019s rule the weights are 13 for the first and last slices and alternate between 43 and 23 for the other slices. For higher-order rules the basic form is the same: after fitting to the appropriate polynomial and integrating we end up with a set of weights that multiply the values $f(x_k)$ of the integrand at evenly spaced sample points."
     ]
    },
    {
     "cell_type": "heading",
     "level": 2,
     "metadata": {},
     "source": [
      "scipy.integrate"
     ]
    },
    {
     "cell_type": "markdown",
     "metadata": {},
     "source": [
      "It's time to look at scipy's built-in functions for integrating functions numerically."
     ]
    },
    {
     "cell_type": "code",
     "collapsed": false,
     "input": [
      "import scipy.integrate as integrate"
     ],
     "language": "python",
     "metadata": {},
     "outputs": [],
     "prompt_number": 10
    },
    {
     "cell_type": "markdown",
     "metadata": {},
     "source": [
      "An overview of the module is provided by the help command, but it produces a lot of output. Here's a quick summary:\n",
      "\n",
      "**Methods for Integrating Functions given function object.**\n",
      "\n",
      "quad------- General purpose integration.\n",
      "\n",
      "dblquad------- General purpose double integration.\n",
      "\n",
      "tplquad------- General purpose triple integration.\n",
      "\n",
      "fixed_quad------- Integrate func(x) using Gaussian quadrature of order n.\n",
      "\n",
      "quadrature------- Integrate with given tolerance using Gaussian quadrature.\n",
      "\n",
      "romberg------- Integrate func using Romberg integration.\n",
      "\n",
      "**Methods for Integrating Functions given fixed samples.**\n",
      "\n",
      "trapz------- Use trapezoidal rule to compute integral from samples.\n",
      "\n",
      "cumtrapz------- Use trapezoidal rule to cumulatively compute integral.\n",
      "\n",
      "simps------- Use Simpson's rule to compute integral from samples.\n",
      "\n",
      "romb------- Use Romberg Integration to compute integral from (2^k + 1) evenly-spaced samples.\n",
      "\n",
      "See the *special* module's orthogonal polynomials (scipy.special) for Gaussian quadrature roots and weights for other weighting factors and regions.\n",
      "\n",
      "**Interface to numerical integrators of ODE systems.**\n",
      "\n",
      "odeint------- General integration of ordinary differential equations.\n",
      "\n",
      "ode------- Integrate ODE using VODE and ZVODE routines."
     ]
    },
    {
     "cell_type": "heading",
     "level": 3,
     "metadata": {},
     "source": [
      "General Integration (quad)"
     ]
    },
    {
     "cell_type": "markdown",
     "metadata": {},
     "source": [
      "The scipy fuction quad is provided to integrate a function of one variable between two points. The points can be $\\pm\\inf$ ($\\pm$ np.infty) to indicate infinite limits. For example, suppose you wish to integrate this:\n",
      "\n",
      "\\begin{equation}\n",
      "I=\\int_0^{2\\pi}e^{-x}sin(x)dx\n",
      "\\end{equation}\n",
      "This could be done with quad as:"
     ]
    },
    {
     "cell_type": "code",
     "collapsed": false,
     "input": [
      "fun = lambda x : np.exp(-x)*np.sin(x)\n",
      "\n",
      "result,error = integrate.quad(fun,0,2*np.pi)\n",
      "\n",
      "print result,error"
     ],
     "language": "python",
     "metadata": {},
     "outputs": [
      {
       "output_type": "stream",
       "stream": "stdout",
       "text": [
        "0.499066278634 6.02373163193e-15\n"
       ]
      }
     ],
     "prompt_number": 11
    },
    {
     "cell_type": "markdown",
     "metadata": {},
     "source": [
      "The first argument to quad is a \u201ccallable\u201d Python object (i.e a function, method, or class instance). Notice that we used a lambda function in this case as the argument. The next two arguments are the limits of integration. The return value is a tuple, with the first element holding the estimated value of the integral and the second element holding an upper bound on the error. The analytic solution to the integral is $\\frac{1}{2}-e^{-2\\pi}\\simeq0.499066$ so that is pretty good.\n",
      "\n",
      "Here it is again, from 0 to infinity:"
     ]
    },
    {
     "cell_type": "code",
     "collapsed": false,
     "input": [
      "I = integrate.quad(fun,0,np.infty)\n",
      "\n",
      "print I"
     ],
     "language": "python",
     "metadata": {},
     "outputs": [
      {
       "output_type": "stream",
       "stream": "stdout",
       "text": [
        "(0.5000000000000002, 1.4875911931534648e-08)\n"
       ]
      }
     ],
     "prompt_number": 13
    },
    {
     "cell_type": "markdown",
     "metadata": {},
     "source": [
      "Analytic solution is exactly 1/2, so again pretty good.\n",
      "\n",
      "We can calculate error by looking at diff. between exact and numerical values with"
     ]
    },
    {
     "cell_type": "code",
     "collapsed": false,
     "input": [
      "print abs(I[0]-0.5)"
     ],
     "language": "python",
     "metadata": {},
     "outputs": [
      {
       "output_type": "stream",
       "stream": "stdout",
       "text": [
        "2.22044604925e-16\n"
       ]
      }
     ],
     "prompt_number": 14
    },
    {
     "cell_type": "heading",
     "level": 2,
     "metadata": {},
     "source": [
      "Integrating array data"
     ]
    },
    {
     "cell_type": "markdown",
     "metadata": {},
     "source": [
      "To compute the integral for an array (e.g. thermistor res-temp data from interpolation lesson), you can't vary your choice  of N, the number of slices.\n",
      "\n",
      "There are three fns for integrating given only samples: trapz, simps, and romb. The first approximates the function as a straight line between adjacent points while simps approximates it b/w 3 adjacent points as a parabola. If samples are equally-spaced and the number of samples available is $2^k+1$ for some integer k, then Romberg integration can be used to obtain high-precision estimates of the integral using available samples."
     ]
    },
    {
     "cell_type": "heading",
     "level": 3,
     "metadata": {},
     "source": [
      "Applying simps to array data"
     ]
    },
    {
     "cell_type": "code",
     "collapsed": false,
     "input": [
      "x = np.arange(0,20,2)\n",
      "y = np.array([0,3,5,2,8,9,0,-3,4,9], dtype=float)\n",
      "plt.plot(x,y)\n",
      "\n",
      "#Show integration area as filled region\n",
      "plt.fill_between(x,y,y2=0,color='r',hatch='\\\\',alpha=0.2)\n",
      "\n",
      "plt.show()"
     ],
     "language": "python",
     "metadata": {},
     "outputs": [
      {
       "metadata": {},
       "output_type": "display_data",
       "png": "[encoded data removed]",
       "text": [
        "<matplotlib.figure.Figure at 0x6e1d970>"
       ]
      }
     ],
     "prompt_number": 43
    },
    {
     "cell_type": "code",
     "collapsed": false,
     "input": [
      "I = integrate.simps(y,x)\n",
      "print \"Simpson's Rule Integral for discrete samples =\",I"
     ],
     "language": "python",
     "metadata": {},
     "outputs": [
      {
       "output_type": "stream",
       "stream": "stdout",
       "text": [
        "Simpson's Rule Integral for discrete samples = 64.6666666667\n"
       ]
      }
     ],
     "prompt_number": 47
    },
    {
     "cell_type": "heading",
     "level": 2,
     "metadata": {},
     "source": [
      "Multiple Integrals"
     ]
    },
    {
     "cell_type": "markdown",
     "metadata": {},
     "source": [
      "Mult. integration can be handled using repeated calls to quad. This has been wrapped up into the functions dblquad and ttplquad. Use the help to be sure you define arguments in correct order."
     ]
    },
    {
     "cell_type": "heading",
     "level": 3,
     "metadata": {},
     "source": [
      "Double integrals using dblquad"
     ]
    },
    {
     "cell_type": "markdown",
     "metadata": {},
     "source": [
      "\\begin{equation}\n",
      "\\int_{x=\\pi}^{2\\pi}\\int_{y=0}^{\\pi}ysin(x)+xcos(y)dydx\n",
      "\\end{equation}\n",
      "\n",
      "To use dblquad we must provide callable functions for range of y-variable. In this case we create trivial lambda functions that return the constants. Note the order of the arguments in the integrand. If you put them out of order you will get the wrong answer."
     ]
    },
    {
     "cell_type": "code",
     "collapsed": false,
     "input": [
      "from scipy.integrate import dblquad\n",
      "\n",
      "#IMPORTANT! y must come first in integrand (see help)\n",
      "integrand = lambda y,x: y * np.sin(x) + x * np.cos(y)\n",
      "\n",
      "xmin = np.pi\n",
      "xmax = 2*np.pi\n",
      "\n",
      "#The callable functions for y limits are just constants in this case:\n",
      "ymin = lambda x : 0\n",
      "ymax = lambda x : np.pi\n",
      "\n",
      "#See help for correct order of arguments\n",
      "ans, err = dblquad(integrand, xmin, xmax, ymin, ymax)\n",
      "print \"The double integral is\",ans"
     ],
     "language": "python",
     "metadata": {},
     "outputs": [
      {
       "output_type": "stream",
       "stream": "stdout",
       "text": [
        "The double integral is -9.86960440109\n"
       ]
      }
     ],
     "prompt_number": 59
    },
    {
     "cell_type": "code",
     "collapsed": false,
     "input": [
      "help(dblquad)"
     ],
     "language": "python",
     "metadata": {},
     "outputs": [
      {
       "output_type": "stream",
       "stream": "stdout",
       "text": [
        "Help on function dblquad in module scipy.integrate.quadpack:\n",
        "\n",
        "dblquad(func, a, b, gfun, hfun, args=(), epsabs=1.49e-08, epsrel=1.49e-08)\n",
        "    Compute a double integral.\n",
        "    \n",
        "    Return the double (definite) integral of ``func(y, x)`` from ``x = a..b``\n",
        "    and ``y = gfun(x)..hfun(x)``.\n",
        "    \n",
        "    Parameters\n",
        "    ----------\n",
        "    func : callable\n",
        "        A Python function or method of at least two variables: y must be the\n",
        "        first argument and x the second argument.\n",
        "    (a,b) : tuple\n",
        "        The limits of integration in x: `a` < `b`\n",
        "    gfun : callable\n",
        "        The lower boundary curve in y which is a function taking a single\n",
        "        floating point argument (x) and returning a floating point result: a\n",
        "        lambda function can be useful here.\n",
        "    hfun : callable\n",
        "        The upper boundary curve in y (same requirements as `gfun`).\n",
        "    args : sequence, optional\n",
        "        Extra arguments to pass to `func`.\n",
        "    epsabs : float, optional\n",
        "        Absolute tolerance passed directly to the inner 1-D quadrature\n",
        "        integration. Default is 1.49e-8.\n",
        "    epsrel : float\n",
        "        Relative tolerance of the inner 1-D integrals. Default is 1.49e-8.\n",
        "    \n",
        "    Returns\n",
        "    -------\n",
        "    y : float\n",
        "        The resultant integral.\n",
        "    abserr : float\n",
        "        An estimate of the error.\n",
        "    \n",
        "    See also\n",
        "    --------\n",
        "    quad : single integral\n",
        "    tplquad : triple integral\n",
        "    nquad : N-dimensional integrals\n",
        "    fixed_quad : fixed-order Gaussian quadrature\n",
        "    quadrature : adaptive Gaussian quadrature\n",
        "    odeint : ODE integrator\n",
        "    ode : ODE integrator\n",
        "    simps : integrator for sampled data\n",
        "    romb : integrator for sampled data\n",
        "    scipy.special : for coefficients and roots of orthogonal polynomials\n",
        "\n"
       ]
      }
     ],
     "prompt_number": 55
    },
    {
     "cell_type": "heading",
     "level": 3,
     "metadata": {},
     "source": [
      "Triple integrals using tplquad"
     ]
    },
    {
     "cell_type": "markdown",
     "metadata": {},
     "source": [
      "\\begin{equation}\n",
      "\\int_{x=0}^{\\pi}\\int_{y=0}^1\\int_{z=-1}^1ysin(x)+zcos(x)dzdydx\n",
      "\\end{equation}"
     ]
    },
    {
     "cell_type": "code",
     "collapsed": false,
     "input": [
      "from scipy.integrate import tplquad\n",
      "\n",
      "#AGAIN: the order of arguments matters\n",
      "integrand = lambda z,y,x : y * np.sin(x) + z * np.cos(x)\n",
      "\n",
      "xmin = 0\n",
      "xmax = np.pi\n",
      "\n",
      "ymin = lambda x : 0\n",
      "ymax = lambda x : 1\n",
      "\n",
      "zmin = lambda x,y : -1\n",
      "zmax = lambda x,y : 1\n",
      "\n",
      "ans,err = tplquad(integrand, xmin, xmax, ymin, ymax, zmin, zmax)\n",
      "print \"The triple integral is =\",ans"
     ],
     "language": "python",
     "metadata": {},
     "outputs": [
      {
       "output_type": "stream",
       "stream": "stdout",
       "text": [
        "The triple integral is = 2.0\n"
       ]
      }
     ],
     "prompt_number": 60
    },
    {
     "cell_type": "heading",
     "level": 2,
     "metadata": {},
     "source": [
      "Monte Carlo Integration"
     ]
    },
    {
     "cell_type": "markdown",
     "metadata": {},
     "source": [
      "There is one other type of integration method, known as Monte Carlo Integration. This one is very useful because it easily extends to intgrating functions in any number of dimensions. In essence it uses a random sampling of points within a domain where our function is defined to estimate the area bounded by the function. We'll learn how it works in a subsequent lesson."
     ]
    },
    {
     "cell_type": "code",
     "collapsed": false,
     "input": [],
     "language": "python",
     "metadata": {},
     "outputs": []
    }
   ],
   "metadata": {}
  }
 ]
}