{
 "metadata": {
  "name": "",
  "signature": "sha256:37e343ed6cb8eb7df4f6ea167686874eb61a60d90565d108d605f4c6d8a41faf"
 },
 "nbformat": 3,
 "nbformat_minor": 0,
 "worksheets": [
  {
   "cells": [
    {
     "cell_type": "heading",
     "level": 1,
     "metadata": {},
     "source": [
      "Optimization Tour"
     ]
    },
    {
     "cell_type": "code",
     "collapsed": false,
     "input": [
      "%pylab inline\n",
      "import numpy as np\n",
      "import matplotlib.pyplot as plot"
     ],
     "language": "python",
     "metadata": {},
     "outputs": [
      {
       "output_type": "stream",
       "stream": "stdout",
       "text": [
        "Populating the interactive namespace from numpy and matplotlib\n"
       ]
      }
     ],
     "prompt_number": 1
    },
    {
     "cell_type": "heading",
     "level": 2,
     "metadata": {},
     "source": [
      "Linear Regression"
     ]
    },
    {
     "cell_type": "markdown",
     "metadata": {},
     "source": [
      "The solution to these problems is to minimize the sum of the squares of the deviations of the data points from the line. This technique is thus known as \"Least-squares\" minimization.\n",
      "\n",
      "We want to minimize the sum of the deviations of the data points from the line. The line is given by $y = mx + b$ so the vertical deviation of the $i^th$ data point ($x_i,y_i$) from the line is $\\delta_i = y_i - (mx_i + b)$. The sum of the squares of all these deviations is then\n",
      "\\begin{equation}\n",
      "\\chi^2 \\equiv \\sum_{i=1}^n \\delta_i^2 = \\sum_{i=1}^n\\left[y_i^2-2mx_iy_i-2by_i+m^2x_i^2+2mbx_i+b^2\\right]\n",
      "\\end{equation}\n",
      "\n",
      "We want to minimize $\\chi^2$, so we take the derivatives of $\\chi^2$ with respect to both m and b and set them equal to zero.\n",
      "\\begin{equation}\n",
      "\\frac{\\partial\\chi^2}{\\partial m} = 0 = -2\\sum_{i=1}^nx_iy_i + 2m\\sum{i=1}^nx_i^2 + 2b\\sum_{i=1}^nx_i\\\\\n",
      "\\frac{\\partial\\chi^2}{\\partial b} = 0 = -2\\sum_{i=1}^ny_i + 2m\\sum_{i=1}^nx_i + 2\\sum_{i=1}^nb\n",
      "\\end{equation}\n",
      "\n",
      "To simplify these, let's divide both by $n$ and make the following subs:\n",
      "\\begin{equation}\n",
      "\\left<x\\right>\\equiv\\frac{1}{n}\\sum_{i=1}^nx_i\\\\\n",
      "\\left<y\\right>\\equiv\\frac{1}{n}\\sum_{i=1}^ny_i\\\\\n",
      "\\left<x^2\\right>\\equiv\\frac{1}{n}\\sum_{i=1}^nx_i^2\\\\\n",
      "\\left<xy\\right>\\equiv\\frac{1}{n}\\sum_{i=1}^nx_iy_i\n",
      "\\end{equation}\n",
      "\n",
      "Rewriting our equations for the derivatives gives\n",
      "\n",
      "\\begin{equation}\n",
      "m\\left<x^2\\right> + b\\left<x\\right> = \\left<xy\\right>\n",
      "\\end{equation}\n",
      "\n",
      "and\n",
      "\n",
      "\\begin{equation}\n",
      "m\\left<x\\right> + b = \\left<y\\right>\n",
      "\\end{equation}\n",
      "\n",
      "Once the averages are calculated, these expressions form a system of two equations:\n",
      "\n",
      "\\begin{equation}\n",
      "\\left[\n",
      "\\begin{array}{cc}\\\\\n",
      "\\left<x^2\\right> & \\left<x\\right>\\\\\n",
      "\\left<x\\right> & 1\n",
      "\\end{array}\n",
      "\\right]\n",
      "\\left[\n",
      "\\begin{array}{c}\\\\\n",
      "m\\\\b\n",
      "\\end{array}\n",
      "\\right]\n",
      "=\n",
      "\\left[\n",
      "\\begin{array}{c}\\\\\n",
      "\\left<xy\\right>\\\\\\\n",
      "\\left<y\\right>\n",
      "\\end{array}\n",
      "\\right]\n",
      "\\end{equation}\n",
      "\n",
      "The solution is\n",
      "\n",
      "\\begin{equation}\n",
      "\\left[\\begin{array}{c}\\\n",
      "m\\\\b\n",
      "\\end{array}\\right]\n",
      "=\n",
      "\\left[\n",
      "\\begin{array}{cc}\\\\\n",
      "\\left<x^2\\right> & \\left<x\\right>\\\\\n",
      "\\left<x\\right> & 1\n",
      "\\end{array}\n",
      "\\right]\n",
      "\\left[\n",
      "\\begin{array}{c}\\\\\n",
      "m\\\\b\n",
      "\\end{array}\n",
      "\\right]^{-1}\n",
      "\\left[\n",
      "\\begin{array}{c}\\\\\n",
      "\\left<xy\\right>\\\\\\\n",
      "\\left<y\\right>\n",
      "\\end{array}\n",
      "\\right]\n",
      "\\end{equation}\n",
      "\n",
      "where\n",
      "\n",
      "\\begin{equation}\n",
      "\\left[\n",
      "\\begin{array}{cc}\\\\\n",
      "\\left<x^2\\right> & \\left<x\\right>\\\\\n",
      "\\left<x\\right> & 1\n",
      "\\end{array}\n",
      "\\right]\n",
      "\n",
      "\\left[\n",
      "\\begin{array}{c}\\\\\n",
      "m\\\\b\n",
      "\\end{array}\n",
      "\\right] ^{-1}\n",
      "\n",
      "=\n",
      "\n",
      "\\frac{1}{\\left<x^2\\right>}-\\left<x\\right>^2}\n",
      "\\left[\n",
      "\\begin{array}{cc}\\\\\n",
      "1 & -\\left<x\\right>\\\\\n",
      "-\\left<x\\right> & \\left<x^2\\right>\n",
      "\\end{array}\n",
      "\\right]\n",
      "\\end{equation}"
     ]
    },
    {
     "cell_type": "code",
     "collapsed": false,
     "input": [],
     "language": "python",
     "metadata": {},
     "outputs": []
    }
   ],
   "metadata": {}
  }
 ]
}