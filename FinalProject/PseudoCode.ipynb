{
 "metadata": {
  "name": "",
  "signature": "sha256:1b4d3e0093bad8e332ea599b8ce78e2964e285950695c5c2dabe52dfbb00331e"
 },
 "nbformat": 3,
 "nbformat_minor": 0,
 "worksheets": []
}