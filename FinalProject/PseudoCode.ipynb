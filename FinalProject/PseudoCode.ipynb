{
 "metadata": {
  "name": "",
  "signature": "sha256:2fcb9b1ed3e99d5da612d950aba84ad160e4bbb7024d405ab2cfe0d419fc70f2"
 },
 "nbformat": 3,
 "nbformat_minor": 0,
 "worksheets": [
  {
   "cells": [
    {
     "cell_type": "markdown",
     "metadata": {},
     "source": [
      "Global variables:\n",
      "\tgravitational constant;\n",
      "\ttimestep;\n",
      "\n",
      "Class Star {\n",
      "\n",
      "\tvariables:\n",
      "\t\txpos\n",
      "\t\typos\n",
      "\t\txvel\n",
      "\t\tyvel\n",
      "\n",
      "\tconstructor(x0, y0, initial velocity, radius(distance from black hole)):\n",
      "\n",
      "\tfunction move():\n",
      "\t\t//move advances the star\u2019s position over one time segment\n",
      "\t\t\n",
      "\tfunction show():\n",
      "\t\t//displays the star\n",
      "\n",
      "}\n",
      "\n",
      "Class BlackHole {\n",
      "\t\n",
      "\tvariables:\n",
      "\t\txpos\n",
      "\t\typos\n",
      "\t\txvel\n",
      "\t\tyvel\n",
      "\t\tmass\n",
      "\t\tstars[]\n",
      "\n",
      "\tconstructor(x0, y0, initial velocity, numStars):\n",
      "\t\t//set initial conditions\n",
      "\t\t//Spawn all stars and add them to the stars array;\n",
      "\n",
      "\tfunction move(timestep t);\n",
      "\t\t//move the black hole\n",
      "\t\t// call move on each one of the stars\n",
      "\n",
      "\tfunction show();\n",
      "\t\t//show itself\n",
      "\t\t//call star.display for each star\n",
      "\n",
      "}\n",
      "\n",
      "\n",
      "\n",
      "Program flow:\n",
      "\n",
      "\tConstruct black holes and stars with initial conditions;\n",
      "\tloop:\n",
      "\t\tadvance one time step;\n",
      "\t\tgather data;\n",
      "\t\tdisplay results;\n"
     ]
    },
    {
     "cell_type": "code",
     "collapsed": false,
     "input": [],
     "language": "python",
     "metadata": {},
     "outputs": []
    }
   ],
   "metadata": {}
  }
 ]
}