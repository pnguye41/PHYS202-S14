{
 "metadata": {
  "name": "",
  "signature": "sha256:9caad49006fb0938add7b4c6a0cbbee7eb2c5352ed75c27b354ba0d66f2b65d4"
 },
 "nbformat": 3,
 "nbformat_minor": 0,
 "worksheets": [
  {
   "cells": [
    {
     "cell_type": "code",
     "collapsed": false,
     "input": [
      "import matplotlib.pyplot as plt\n",
      "from scipy.integrate import odeint\n",
      "import numpy as np\n",
      "\n",
      "G = 6.67e-11\n",
      "M = 1.989e41\n",
      "S = 1.989e41\n",
      "\n",
      "def disrupterMover(state,t):\n",
      "        f = np.zeros(4)\n",
      "        f[0] = state[2]\n",
      "        f[1] = state[3]\n",
      "        Rx = state[0]\n",
      "        Ry = state[1]\n",
      "        R = np.sqrt(Rx**2 + Ry**2)\n",
      "        f[2] = -G*((M+S)/(R**3))*R*np.cos(np.arctan2(Ry,Rx))\n",
      "        f[3] = -G*((M+S)/(R**3))*R*np.sin(np.arctan2(Ry,Rx))\n",
      "        return f\n",
      "\n",
      "dt = 1e15\n",
      "t = np.arange(0.,dt*20,dt)\n",
      "disrupter_init = [0, 1.5e21, 1e5, -1e5]\n",
      "disrupter = np.array(disrupter_init)\n",
      "result = odeint(disrupterMover,disrupter_init,t)\n",
      "disrupter = disrupter + [result[i,:] for i in range(20)]\n",
      "plt.scatter(result[:,0],result[:,1])\n",
      "plt.show()\n",
      "print disrupter\n",
      "\n",
      "def star_deriv(state,Rpos,t):\n",
      "    f = np.zeros(4)\n",
      "    f[0] = state[2]\n",
      "    f[1] = state[3]\n",
      "    Rx,Ry = Rpos[:,0:2]\n",
      "    print Rx\n",
      "    f[2] = -G*((M/(r**3))*r*np.cos(np.arctan2(ry,rx)) - (S/(p**3))*p*np.cos(np.arctan2(py,px)) + (S/(R**3))*R*np.cos(np.arctan2(Ry,Rx)))\n",
      "    f[3] = -G*((M/(r**3))*r*np.sin(np.arctan2(ry,rx)) - (S/(p**3))*p*np.sin(np.arctan2(py,px)) + (S/(R**3))*R*np.sin(np.arctan2(Ry,Rx)))\n"
     ],
     "language": "python",
     "metadata": {},
     "outputs": [
      {
       "output_type": "stream",
       "stream": "stdout",
       "text": [
        "[[  0.00000000e+00   3.00000000e+21   2.00000000e+05  -2.00000000e+05]\n",
        " [  9.98545541e+19   2.89382656e+21   1.99547810e+05  -2.12639995e+05]\n",
        " [  1.98695665e+20   2.77406235e+21   1.97887338e+05  -2.27257052e+05]\n",
        " [  2.95006894e+20   2.63848194e+21   1.94344684e+05  -2.44370439e+05]\n",
        " [  3.86383026e+20   2.48427161e+21   1.87767534e+05  -2.64636896e+05]\n",
        " [  4.68864421e+20   2.30791128e+21   1.76102899e+05  -2.88787198e+05]\n",
        " [  5.35667889e+20   2.10524831e+21   1.55572599e+05  -3.17233046e+05]\n",
        " [  5.74811403e+20   1.87245099e+21   1.19300030e+05  -3.48449620e+05]\n",
        " [  5.65533828e+20   1.61015780e+21   5.69312777e+04  -3.73625270e+05]\n",
        " [  4.78536522e+20   1.33558249e+21  -3.43664268e+04  -3.67289523e+05]\n",
        " [  2.98675401e+20   1.09509772e+21  -1.19238648e+05  -3.05004371e+05]\n",
        " [  5.80686430e+19   9.33881693e+20  -1.52853555e+05  -2.18049318e+05]\n",
        " [ -1.93598826e+20   8.52380814e+20  -1.46366178e+05  -1.49336421e+05]\n",
        " [ -4.30207024e+20   8.27068360e+20  -1.25923625e+05  -1.04721370e+05]\n",
        " [ -6.44920527e+20   8.37461531e+20  -1.03641331e+05  -7.66176255e+04]\n",
        " [ -8.38104298e+20   8.70513082e+20  -8.31195751e+04  -5.85628993e+04]\n",
        " [ -1.01198125e+21   9.18309212e+20  -6.50395750e+04  -4.66413148e+04]\n",
        " [ -1.16894849e+21   9.75950393e+20  -4.92500519e+04  -3.85896312e+04]\n",
        " [ -1.31113293e+21   1.04028990e+21  -3.54158364e+04  -3.30747030e+04]\n",
        " [ -1.44032077e+21   1.10922974e+21  -2.32052353e+04  -2.92830818e+04]]\n"
       ]
      }
     ],
     "prompt_number": 189
    },
    {
     "cell_type": "code",
     "collapsed": false,
     "input": [
      "import matplotlib.pyplot as plt\n",
      "from scipy.integrate import odeint\n",
      "import numpy as np\n",
      "\n",
      "def deriv(state,t):\n",
      "        G = 6.67384e-11\n",
      "        M = 1.989e42\n",
      "        S = 1.989e42\n",
      "        Rx = state[4]\n",
      "        Ry = state[5]\n",
      "        R = np.sqrt(state[4]**2 + state[5]**2)\n",
      "        \n",
      "        f = np.zeros(8)\n",
      "        f[0] = state[2]\n",
      "        f[1] = state[3]\n",
      "        f[4] = state[6]\n",
      "        f[5] = state[7]\n",
      "        rx = state[0]\n",
      "        ry = state[1]\n",
      "        r = np.sqrt(rx**2 + ry**2)\n",
      "        \n",
      "        px = state[4] - state[0]\n",
      "        py = state[5] - state[1]\n",
      "        p = np.sqrt(px**2 + py**2)\n",
      "        f[2] = -G*((M/(r**3))*rx - (S/(p**3))*px + (S/(R**3))*Rx)\n",
      "        f[3] = -G*((M/(r**3))*ry - (S/(p**3))*py + (S/(R**3))*Ry)\n",
      "        f[6] = -G*((M+S)/(R**3))*Rx\n",
      "        f[7] = -G*((M+S)/(R**3))*Ry\n",
      "        return f\n",
      "\n",
      "dt = 1e13\n",
      "t = np.arange(0.,dt*100,dt)\n",
      "start = [7.714e19,1.67012999e20,-2.78273421e05,1.60661234e5,2.e21,2.e21,0.,0.]\n",
      "print deriv(start,t)\n",
      "result = odeint(deriv,start,t)\n",
      "plt.plot(result[:,0],result[:,1])\n",
      "plt.xlim(-2e20,2e20)\n",
      "plt.ylim(-2e20,2e20)\n",
      "plt.grid()\n",
      "plt.show()"
     ],
     "language": "python",
     "metadata": {},
     "outputs": [
      {
       "output_type": "stream",
       "stream": "stdout",
       "text": [
        "[ -2.78273421e+05   1.60661234e+05  -1.64275197e-09  -3.55949104e-09\n",
        "   0.00000000e+00   0.00000000e+00  -2.34658119e-11  -2.34658119e-11]\n"
       ]
      }
     ],
     "prompt_number": 41
    },
    {
     "cell_type": "code",
     "collapsed": false,
     "input": [],
     "language": "python",
     "metadata": {},
     "outputs": []
    }
   ],
   "metadata": {}
  }
 ]
}