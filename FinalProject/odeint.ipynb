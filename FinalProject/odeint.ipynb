{
 "metadata": {
  "name": "",
  "signature": "sha256:a15cfe4e15de45d72b6279589c0438341bc31af44d169271d40da2eb64e3d0aa"
 },
 "nbformat": 3,
 "nbformat_minor": 0,
 "worksheets": [
  {
   "cells": [
    {
     "cell_type": "code",
     "collapsed": false,
     "input": [
      "import matplotlib.pyplot as plt\n",
      "from scipy.integrate import odeint\n",
      "import numpy as np\n",
      "\n",
      "def deriv(state,t):\n",
      "        G = 6.67e-11\n",
      "        M = 1.989e41\n",
      "        S = 1.989e41\n",
      "        Rx = state[4]\n",
      "        Ry = state[5]\n",
      "        R = np.sqrt(state[4]**2 + state[5]**2)\n",
      "        \n",
      "        f = np.zeros(8)\n",
      "        f[0] = state[2]\n",
      "        f[1] = state[3]\n",
      "        f[4] = state[6]\n",
      "        f[5] = state[7]\n",
      "        rx = state[0]\n",
      "        ry = state[1]\n",
      "        r = np.sqrt(rx**2 + ry**2)\n",
      "        \n",
      "        px = state[4] - state[0]\n",
      "        py = state[5] - state[1]\n",
      "        p = np.sqrt(px**2 + py**2)\n",
      "        \n",
      "        f[2] = -G*((M/(r**3))*r*np.cos(np.arctan2(ry,rx)) - (S/(p**3))*p*np.cos(np.arctan2(py,px)) + (S/(R**3))*R*np.cos(np.arctan2(Ry,Rx)))\n",
      "        f[3] = -G*((M/(r**3))*r*np.sin(np.arctan2(ry,rx)) - (S/(p**3))*p*np.sin(np.arctan2(py,px)) + (S/(R**3))*R*np.sin(np.arctan2(Ry,Rx)))\n",
      "        f[6] = -G*((M+S)/(R**3))*R*np.cos(np.arctan2(Ry,Rx))\n",
      "        f[7] = -G*((M+S)/(R**3))*R*np.sin(np.arctan2(Ry,Rx))\n",
      "        return f\n",
      "    \n",
      "dt = 3e15\n",
      "t = np.arange(0.,dt*4,dt)\n",
      "\n",
      "start = [1e20,1e20,1e3,1e3,1e21,1e21,10.,10.]\n",
      "result = odeint(deriv,start,t)\n",
      "print result"
     ],
     "language": "python",
     "metadata": {},
     "outputs": [
      {
       "output_type": "stream",
       "stream": "stdout",
       "text": [
        "Excess work done on this call (perhaps wrong Dfun type).\n",
        "Run with full_output = 1 to get quantitative information.\n",
        "[[  1.00000000e+020   1.00000000e+020   1.00000000e+003   1.00000000e+003\n",
        "    1.00000000e+021   1.00000000e+021   1.00000000e+001   1.00000000e+001]\n",
        " [  1.47416036e+012   1.47416036e+012  -2.52261256e+009  -2.52261256e+009\n",
        "    9.98758618e+020   9.98758618e+020  -4.82904512e+003  -4.82904512e+003]\n",
        " [  1.08668785e-019   6.09085988e+289   2.51294281e-306   1.17995061e-308\n",
        "    4.94719410e+173   2.49209561e-306   1.45862808e-308   5.55753446e-263]\n",
        " [  1.45807211e-308   2.10279330e-309   2.50521138e-292   1.02779291e-308\n",
        "    6.73607379e-310   4.94719345e+173   4.96289784e+173   2.68746415e-317]]\n"
       ]
      }
     ],
     "prompt_number": 6
    },
    {
     "cell_type": "code",
     "collapsed": false,
     "input": [],
     "language": "python",
     "metadata": {},
     "outputs": []
    }
   ],
   "metadata": {}
  }
 ]
}