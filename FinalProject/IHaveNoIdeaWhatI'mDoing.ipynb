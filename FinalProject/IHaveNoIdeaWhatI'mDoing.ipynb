{
 "metadata": {
  "name": "",
  "signature": "sha256:2e2c2abc6255efd0354c00b56a0afc8f63c3f7e63ea2e586b081a3a9579cad4a"
 },
 "nbformat": 3,
 "nbformat_minor": 0,
 "worksheets": [
  {
   "cells": [
    {
     "cell_type": "heading",
     "level": 1,
     "metadata": {},
     "source": [
      "Or Maybe I Do..."
     ]
    },
    {
     "cell_type": "heading",
     "level": 3,
     "metadata": {},
     "source": [
      "Classes"
     ]
    },
    {
     "cell_type": "markdown",
     "metadata": {},
     "source": [
      "Global variables:\n",
      "\tgravitational constant;\n",
      "\ttimestep;\n",
      "\n",
      "Class Star {\n",
      "\n",
      "\tvariables:\n",
      "\t\txpos\n",
      "\t\typos\n",
      "\t\txvel\n",
      "\t\tyvel\n",
      "\n",
      "\tconstructor(x0, y0, initial velocity, radius(distance from black hole)):\n",
      "\n",
      "\tfunction move():\n",
      "\t\t//move advances the star\u2019s position over one time segment\n",
      "\t\t\n",
      "\tfunction show():\n",
      "\t\t//displays the star\n",
      "\n",
      "}\n",
      "\n",
      "Class BlackHole {\n",
      "\t\n",
      "\tvariables:\n",
      "\t\txpos\n",
      "\t\typos\n",
      "\t\txvel\n",
      "\t\tyvel\n",
      "\t\tmass\n",
      "\t\tstars[]\n",
      "\n",
      "\tconstructor(x0, y0, initial velocity, numStars):\n",
      "\t\t//set initial conditions\n",
      "\t\t//Spawn all stars and add them to the stars array;\n",
      "\n",
      "\tfunction move(timestep t);\n",
      "\t\t//move the black hole\n",
      "\t\t// call move on each one of the stars\n",
      "\n",
      "\tfunction show();\n",
      "\t\t//show itself\n",
      "\t\t//call star.display for each star\n",
      "\n",
      "}\n",
      "\n",
      "\n",
      "\n",
      "Program flow:\n",
      "\n",
      "\tConstruct black holes and stars with initial conditions;\n",
      "\tloop:\n",
      "\t\tadvance one time step;\n",
      "\t\tgather data;\n",
      "\t\tdisplay results;\n"
     ]
    },
    {
     "cell_type": "heading",
     "level": 3,
     "metadata": {},
     "source": [
      "Animation"
     ]
    },
    {
     "cell_type": "markdown",
     "metadata": {},
     "source": [
      "http://jakevdp.github.io/blog/2012/08/18/matplotlib-animation-tutorial/ "
     ]
    },
    {
     "cell_type": "heading",
     "level": 3,
     "metadata": {},
     "source": [
      "Example Orbit Code"
     ]
    },
    {
     "cell_type": "code",
     "collapsed": false,
     "input": [
      "#@author: Cody Jones\n",
      "import numpy as np\n",
      "from matplotlib import pyplot as plt\n",
      "from scipy.integrate import odeint\n",
      "\n",
      "C = -4 # a constant which is a combo of the grav const, masses, etc.\n",
      "timeLimit = 99\n",
      "\n",
      "# format [x velocity, x position, y velocity, y position]\n",
      "loc = [1, 10, 2, 5] # initial values\n",
      "\n",
      "# function used by odeint which returns various derivatives\n",
      "def R(r, t):\n",
      "    xaccel = np.cos(np.arctan2(r[3], r[1])) * (C / (r[1]**2 + r[3]**2)**.5); \n",
      "    xvel = r[0];\n",
      "    yaccel = np.sin(np.arctan2(r[3], r[1])) * C / (r[1]**2 + r[3]**2)**.5;\n",
      "    yvel = r[2];\n",
      "    \n",
      "    return np.array([xaccel, xvel, yaccel, yvel])\n",
      "\n",
      "loc = odeint(R, loc, np.linspace(0, timeLimit, timeLimit + 1));\n",
      "    \n",
      "x = loc[:,1]; # extracts the x values from loc\n",
      "y = loc[:,3]; # extracts the y values from loc\n",
      "\n",
      "plt.plot(x, y); #plot trajectory\n",
      "plt.scatter(0, 0, s=400, c = 'r') #center of galaxy\n",
      "plt.annotate(\"t = 0\", xy = (loc[1, 1], loc[1,3]), xytext=(loc[1, 1] + 2, loc[1,3]- 15), \\\n",
      "            arrowprops=dict(facecolor='black', shrink=0.05, width=.5)); #label start\n",
      "plt.grid();\n",
      "plt.show();\n",
      "\n",
      "\n"
     ],
     "language": "python",
     "metadata": {},
     "outputs": [],
     "prompt_number": 11
    },
    {
     "cell_type": "code",
     "collapsed": false,
     "input": [],
     "language": "python",
     "metadata": {},
     "outputs": []
    }
   ],
   "metadata": {}
  }
 ]
}