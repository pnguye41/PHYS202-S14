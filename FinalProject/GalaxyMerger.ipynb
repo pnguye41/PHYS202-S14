{
 "metadata": {
  "name": "",
  "signature": "sha256:ec550e10ee6965af6a65c5f6b10c707177bf3f39dc8e5e29b2a8e76514296871"
 },
 "nbformat": 3,
 "nbformat_minor": 0,
 "worksheets": [
  {
   "cells": [
    {
     "cell_type": "heading",
     "level": 1,
     "metadata": {},
     "source": [
      "Galaxy Merger Final Project"
     ]
    },
    {
     "cell_type": "code",
     "collapsed": false,
     "input": [],
     "language": "python",
     "metadata": {},
     "outputs": []
    }
   ],
   "metadata": {}
  }
 ]
}