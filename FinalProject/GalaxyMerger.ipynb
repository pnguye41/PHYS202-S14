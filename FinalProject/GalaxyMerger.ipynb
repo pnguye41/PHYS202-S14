{
 "metadata": {
  "name": "",
  "signature": "sha256:7aa75fc8d44adcffb404e9881e4b54d4f8f298e99a957911c35c18e4a61bb67d"
 },
 "nbformat": 3,
 "nbformat_minor": 0,
 "worksheets": [
  {
   "cells": [
    {
     "cell_type": "heading",
     "level": 1,
     "metadata": {},
     "source": [
      "Galaxy Merger Final Project"
     ]
    },
    {
     "cell_type": "code",
     "collapsed": false,
     "input": [
      "G = 6.67384e-11 #(m^3)(k^-1)(s^-2)\n",
      "dt = \n",
      "\n",
      "class Star(object):\n",
      "    def __init__(self,xpos,ypos,xvel,yvel):\n",
      "        self.xpos = xpos\n",
      "        self.ypos = ypos\n",
      "        self.xvel = xvel\n",
      "        self.yvel = yvel\n",
      "    def constructor(x0, y0, init_vel, radius):\n",
      "        \n",
      "    def move(star):\n",
      "        \n",
      "    def show(star):\n",
      "        \n"
     ],
     "language": "python",
     "metadata": {},
     "outputs": [],
     "prompt_number": 6
    },
    {
     "cell_type": "code",
     "collapsed": false,
     "input": [],
     "language": "python",
     "metadata": {},
     "outputs": []
    }
   ],
   "metadata": {}
  }
 ]
}